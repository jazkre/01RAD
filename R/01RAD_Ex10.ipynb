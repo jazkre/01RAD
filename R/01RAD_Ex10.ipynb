{
  "nbformat": 4,
  "nbformat_minor": 0,
  "metadata": {
    "colab": {
      "private_outputs": true,
      "provenance": [],
      "collapsed_sections": [
        "zJqrLQeZSnoe"
      ],
      "include_colab_link": true
    },
    "kernelspec": {
      "name": "ir",
      "display_name": "R"
    },
    "language_info": {
      "name": "R"
    }
  },
  "cells": [
    {
      "cell_type": "markdown",
      "metadata": {
        "id": "view-in-github",
        "colab_type": "text"
      },
      "source": [
        "<a href=\"https://colab.research.google.com/github/jazkre/01RAD/blob/main/R/01RAD_Ex10.ipynb\" target=\"_parent\"><img src=\"https://colab.research.google.com/assets/colab-badge.svg\" alt=\"Open In Colab\"/></a>"
      ]
    },
    {
      "cell_type": "markdown",
      "source": [
        "## 01RAD Exercise 10\n",
        "\n",
        "* Outliers\n",
        "* Leverages\n",
        "* Influence points and Influence Measures\n"
      ],
      "metadata": {
        "id": "XwNWnH1kRGa9"
      }
    },
    {
      "cell_type": "markdown",
      "source": [
        "zaujíma nás ako nájsť významné body (outliery, pákové b. ...) : ako ich nájsť, čo znamenajú, ako ovplyvňuju našu regresiu, ako s nimi pracovať, čo s nimi?\n"
      ],
      "metadata": {
        "id": "yoiGFF_4XfdJ"
      }
    },
    {
      "cell_type": "code",
      "source": [],
      "metadata": {
        "id": "3fcnP-xURGop"
      },
      "execution_count": null,
      "outputs": []
    },
    {
      "cell_type": "code",
      "source": [
        "# get requirements for this exercise (and previous ones)\n",
        "list_of_packages <- c(\"tidyverse\", \"lattice\", \"MASS\",\"graphics\",\"psych\",\n",
        "                      \"nortest\",\"lmtest\",\"leaps\",\"ISLR\",\"robustbase\",\"ggpubr\",\"gridExtra\", \"car\",\"GGally\") # \"car\",\"GGally\"\n",
        "missing_packages <- list_of_packages[!(list_of_packages %in% installed.packages()[,\"Package\"])]\n",
        "if(length(missing_packages)) install.packages(missing_packages)\n",
        "lapply(list_of_packages, library, character.only = TRUE)\n"
      ],
      "metadata": {
        "id": "4h3bzwACRBeU"
      },
      "execution_count": null,
      "outputs": []
    },
    {
      "cell_type": "code",
      "source": [
        "\n",
        "######################\n",
        "# check our settings\n",
        "getwd()\n",
        "#print(.libPaths())\n",
        "#print(sessionInfo())\n",
        "#print(version)\n",
        "\n",
        "# delete graphics\n",
        "#dev.off()\n",
        "#par(mfrow = c(1, 1))\n",
        "set.seed(4242)\n"
      ],
      "metadata": {
        "id": "NMfMJjmtTHZV"
      },
      "execution_count": null,
      "outputs": []
    },
    {
      "cell_type": "markdown",
      "source": [
        "Changing data points and play with lin regression\n"
      ],
      "metadata": {
        "id": "SUWRf81LTCsJ"
      }
    },
    {
      "cell_type": "code",
      "source": [
        "\n",
        "#Simulate data Y = beta1 + X2*beta2  + X3*beta3  + X4*beta4 + e\n",
        "# e ~ N(0,4)\n",
        "n=100\n",
        "p=4\n",
        "X0    = rep(1, times=n)\n",
        "X1    = rnorm(n,20,3)\n",
        "X2    = 10+rexp(n,0.1)\n",
        "X3    = 5+rbinom(n,15,0.2)\n",
        "beta0 = matrix(c(5,3,2,-5),nrow =4 , ncol = 1)\n",
        "e     = rnorm(n,0,4)\n",
        "X0    = cbind(X0,X1,X2,X3)\n",
        "Y     = X0%*%beta0 + e\n",
        "X     = cbind(X1,X2,X3)\n"
      ],
      "metadata": {
        "id": "UNfwnjCGTA1u"
      },
      "execution_count": null,
      "outputs": []
    },
    {
      "cell_type": "markdown",
      "source": [
        "β nepoznáme\n"
      ],
      "metadata": {
        "id": "eqQLI9tBaLtX"
      }
    },
    {
      "cell_type": "code",
      "source": [
        "\n",
        "# Create data.frame\n",
        "data0 = data.frame(cbind(Y,X))\n",
        "names(data0) = c(\"Y\",\"X1\",\"X2\",\"X3\")\n",
        "summary(data0)\n",
        "beta0\n"
      ],
      "metadata": {
        "id": "rPyWQg8yTABJ"
      },
      "execution_count": null,
      "outputs": []
    },
    {
      "cell_type": "code",
      "source": [
        "\n",
        "pairs(data0)\n",
        "pairs.panels(data0,smooth=F,lm=T,scale=T,pch=20)\n"
      ],
      "metadata": {
        "id": "ErCq9b0RS_z0"
      },
      "execution_count": null,
      "outputs": []
    },
    {
      "cell_type": "code",
      "source": [
        "\n",
        "# LM model 0\n",
        "m0 = lm(Y ~ X1 + X2 + X3, data = data0)\n",
        "summary(m0)\n",
        "op <- par(mfrow=c(2,3))\n",
        "plot(m0,which=1)\n",
        "plot(m0,which=2)\n",
        "plot(m0,which=3)\n",
        "plot(m0,which=4)\n",
        "plot(m0,which=5)\n",
        "plot(m0,which=6)\n",
        "par(op)\n"
      ],
      "metadata": {
        "id": "cLtL0KM6S_pm"
      },
      "execution_count": null,
      "outputs": []
    },
    {
      "cell_type": "code",
      "source": [
        "\n",
        "par(mfrow=c(1,1))\n",
        "spreadLevelPlot(m0, col=\"black\")\n",
        "avPlots(m0)\n"
      ],
      "metadata": {
        "id": "IWPL3OCpS_Ud"
      },
      "execution_count": null,
      "outputs": []
    },
    {
      "cell_type": "code",
      "source": [
        "\n",
        "# we know real error terms - we can sort them and compare with  residual plots\n",
        "sort(abs(e),index.return = T,decreasing = T)\n",
        "#\n",
        "sort(abs(resid(m0)),index.return = T,decreasing = T)\n"
      ],
      "metadata": {
        "id": "fSj3S62PS_BA"
      },
      "execution_count": null,
      "outputs": []
    },
    {
      "cell_type": "markdown",
      "source": [
        "zoradíme dáta podľa disturbancií (e)\n",
        "\n",
        "pak podľa residuí"
      ],
      "metadata": {
        "id": "Kk3CXYl7bMfw"
      }
    },
    {
      "cell_type": "code",
      "source": [
        "\n",
        "## Simple Regression ##\n",
        "# Add good outlying point\n",
        "X_0 = rbind(X,c(max(X[,1])+20,max(X[,2])+30,max(X[,3])+20))\n",
        "Y_0 = cbind(rep(1, times=(n+1)),X_0)%*%beta0+c(e,rnorm(1,0,4))\n",
        "par(mfrow = c(1, 1))\n",
        "plot(Y_0~X_0[,2],xlab = \"X\",ylab = \"Y\", main = \"Simple Regression with at least one influential point\")\n",
        "dim(X_0)\n"
      ],
      "metadata": {
        "id": "tmF8F9uMS-0y"
      },
      "execution_count": null,
      "outputs": []
    },
    {
      "cell_type": "markdown",
      "source": [],
      "metadata": {
        "id": "Uohdk2rAbpdI"
      }
    },
    {
      "cell_type": "code",
      "source": [
        "\n",
        "# Simple Regression - only X2 as independent variable\n",
        "m_0 = lm(Y_0 ~ X_0[,2])\n",
        "abline(m_0)\n",
        "pairs.panels(cbind(Y_0,X_0),smooth=F,lm=T,scale=T,pch=20)\n",
        "\n"
      ],
      "metadata": {
        "id": "8yldV-cPS-W1"
      },
      "execution_count": null,
      "outputs": []
    },
    {
      "cell_type": "code",
      "source": [
        "\n",
        "summary(m_0)\n",
        "op <- par(mfrow=c(2,2))\n",
        "plot(m_0)\n",
        "par(op)  \n"
      ],
      "metadata": {
        "id": "_n6wZUWCS9vG"
      },
      "execution_count": null,
      "outputs": []
    },
    {
      "cell_type": "markdown",
      "source": [
        "ten pridaný bod (outlier) nedokážeme odhaliť len pomocou residui - tam sa neprejavi\n",
        "\n"
      ],
      "metadata": {
        "id": "KTaDB17nb-rY"
      }
    },
    {
      "cell_type": "code",
      "source": [
        "\n",
        "par(mfrow = c(1, 1))\n",
        "spreadLevelPlot(m_0, col=\"black\")\n",
        "avPlots(m_0)\n"
      ],
      "metadata": {
        "id": "qU7x79eiS9jh"
      },
      "execution_count": null,
      "outputs": []
    },
    {
      "cell_type": "code",
      "source": [
        "\n",
        "# in multivariable regression\n",
        "avPlots(lm(Y_0 ~ X_0))\n",
        "summary(lm(Y_0 ~ X_0))"
      ],
      "metadata": {
        "id": "o-cV8j3iS9J9"
      },
      "execution_count": null,
      "outputs": []
    },
    {
      "cell_type": "markdown",
      "source": [
        "ten dolný obrázok scatterplotu : tam to vidíme. to vplyvne pozorovanie"
      ],
      "metadata": {
        "id": "qNxSdA7FcacP"
      }
    },
    {
      "cell_type": "code",
      "source": [
        "# Let's play with this added point\n",
        "\n",
        "# Change its Y value\n",
        "X_0 = rbind(X,c(max(X[,1])+1,max(X[,2])+1,max(X[,3])+1))\n",
        "Y_0 = rbind(Y,1)\n",
        "par(mfrow = c(1, 1))\n",
        "plot(Y_0~X_0[,2],xlab = \"X\",ylab = \"Y\", main = \"Simple Regression with at least one influential point\")\n",
        "dim(X_0)\n",
        "m_1Y = lm(Y_0 ~ X_0[,2])\n",
        "abline(m_1Y)\n",
        "pairs.panels(cbind(Y_0,X_0),smooth=F,lm=T,scale=T,pch=20)\n",
        "\n",
        "\n"
      ],
      "metadata": {
        "id": "chqRXU4qS6pR"
      },
      "execution_count": null,
      "outputs": []
    },
    {
      "cell_type": "code",
      "source": [
        "\n",
        "summary(m_1Y)\n",
        "op <- par(mfrow=c(2,2))\n",
        "plot(m_1Y)\n",
        "par(op)  \n",
        "\n"
      ],
      "metadata": {
        "id": "F8w_NSZQS6SV"
      },
      "execution_count": null,
      "outputs": []
    },
    {
      "cell_type": "markdown",
      "source": [
        "posunuli sme odozvu a teraz sa ten \"špatný bod premietol aj do rezidui. týmto by sme ho mali odhaliť\n",
        "\n",
        "čo ale teraz s ním?\n",
        "\n",
        "musíme zistiť, či tie dáta patria do datasetu. môžu to byť len zlé jednotky, alebo iná skupina (dá sa pridať premenná označujúca skupinu)"
      ],
      "metadata": {
        "id": "c8_8LNGpcoNf"
      }
    },
    {
      "cell_type": "code",
      "source": [
        "\n",
        "spreadLevelPlot(m_1Y, col=\"black\")\n",
        "avPlots(m_1Y)\n"
      ],
      "metadata": {
        "id": "ApJFPqe0S6Iw"
      },
      "execution_count": null,
      "outputs": []
    },
    {
      "cell_type": "code",
      "source": [
        "\n",
        "# in multivariable regression\n",
        "avPlots(lm(Y_0 ~ X_0))\n",
        "summary(lm(Y_0 ~ X_0))\n",
        "\n",
        "\n"
      ],
      "metadata": {
        "id": "nwJLU7PiS6AO"
      },
      "execution_count": null,
      "outputs": []
    },
    {
      "cell_type": "code",
      "source": [
        "\n",
        "# Change its X value\n",
        "X_0 = rbind(X,c(1,1,1),c(1,1,1),c(1,1,1),c(1,1,1),c(1,1,1),c(1,1,1),c(1,1,1),c(1,1,1))\n",
        "Y_0 = rbind(Y,125,126,124,127,128,126,123,130)\n",
        "par(mfrow = c(1, 1))\n",
        "plot(Y_0~X_0[,2],xlab = \"X\",ylab = \"Y\", main = \"Simple Regression with at least one influential point\")\n",
        "dim(X_0)\n",
        "m_1X = lm(Y_0 ~ X_0[,2])\n",
        "abline(m_1X)\n",
        "\n",
        "summary(m_1X)\n",
        "op <- par(mfrow=c(2,2))\n",
        "plot(m_1X)\n",
        "par(op)  \n",
        "\n",
        "par(mfrow = c(1, 1))\n",
        "spreadLevelPlot(m_1X, col=\"black\")\n",
        "avPlots(m_1X)\n",
        "\n",
        "\n"
      ],
      "metadata": {
        "id": "wmqCW2WxS5nw"
      },
      "execution_count": null,
      "outputs": []
    },
    {
      "cell_type": "code",
      "source": [
        "# Try to add more outliers next to each other\n",
        "\n",
        "# compare with  multivariable regression\n",
        "avPlots(lm(Y_0 ~ X_0))\n",
        "summary(lm(Y_0 ~ X_0))\n",
        "\n",
        "\n"
      ],
      "metadata": {
        "id": "FBCLYpoiS2s9"
      },
      "execution_count": null,
      "outputs": []
    },
    {
      "cell_type": "code",
      "source": [
        "\n",
        "# Add more leverages in more regressors         \n",
        "X_1 = X\n",
        "X_1[c(11,21,31),]\n",
        "X_1[11,1] = 2*X_1[11,1]\n",
        "X_1[21,2] = 2*X_1[21,2]\n",
        "X_1[31,3] = 2*X_1[31,3]\n"
      ],
      "metadata": {
        "id": "ahys4Gx-S2SQ"
      },
      "execution_count": null,
      "outputs": []
    },
    {
      "cell_type": "code",
      "source": [
        "\n",
        "op <- par(mfrow=c(1,3))\n",
        "plot(Y~X_1[,1],xlab = \"X1\",ylab = \"Y\", main = \"Scatterplot Y~X1\")\n",
        "plot(Y~X_1[,2],xlab = \"X2\",ylab = \"Y\", main = \"Scatterplot Y~X2\")\n",
        "plot(Y~X_1[,3],xlab = \"X3\",ylab = \"Y\", main = \"Scatterplot Y~X3\")\n",
        "par(op)\n"
      ],
      "metadata": {
        "id": "JBbJTbiWS1_x"
      },
      "execution_count": null,
      "outputs": []
    },
    {
      "cell_type": "code",
      "source": [
        "\n",
        "data_1 <- data.frame(cbind(Y,X_1))\n",
        "names(data_1) <- c(\"Y\",\"X1\",\"X2\",\"X3\")\n",
        "pairs.panels(data_1,smooth=F,lm=T,scale=T,pch=20)\n",
        "\n"
      ],
      "metadata": {
        "id": "Yzo3rCDHS10B"
      },
      "execution_count": null,
      "outputs": []
    },
    {
      "cell_type": "markdown",
      "source": [
        "zo scatterplottov to nie je uplne dobre vidieť. \n",
        "\n",
        "outliery nemusia byť hneď vidieť ´. Ale model to odhali"
      ],
      "metadata": {
        "id": "7gOt29AheJuy"
      }
    },
    {
      "cell_type": "code",
      "source": [
        "\n",
        "m1 = lm(Y ~ X_1)\n",
        "summary(m1)\n",
        "op <- par(mfrow=c(2,3))\n",
        "plot(m1,which=1)\n",
        "plot(m1,which=2)\n",
        "plot(m1,which=3)\n",
        "plot(m1,which=4)\n",
        "plot(m1,which=5)\n",
        "plot(m1,which=6)\n",
        "par(op)\n",
        "\n"
      ],
      "metadata": {
        "id": "FcpSJkJRS1cw"
      },
      "execution_count": null,
      "outputs": []
    },
    {
      "cell_type": "code",
      "source": [
        "\n",
        "op <- par(mfrow=c(1,1))\n",
        "spreadLevelPlot(m1, col=\"black\")\n",
        "avPlots(m1)\n"
      ],
      "metadata": {
        "id": "A9iAJWgTS1Pm"
      },
      "execution_count": null,
      "outputs": []
    },
    {
      "cell_type": "code",
      "source": [
        "\n",
        "# Add more outliers in response \n",
        "\n",
        "Y_2 = Y\n",
        "Y_2[c(12,22,32)]\n",
        "Y_2[12] =  2*Y_2[12]\n",
        "Y_2[22] =  2*Y_2[22]\n",
        "Y_2[32] =  2*Y_2[32]\n"
      ],
      "metadata": {
        "id": "6Cq4du--S05s"
      },
      "execution_count": null,
      "outputs": []
    },
    {
      "cell_type": "code",
      "source": [
        "\n",
        "m2 = lm(Y_2 ~ X)\n",
        "summary(m2)\n",
        "op <- par(mfrow=c(2,3))\n",
        "plot(m2,which=1)\n",
        "plot(m2,which=2)\n",
        "plot(m2,which=3)\n",
        "plot(m2,which=4)\n",
        "plot(m2,which=5)\n",
        "plot(m2,which=6)\n",
        "par(op)\n",
        "\n"
      ],
      "metadata": {
        "id": "N3eKWV-gS0jv"
      },
      "execution_count": null,
      "outputs": []
    },
    {
      "cell_type": "markdown",
      "source": [
        "v reziduach (1.obr) to vidím -> vidím, že tie dáta sú niečím iné\n",
        "\n",
        "zhoršil sa aj performance modelu (resid.error)"
      ],
      "metadata": {
        "id": "x5g7Dwzvelxi"
      }
    },
    {
      "cell_type": "code",
      "source": [
        "\n",
        "op <- par(mfrow=c(1,1))\n",
        "spreadLevelPlot(m2, col=\"black\")\n",
        "avPlots(m2)"
      ],
      "metadata": {
        "id": "gynxbdrNS0HR"
      },
      "execution_count": null,
      "outputs": []
    },
    {
      "cell_type": "code",
      "source": [
        "# Model with 3 leverages and 3 outliers\n",
        "\n",
        "m3 = lm(Y_2 ~ X_1,x=T,y=T,model=T)\n"
      ],
      "metadata": {
        "id": "K8LW4DNtSxoV"
      },
      "execution_count": null,
      "outputs": []
    },
    {
      "cell_type": "code",
      "source": [
        "\n",
        "summary(m3)\n",
        "op <- par(mfrow=c(2,2))\n",
        "plot(m3)\n",
        "par(op)\n"
      ],
      "metadata": {
        "id": "NsSji9XWSxah"
      },
      "execution_count": null,
      "outputs": []
    },
    {
      "cell_type": "code",
      "source": [
        "\n",
        "op <- par(mfrow=c(2,3))\n",
        "plot(m3,which=1)\n",
        "plot(m3,which=2)\n",
        "plot(m3,which=3)\n",
        "plot(m3,which=4)\n",
        "plot(m3,which=5)\n",
        "plot(m3,which=6)\n",
        "par(op)\n",
        "\n"
      ],
      "metadata": {
        "id": "vYBB48aLSxBv"
      },
      "execution_count": null,
      "outputs": []
    },
    {
      "cell_type": "code",
      "source": [
        "\n",
        "op <- par(mfrow=c(1,1))\n",
        "spreadLevelPlot(m3, col=\"black\")\n",
        "avPlots(m3)\n",
        "summary(lm(Y_2 ~ X_1))\n",
        "\n"
      ],
      "metadata": {
        "id": "gu8eQlOISwxK"
      },
      "execution_count": null,
      "outputs": []
    },
    {
      "cell_type": "markdown",
      "source": [
        "### influence.measures()\n",
        "\n",
        "Produces a class \"infl\" object tabular display showing  the DFBETAS for each model variable, DFFITS, covariance ratios, Cook's distances and the diagonal elements of the hat matrix."
      ],
      "metadata": {
        "id": "zJqrLQeZSnoe"
      }
    },
    {
      "cell_type": "code",
      "source": [
        "summary(influence.measures(m1))\n",
        "summary(influence.measures(m2))\n",
        "summary(influence.measures(m3))"
      ],
      "metadata": {
        "id": "wiqLtLaFSnNh"
      },
      "execution_count": null,
      "outputs": []
    },
    {
      "cell_type": "markdown",
      "source": [
        "dfb.1 dfbetas : "
      ],
      "metadata": {
        "id": "lHigF44hf0Au"
      }
    },
    {
      "cell_type": "code",
      "source": [
        "\n",
        "influence.measures(m3)"
      ],
      "metadata": {
        "id": "kaDT0bXBSwCB"
      },
      "execution_count": null,
      "outputs": []
    },
    {
      "cell_type": "code",
      "source": [
        "\n",
        "# diagonal elements of hat matrix\n",
        "X_1tX_1  <- t(X_1) %*% X_1 \n",
        "H <- X_1 %*% solve(X_1tX_1) %*% t(X_1)    \n",
        "H[1:5,1:5]\n",
        "tr(H)\n"
      ],
      "metadata": {
        "id": "-hhhjzxWSllD"
      },
      "execution_count": null,
      "outputs": []
    },
    {
      "cell_type": "code",
      "source": [
        "\n",
        "#Residual projection matrix\n",
        "M <- diag(dim(X_1)[1]) - H\n",
        "# diagonal elements of hat matrix without intercept\n",
        "diag(H)\n",
        "hat(X_1,intercept = F)\n",
        "# diagonal elements of hat matrix with intercept\n",
        "hat(X_1,intercept = T) \n",
        "hatvalues(m3)\n",
        "\n"
      ],
      "metadata": {
        "id": "9OeSh3koSlTT"
      },
      "execution_count": null,
      "outputs": []
    },
    {
      "cell_type": "code",
      "source": [
        "\n",
        "# leverage point\n",
        "# A diagonal element hat matrix H (h_{i,i}) is called the leverage of the i-th observation.\n",
        "# i-th observation is a leverage point if h_i,i >  3r\\n = sum(diag(H))\\n\n",
        "r = sum(hatvalues(m3)) # = rank(X)\n",
        "n = length(Y)\n",
        "leverage_level = 3*r/n #pravidlo palca\n",
        "leverage_level\n",
        "sum(hatvalues(m3) > leverage_level)\n",
        "data_1[hatvalues(m3) > leverage_level,]\n",
        "sort(hatvalues(m3))\n",
        "data_1[hatvalues(m3) > 0.1,]\n",
        "\n",
        "#dostaneme to samé ako summary(influence.measures(m3))\n"
      ],
      "metadata": {
        "id": "0uZK_y3TSkup"
      },
      "execution_count": null,
      "outputs": []
    },
    {
      "cell_type": "code",
      "source": [
        "\n",
        "#standardized residuals (Normovana rezidua)\n",
        "rstandard(m3)\n",
        "#abs(rstandard(m3)-resid(m3))\n"
      ],
      "metadata": {
        "id": "H8gOUYpuSkM3"
      },
      "execution_count": null,
      "outputs": []
    },
    {
      "cell_type": "code",
      "source": [
        "\n",
        "sigma_hat    = summary(m3)$sigma\n",
        "res          = summary(m3)$residuals\n",
        "h            = hatvalues(m3)\n",
        "m            = 1-hatvalues(m3)\n",
        "res_standard = res/(sigma_hat*sqrt(m))\n",
        "\n",
        "sort(rstandard(m3))[1:10]\n",
        "sort(res_standard)[1:10]\n",
        "\n"
      ],
      "metadata": {
        "id": "RkuCjv64SjgR"
      },
      "execution_count": null,
      "outputs": []
    },
    {
      "cell_type": "code",
      "source": [
        "\n",
        "# Studentized residuals (studentizovana rezidua)\n",
        "rstudent(m3)\n",
        "sort(rstudent(m3))\n"
      ],
      "metadata": {
        "id": "7TjeaPCOSh6x"
      },
      "execution_count": null,
      "outputs": []
    },
    {
      "cell_type": "code",
      "source": [
        "\n",
        "res_deleted = resid(m3)/m  # Deleted residual Yi - hatY[i]\n",
        "#           = residuals(m3) / (1 - hatvalues(m3))\n",
        "SSe         = sum(resid(m3)^2)\n",
        "SSe_deleted = SSe - (resid(m3)^2)/m\n",
        "SSe_deleted == SSe - (SSe/(n-r))*res_standard^2\n",
        "MSe_deleted = SSe_deleted/(n-1-r)\n"
      ],
      "metadata": {
        "id": "RxI8Fy8pShg5"
      },
      "execution_count": null,
      "outputs": []
    },
    {
      "cell_type": "code",
      "source": [
        "res_student  = resid(m3)/(sqrt(MSe_deleted*m))\n",
        "res_student2 = sqrt((n-r-1)/(n-r-res_standard^2))*res_standard"
      ],
      "metadata": {
        "id": "nrvoTlpOSgLS"
      },
      "execution_count": null,
      "outputs": []
    },
    {
      "cell_type": "code",
      "source": [
        "sort(rstudent(m3))[1:10]"
      ],
      "metadata": {
        "id": "BnTEoXVjSc7R"
      },
      "execution_count": null,
      "outputs": []
    },
    {
      "cell_type": "code",
      "source": [
        "sort(res_student)[1:10]"
      ],
      "metadata": {
        "id": "uiK4cndHSdn3"
      },
      "execution_count": null,
      "outputs": []
    },
    {
      "cell_type": "code",
      "source": [
        "sort(res_student2)[1:10]"
      ],
      "metadata": {
        "id": "P8v2rVsZSeaA"
      },
      "execution_count": null,
      "outputs": []
    },
    {
      "cell_type": "code",
      "source": [
        "\n",
        "sort(abs(rstudent(m3)),decreasing = T)[1:10]\n",
        "\n",
        "\n"
      ],
      "metadata": {
        "id": "yGDDvi_uScRR"
      },
      "execution_count": null,
      "outputs": []
    },
    {
      "cell_type": "markdown",
      "source": [
        "porovnáme, možeme urobiť ttest"
      ],
      "metadata": {
        "id": "oS8j-vC7j6wP"
      }
    },
    {
      "cell_type": "code",
      "source": [
        "\n",
        "#dfbeta displays effect on coefficients of deleting each observation in turn\n",
        "dfbeta(m3)\n",
        "dfbetaPlots(m3)\n",
        "\n",
        "apply(abs(dfbeta(m3)), 2, summary)\n",
        "\n",
        "\n"
      ],
      "metadata": {
        "id": "DoSW7eTeSaw-"
      },
      "execution_count": null,
      "outputs": []
    },
    {
      "cell_type": "code",
      "source": [
        "\n",
        "#dfbetas displayseffect on coefficients of deleting each observation in turn,\n",
        "#  standardized by a deleted estimate of the coefficient standard error\n",
        "dfbetas(m3)\n",
        "dfbetasPlots(m3)\n",
        "\n",
        "apply(abs(dfbetas(m3)), 2, summary)\n",
        "\n",
        "dfbetas(m3)[abs(dfbetas(m3)[, 2])>0.1,]\n",
        "dfbetas(m3)[abs(dfbetas(m3)[, 3])>0.1,]\n",
        "dfbetas(m3)[abs(dfbetas(m3)[, 4])>0.1,]\n",
        "# i-th observation is influential with respect to the OLS of the j-th regression coefficient\n",
        "# if abs(dfbetas_ij) > 1\n"
      ],
      "metadata": {
        "id": "TywFNHkUSaCc"
      },
      "execution_count": null,
      "outputs": []
    },
    {
      "cell_type": "code",
      "source": [
        "\n",
        "# handy \n",
        "#dfbetas_hand = (t((resid(m3)/m)*(solve(t(m3$x)%*%m3$x))%*%t(m3$x))/sqrt(MSe_deleted))/sqrt(diag(solve(t(m3$x)%*%m3$x)))\n",
        "\n"
      ],
      "metadata": {
        "id": "NkjOAw3GSZhk"
      },
      "execution_count": null,
      "outputs": []
    },
    {
      "cell_type": "code",
      "source": [
        "\n",
        "# dffits statistics\n",
        "dffits(m3)\n",
        "sort(abs(dffits(m3)),decreasing = T)[1:10]\n"
      ],
      "metadata": {
        "id": "4o2-_sHlSZPS"
      },
      "execution_count": null,
      "outputs": []
    },
    {
      "cell_type": "markdown",
      "source": [],
      "metadata": {
        "id": "5U_LSqx3k7C-"
      }
    },
    {
      "cell_type": "code",
      "source": [
        "\n",
        "# handy\n",
        "dffits_hand = sqrt(hatvalues(m3)/(1-hatvalues(m3)))*rstudent(m3) # = (hatY - hatY[i])/sqrt(MSe[-i]*h_tt)\n",
        "sort(abs(dffits_hand),decreasing = T)[1:10]\n"
      ],
      "metadata": {
        "id": "3fKdyJMNSY_I"
      },
      "execution_count": null,
      "outputs": []
    },
    {
      "cell_type": "code",
      "source": [
        "\n",
        "#observation excessively influences  if abs(dffits) > 3*sqrt(r/(n-r))\n",
        "dffits_level = 3*sqrt(r/(n-r))\n",
        "data_1[abs(dffits(m3)) > dffits_level,]\n",
        "\n",
        "# S in DFBETAS and DFFITTS means SCALED!!\n",
        "\n"
      ],
      "metadata": {
        "id": "b3tqvQzMSYxQ"
      },
      "execution_count": null,
      "outputs": []
    },
    {
      "cell_type": "code",
      "source": [
        "\n",
        "# covratio statistics: \n",
        "# ratio of determinants of covariance matrices of full and deleted (one-leave-out) model\n",
        "covratio(m3)\n",
        "sort(covratio(m3))\n",
        "#covratio_hand = (1/m)*  sqrt((n-r-1)/(n-r-res_standard^2))*res_standard\n",
        "# Infulence.measures shows the i-th observation as \"influencing\" if \n",
        "# abs(1-covratio) > 3*r/(n-r) \n",
        "# summary(influence.measures(m3))\n",
        "\n"
      ],
      "metadata": {
        "id": "73eq_UR3SWay"
      },
      "execution_count": null,
      "outputs": []
    },
    {
      "cell_type": "code",
      "source": [
        "\n",
        "#The i-th studentized residual follows the Student t-distribution with (n-r-1) DF\n",
        "# cooks distance\n",
        "cooks.distance(m3)\n",
        "sort(cooks.distance(m3),decreasing = T)\n"
      ],
      "metadata": {
        "id": "I0YzYy7xSVry"
      },
      "execution_count": null,
      "outputs": []
    },
    {
      "cell_type": "code",
      "source": [
        "\n",
        "cooks_hand = (h/(r*m))*rstandard(m3)^2\n",
        "# h_ii/m_ii is high for leverages points \n",
        "# rstandard(m3)^2 is high for outliers\n"
      ],
      "metadata": {
        "id": "lXFJZP09SUV9"
      },
      "execution_count": null,
      "outputs": []
    },
    {
      "cell_type": "code",
      "source": [
        "\n",
        "sort(cooks.distance(m3),decreasing = T)[1:10]\n",
        "sort(cooks_hand,decreasing = T)[1:10]\n",
        "# Infulence.measures shows the i-th observation as \"influencing\" if \n",
        "# Cook_dist > qf(0.5,r,n-r)\n"
      ],
      "metadata": {
        "id": "Z4bcIqU7SUGM"
      },
      "execution_count": null,
      "outputs": []
    },
    {
      "cell_type": "code",
      "source": [
        "\n",
        "plot(m3,which=5)\n",
        "plot(m3,which=6)"
      ],
      "metadata": {
        "id": "bapTLvoMSTcq"
      },
      "execution_count": null,
      "outputs": []
    },
    {
      "cell_type": "markdown",
      "source": [
        "### Summary \n",
        "\n",
        "* Don't panic if something is influential ;)\n",
        "* Occurence of outliers or leverage points does not necessarily mean a problem\n",
        "* Never delete influence points (outliers, leverages) without reason \n",
        "* To have \"nicer\" residuals  is not a reason\n",
        "* Outliers have to be explored and new model \"defended and EXPLAINED\"\n"
      ],
      "metadata": {
        "id": "DRe8OQLrSMLB"
      }
    },
    {
      "cell_type": "markdown",
      "source": [
        "## Exercise\n",
        "\n",
        "**Use Hertzsprung-Russell Diagram Data of Star Cluster CYG OB1**\n"
      ],
      "metadata": {
        "id": "ZRZnHmCDR-Cx"
      }
    },
    {
      "cell_type": "code",
      "source": [
        "? starsCYG\n",
        "summary(starsCYG)\n",
        "attach(starsCYG)\n",
        "pairs.panels(starsCYG,smooth=F,lm=T,scale=T,pch=20)\n"
      ],
      "metadata": {
        "id": "9HNozAMUR9jZ"
      },
      "execution_count": null,
      "outputs": []
    },
    {
      "cell_type": "code",
      "source": [
        "\n",
        "# HW: What does it mean if we swap independent and dependent varialbe?\n",
        "m_Te   <- (lm(log.Te    ~ log.light,data=starsCYG))\n",
        "m_light <-(lm(log.light ~ log.Te,   data=starsCYG))\n",
        "summary(m_Te)\n",
        "summary(m_light)\n"
      ],
      "metadata": {
        "id": "-R49_Az8R7_8"
      },
      "execution_count": null,
      "outputs": []
    },
    {
      "cell_type": "markdown",
      "source": [],
      "metadata": {
        "id": "_DqisLEGoiNe"
      }
    },
    {
      "cell_type": "code",
      "source": [
        "\n",
        "summary(influence.measures(m_Te))\n",
        "summary(influence.measures(m_light))\n"
      ],
      "metadata": {
        "id": "rm_xQOkdR7up"
      },
      "execution_count": null,
      "outputs": []
    },
    {
      "cell_type": "code",
      "source": [
        "\n",
        "round(sort(hatvalues(m_Te),decreasing = T)[1:10],4)\n",
        "round(sort(hatvalues(m_light),decreasing = T)[1:10],4)\n",
        "r = sum(hatvalues(m_Te))\n",
        "n = 47\n",
        "r/n\n",
        "\n"
      ],
      "metadata": {
        "id": "_WbUrKTmR7ii"
      },
      "execution_count": null,
      "outputs": []
    },
    {
      "cell_type": "code",
      "source": [
        "\n",
        "round(sort(dffits(m_Te),decreasing = T)[1:10],4)\n",
        "round(sort(dffits(m_light),decreasing = T)[1:10],4)\n",
        "3*sqrt(r/(n-r))\n",
        "starsCYG[abs(dffits(m_Te)) > 3*sqrt(r/(n-r)),]\n",
        "starsCYG[abs(dffits(m_light)) > 3*sqrt(r/(n-r)),]\n"
      ],
      "metadata": {
        "id": "hjYK8YOgR7Eg"
      },
      "execution_count": null,
      "outputs": []
    },
    {
      "cell_type": "code",
      "source": [
        "\n",
        "op <- par(mfrow=c(3,4))\n",
        "plot(m_Te,which=1)\n",
        "plot(m_Te,which=2)\n",
        "plot(m_Te,which=3)\n",
        "plot(m_Te,which=4)\n",
        "plot(m_Te,which=5)\n",
        "plot(m_Te,which=6)\n",
        "plot(m_light,which=1)\n",
        "plot(m_light,which=2)\n",
        "plot(m_light,which=3)\n",
        "plot(m_light,which=4)\n",
        "plot(m_light,which=5)\n",
        "plot(m_light,which=6)\n",
        "par(op)\n",
        "\n",
        "# try to find outliers, and use all identifiers as leverage, cook, dfbeta, dffit, rstudent, ...\n"
      ],
      "metadata": {
        "id": "oDazLau2R6sx"
      },
      "execution_count": null,
      "outputs": []
    },
    {
      "cell_type": "code",
      "source": [
        "\n",
        "# 2) Use Credit_out data - compare with model with credit date used two lectres ago\n",
        "\n",
        "Credit <- read.table(\"https://raw.githubusercontent.com/francji1/01RAD/main/data/Credit.csv\",header=TRUE,sep=\",\")\n",
        "head(Credit)"
      ],
      "metadata": {
        "id": "tWq1sGknR5uX"
      },
      "execution_count": null,
      "outputs": []
    },
    {
      "cell_type": "code",
      "source": [
        "\n",
        "Credit_out <- read.table(\"https://raw.githubusercontent.com/francji1/01RAD/main/data/Credit_out.csv\",header=TRUE,sep=\",\")\n",
        "head(Credit_out)\n",
        "\n",
        "#Credit     <- read.table(\"data/Credit.csv\", sep =\",\", header = T )\n",
        "#Credit_out <- read.table(\"data/Credit_out.csv\", sep =\",\", header = T )\n"
      ],
      "metadata": {
        "id": "Q5nzFfPlUj_G"
      },
      "execution_count": null,
      "outputs": []
    },
    {
      "cell_type": "code",
      "source": [
        "\n",
        "dim(Credit)\n",
        "dim(Credit_out)\n",
        "Credit_out[398:408,]\n",
        "# Analyze model with dataset with and without zeros in response varaible Balance\n",
        "m_c = lm(Balance~(.),data=Credit)\n",
        "m_co =lm(Balance~(.),data=Credit_out)\n",
        "summary(m_c)\n",
        "summary(m_co)\n"
      ],
      "metadata": {
        "id": "-ztdDaRfR5QL"
      },
      "execution_count": null,
      "outputs": []
    },
    {
      "cell_type": "code",
      "source": [
        "\n",
        "m_c = lm(Balance~Income+Limit+Cards+Student,data=Credit[Credit$Balance != 0,])\n",
        "m_co =lm(Balance~Income+Limit+Cards+Student,data=Credit_out[Credit$Balance != 0,])\n"
      ],
      "metadata": {
        "id": "dNdt15YER6OS"
      },
      "execution_count": null,
      "outputs": []
    },
    {
      "cell_type": "code",
      "source": [
        "summary(m_c)"
      ],
      "metadata": {
        "id": "-SeeQ8a_Rn2x"
      },
      "execution_count": null,
      "outputs": []
    },
    {
      "cell_type": "code",
      "source": [],
      "metadata": {
        "id": "IEgOdm7pRllR"
      },
      "execution_count": null,
      "outputs": []
    },
    {
      "cell_type": "code",
      "source": [
        "summary(m_co)"
      ],
      "metadata": {
        "id": "YAC-9mWwRlZ6"
      },
      "execution_count": null,
      "outputs": []
    },
    {
      "cell_type": "code",
      "source": [
        "summary(influence.measures(m_c))"
      ],
      "metadata": {
        "id": "xrig0URiRlD8"
      },
      "execution_count": null,
      "outputs": []
    },
    {
      "cell_type": "code",
      "source": [
        "summary(influence.measures(m_co))"
      ],
      "metadata": {
        "id": "woSxTESTRk0x"
      },
      "execution_count": null,
      "outputs": []
    },
    {
      "cell_type": "code",
      "source": [
        "\n",
        "op <- par(mfrow=c(3,4))\n",
        "plot(m_c,which=1)\n",
        "plot(m_c,which=2)\n",
        "plot(m_c,which=3)\n",
        "plot(m_c,which=4)\n",
        "plot(m_c,which=5)\n",
        "plot(m_c,which=6)\n",
        "plot(m_co,which=1)\n",
        "plot(m_co,which=2)\n",
        "plot(m_co,which=3)\n",
        "plot(m_co,which=4)\n",
        "plot(m_co,which=5)\n",
        "plot(m_co,which=6)\n",
        "par(op)"
      ],
      "metadata": {
        "id": "M5Amq7QgRj50"
      },
      "execution_count": null,
      "outputs": []
    },
    {
      "cell_type": "code",
      "source": [
        "\n",
        "A <-ggplot(m_c, aes(.fitted, .resid)) +\n",
        "  geom_point() +\n",
        "  geom_smooth(se = T)\n",
        "\n",
        "B <-ggplot(m_c, aes(.fitted, sqrt(abs(.stdresid)))) +\n",
        "  geom_point() +\n",
        "  geom_smooth(se = T)\n",
        "\n",
        "C <- ggplot(m_c) +\n",
        "  stat_qq(aes(sample = .stdresid)) +\n",
        "  geom_abline()\n",
        "\n",
        "D <- ggplot(m_c, aes(seq_along(.cooksd), .cooksd)) +\n",
        "  geom_col()\n",
        "\n",
        "E <- ggplot(m_c, aes(.hat, .stdresid)) +\n",
        "  geom_vline(size = 2, colour = \"white\", xintercept = 0) +\n",
        "  geom_hline(size = 2, colour = \"white\", yintercept = 0) +\n",
        "  geom_point(aes(size = .cooksd)) +\n",
        "  geom_smooth(se = FALSE, size = 0.5)\n",
        "\n",
        "F <- ggplot(m_c, aes(.hat, .cooksd)) +\n",
        "  geom_vline(xintercept = 0, colour = NA) +\n",
        "  geom_abline(slope = seq(0, 3, by = 0.5), colour = \"white\") +\n",
        "  geom_smooth(se = FALSE) +\n",
        "  geom_point(aes(size = .cooksd / .hat)) +\n",
        "  scale_size_area()\n"
      ],
      "metadata": {
        "id": "zjzTUFk1Ripd"
      },
      "execution_count": null,
      "outputs": []
    },
    {
      "cell_type": "code",
      "source": [
        "\n",
        "#library(gridExtra)\n",
        "# How to use grid.arrange\n",
        "# https://cran.r-project.org/web/packages/egg/vignettes/Ecosystem.html\n",
        "grid.arrange(A, B, C, D, E, F, nrow = 2)\n"
      ],
      "metadata": {
        "id": "wXdIGbaBRfRA"
      },
      "execution_count": null,
      "outputs": []
    },
    {
      "cell_type": "code",
      "source": [
        "\n",
        "#library(ggpubr)\n",
        "# How to use ggpubr\n",
        "# http://www.sthda.com/english/articles/24-ggpubr-publication-ready-plots/81-ggplot2-easy-way-to-mix-multiple-graphs-on-the-same-page/\n",
        "ggarrange(A, B, C,D,E, F + rremove(\"x.text\"), \n",
        "          labels = c(\"A\", \"B\", \"C\", \"D\", \"E\", \"F\"),\n",
        "          ncol = 3, nrow = 2)\n"
      ],
      "metadata": {
        "id": "5bXD9e8ERhfs"
      },
      "execution_count": null,
      "outputs": []
    },
    {
      "cell_type": "code",
      "source": [],
      "metadata": {
        "id": "dFuuvL13RFOz"
      },
      "execution_count": null,
      "outputs": []
    },
    {
      "cell_type": "code",
      "source": [],
      "metadata": {
        "id": "3E6kcng1RFRU"
      },
      "execution_count": null,
      "outputs": []
    }
  ]
}