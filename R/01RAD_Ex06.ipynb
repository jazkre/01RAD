{
  "nbformat": 4,
  "nbformat_minor": 0,
  "metadata": {
    "colab": {
      "private_outputs": true,
      "provenance": [],
      "collapsed_sections": [],
      "include_colab_link": true
    },
    "kernelspec": {
      "name": "ir",
      "display_name": "R"
    },
    "language_info": {
      "name": "R"
    }
  },
  "cells": [
    {
      "cell_type": "markdown",
      "metadata": {
        "id": "view-in-github",
        "colab_type": "text"
      },
      "source": [
        "<a href=\"https://colab.research.google.com/github/jazkre/01RAD/blob/main/R/01RAD_Ex06.ipynb\" target=\"_parent\"><img src=\"https://colab.research.google.com/assets/colab-badge.svg\" alt=\"Open In Colab\"/></a>"
      ]
    },
    {
      "cell_type": "markdown",
      "source": [
        "# 01RAD Exercise 06\n",
        "\n",
        "\n",
        "Today's exercise\n",
        " * Multivariable Regression models\n",
        " * Introduction to Residual Analysis and Posthoc Annalysis"
      ],
      "metadata": {
        "id": "abYvcKai_sv1"
      }
    },
    {
      "cell_type": "code",
      "source": [
        "# get requirements for this exercise\n",
        "list_of_packages <- c(\"tidyverse\", \"lattice\", \"pwr\", \"MASS\",\n",
        "                      \"GGally\",\"scatterplot3d\",\"gridExtra\",\n",
        "                      \"nortest\",\"lmtest\",\"colorspace\", \"car\",\"pracma\") # \"car\",\"colorspace\",\"RColorBrewer\",\"pracma\"\n",
        "missing_packages <- list_of_packages[!(list_of_packages %in% installed.packages()[,\"Package\"])]\n",
        "if(length(missing_packages)) install.packages(missing_packages)\n",
        "lapply(list_of_packages, library, character.only = TRUE)"
      ],
      "metadata": {
        "id": "aX5OF-I_Eok_"
      },
      "execution_count": null,
      "outputs": []
    },
    {
      "cell_type": "code",
      "source": [
        "######################\n",
        "# check our settings\n",
        "# getwd()\n",
        "# print(.libPaths())\n",
        "# print(sessionInfo())\n",
        "print(version)\n",
        "\n",
        "tibble::tibble(\n",
        "  Package = names(installed.packages()[,3]),\n",
        "  Version = unname(installed.packages()[,3])\n",
        ")\n"
      ],
      "metadata": {
        "id": "opBldgQGH_j3"
      },
      "execution_count": null,
      "outputs": []
    },
    {
      "cell_type": "markdown",
      "source": [
        "##  Multiple regression intro\n"
      ],
      "metadata": {
        "id": "ReczPIaOya39"
      }
    },
    {
      "cell_type": "code",
      "source": [
        "# We use again trees data to present Multivariable linear regression \n",
        "data(\"trees\")\n",
        "head(trees)"
      ],
      "metadata": {
        "id": "fd1Am4n2Eooq"
      },
      "execution_count": null,
      "outputs": []
    },
    {
      "cell_type": "code",
      "source": [
        "str(trees)\n",
        "summary(trees)\n",
        "dim(trees)"
      ],
      "metadata": {
        "id": "KAQIBL4Syl4K"
      },
      "execution_count": null,
      "outputs": []
    },
    {
      "cell_type": "code",
      "source": [
        "# Lets boost our data.frame and add tree species\n",
        "# We generate them random:\n",
        "set.seed(20)\n",
        "\n",
        "# Based on binomial ditribution\n",
        "#trees$Species <- factor(rbinom(nrow(trees),3,0.5)+1,\n",
        "#                         labels=(c(\"oak\",\"spruce\",\"maple\",\"pine\")))\n",
        "\n",
        "# Based on multinomial distribution with prob=c(0.3,0.3,0.2,0.2)\n",
        "trees$Species <- factor(max.col(t(rmultinom(nrow(trees),1,prob = c(0.3,0.3,0.2,0.2))), 'first'),\n",
        "                        labels=(c(\"oak\",\"spruce\",\"maple\",\"pine\")))\n",
        "summary(trees)\n",
        "# check what we generate with given seed: summary(lm(Volume ~ (.), data = trees))\n",
        "\n"
      ],
      "metadata": {
        "id": "UW6vLacHNWLe"
      },
      "execution_count": null,
      "outputs": []
    },
    {
      "cell_type": "markdown",
      "source": [
        "faktorová premenná- triedy\n"
      ],
      "metadata": {
        "id": "ey8n1XxD8Qgb"
      }
    },
    {
      "cell_type": "code",
      "source": [
        "# Delete and reset plotting settings\n",
        "dev.off()\n",
        "par(mfrow = c(1, 1))"
      ],
      "metadata": {
        "id": "nZOj1LPzNYCs"
      },
      "execution_count": null,
      "outputs": []
    },
    {
      "cell_type": "code",
      "source": [
        "# Set colors and graphics points from library(colorspace)\n",
        "PCH  <- c(15, 16, 17, 18)\n",
        "COL  <- heat_hcl(4)                                            \n",
        "BGC  <- diverge_hcl(4)\n",
        "#COL <- brewer.pal(nlevels(as.factor(trees$Species)), \"Set2\")  # from library(RColorBrewer)\n",
        "names(PCH) <- names(COL) <- names(BGC) <- levels(trees[, \"Species\"])\n",
        "Xlab <- \"Height [ft]\"\n",
        "Ylab <- \"Volume [cubic ft]\"\n",
        "Xlim <- range(trees[, \"Height\"])\n",
        "Ylim <- range(trees[, \"Volume\"])\n",
        "\n",
        "levels(trees$Species)\n",
        "summary(trees$Species)"
      ],
      "metadata": {
        "id": "n6SQGaGozBDW"
      },
      "execution_count": null,
      "outputs": []
    },
    {
      "cell_type": "code",
      "source": [
        "### SCATTERPLOTS\n",
        "\n",
        "## Basic scatterplot\n",
        "pairs(trees,  main=\"Basic Scatterplot Matrix\")                      # all variables in data tree\n",
        "pairs(~(.), data=trees,  main=\"Basic Scatterplot Matrix\")           # all variables in data tree \n",
        "pairs(~Girth+Volume,data=trees,  main=\"Basic Scatterplot Matrix\")   # Girth and Volume variables from data tree\n"
      ],
      "metadata": {
        "id": "DN5edyWINoKE"
      },
      "execution_count": null,
      "outputs": []
    },
    {
      "cell_type": "markdown",
      "source": [
        "je tam krásna lineárna závislosť"
      ],
      "metadata": {
        "id": "0w1N5P_v9kcw"
      }
    },
    {
      "cell_type": "code",
      "source": [
        "## Scatterplot Matrices  from lattice package\n",
        "splom(trees)  \n",
        "splom(trees, groups=trees$Species )  \n",
        "splom(trees[c(\"Girth\",\"Height\",\"Volume\")], groups=trees$Species )  \n"
      ],
      "metadata": {
        "id": "SzgOvjxoNmlc"
      },
      "execution_count": null,
      "outputs": []
    },
    {
      "cell_type": "code",
      "source": [
        "## Scatterplot Matrices from the car package\n",
        "scatterplotMatrix(~(.)|Species, data=trees,   main=\"Three Cylinder Options\")"
      ],
      "metadata": {
        "id": "JmBGcjT0NmJP"
      },
      "execution_count": null,
      "outputs": []
    },
    {
      "cell_type": "code",
      "source": [
        "# Tune colors and remove regression lines\n",
        "scatterplotMatrix(~(.)|Species, data=trees , \n",
        "                  reg.line=\"\" , smoother=\"\", col=COL , smoother.args=list(col=\"grey\") ,\n",
        "                  cex=1.5 , pch=PCH , main=\"Scatter plot with Three Cylinder Options\")"
      ],
      "metadata": {
        "id": "CaVOit-aNjsc"
      },
      "execution_count": null,
      "outputs": []
    },
    {
      "cell_type": "markdown",
      "source": [
        "prekladá 4 LM naraz \n"
      ],
      "metadata": {
        "id": "31US-Hv19zT9"
      }
    },
    {
      "cell_type": "code",
      "source": [
        "### Plot of Dependence of Trees Volume on Trees Height by Specises\n",
        "plot(Volume ~ Height, data = trees, \n",
        "     pch = PCH[Species], col = COL[Species], bg = BGC[Species],\n",
        "     xlab = Xlab, ylab = Ylab, main=\"Dependence of Trees Volume on Trees Height\")\n",
        "legend(63,75, legend = levels(trees[, \"Species\"]), pch = PCH, col = COL, pt.bg = BGC, y.intersp = 1.2)"
      ],
      "metadata": {
        "id": "73UHE41uNjF2"
      },
      "execution_count": null,
      "outputs": []
    },
    {
      "cell_type": "code",
      "source": [
        "### A ggplot2 generalized pairs plot from GGally (Extension to 'ggplot2')\n",
        "ggpairs(trees)"
      ],
      "metadata": {
        "id": "w49Rxqx7zjoo"
      },
      "execution_count": null,
      "outputs": []
    },
    {
      "cell_type": "code",
      "source": [
        "### Plots by categorical variable\n",
        "\n",
        "# xyplot (Species as factor)\n",
        "xyplot(Volume ~ Girth  | Species , data=trees , pch=20 , cex=2 , col=\"blue\" )\n",
        "xyplot(Volume ~ Height | Species , data=trees , pch=20 , cex=2 , col=\"blue\" )"
      ],
      "metadata": {
        "id": "lbwh4wDaNik_"
      },
      "execution_count": null,
      "outputs": []
    },
    {
      "cell_type": "markdown",
      "source": [
        "=> nechcem to odhadovať naraz, ale roztrhnem podľa príslušnosti a urobím zvlášť 4 jednoduché LM -> ale to može niesť k strate inf, horšie koef.\n"
      ],
      "metadata": {
        "id": "dOncSNJR-CgR"
      }
    },
    {
      "cell_type": "code",
      "source": [
        "# If species numeric\n",
        "is.factor(trees$Species)\n",
        "trees$Species <- as.numeric(trees$Species)\n",
        "is.factor(trees$Species)\n",
        "# Different \n",
        "xyplot(Volume ~ Girth | Species , data=trees , pch=20 , cex=2 , col=\"red\" )\n",
        "# back to factor variable :)\n",
        "trees$Species <- factor(trees$Species, labels=(c(\"oak\",\"spruce\",\"maple\",\"pine\")))\n",
        "summary(trees)"
      ],
      "metadata": {
        "id": "owdvMpRkNiAX"
      },
      "execution_count": null,
      "outputs": []
    },
    {
      "cell_type": "markdown",
      "source": [
        "tie čiary v hlavičách - . labels kde to spadá, do akej kategórie -> podľa levels(factor prem) jakoby na pravítku zárezy."
      ],
      "metadata": {
        "id": "i6u26Q7F-t7Y"
      }
    },
    {
      "cell_type": "code",
      "source": [
        "#Make the margin around each graph a bit smaller\n",
        "op <- par(mfrow=c(1,2),oma = c(0, 0, 2, 0))\n",
        "    # oma is a vector of the form c(bottom, left, top, right)\n",
        "    # giving the size of the outer margins in lines of text.\n",
        "\n",
        "#Classical histogram and density\n",
        "hist(trees$Volume,  main=\"\" , breaks=10 , col=\"gray\" , xlab=\"Volume\" , ylab=\"Number of trees in each bin\")\n",
        "hist(trees$Volume,  freq=F,  breaks=10, main=\"\", xlab=\"Volume\",xlim=c(-10, 100),ylim=c(0, 0.05))\n",
        "lines(density(trees$Volume, kernel = \"epanechnikov\"), col=\"red\", lwd=2)\n",
        "\n",
        "#Add only ONE title :\n",
        "mtext(\"Histogram and Density plot of Volume\", outer = TRUE, cex = 1.4, font=4, col=rgb(0.1,0.3,0.5,0.5) )\n",
        "## At end of plotting, reset to previous settings:\n",
        "par(op)\n"
      ],
      "metadata": {
        "id": "BB0-m9DhNhed"
      },
      "execution_count": null,
      "outputs": []
    },
    {
      "cell_type": "markdown",
      "source": [
        "jadrový odhad hustotu -> dens_estim : do každej x odhad funkcnej hodnoty, dens_estim\\$x ->tie body v ktorych to robim"
      ],
      "metadata": {
        "id": "rH1Rfl0F_OQh"
      }
    },
    {
      "cell_type": "code",
      "source": [
        "# are under the curve - polyarea integration by function from library(pracma)\n",
        "dens_estim <- density(trees$Volume, kernel = \"gauss\", from = 0, bw = 4) #kernel=\"epanechnikov\"\n",
        "trapz(dens_estim$x,dens_estim$y)"
      ],
      "metadata": {
        "id": "6iXRVRA4Ngx2"
      },
      "execution_count": null,
      "outputs": []
    },
    {
      "cell_type": "code",
      "source": [
        "summary(trees$Volume)"
      ],
      "metadata": {
        "id": "b16XkFrH0vwT"
      },
      "execution_count": null,
      "outputs": []
    },
    {
      "cell_type": "code",
      "source": [
        "#simulation from density estimation\n",
        "\n",
        "N = 10000\n",
        "x_new <- rnorm(N, sample(trees$Volume, size = N, replace = TRUE), dens_estim$bw)\n",
        "summary(x_new)\n",
        "plot(dens_estim)\n",
        "lines(density(x_new), col = \"blue\")\n",
        "\n"
      ],
      "metadata": {
        "id": "0cX8wQ6_NgdW"
      },
      "execution_count": null,
      "outputs": []
    },
    {
      "cell_type": "code",
      "source": [
        "# How to split screen (again?)\n",
        "# Divide the screen in 2 line and 1 column only\n",
        "new_screen_step1 <- split.screen(c(2, 1))\n",
        "# Add one graph on the screen number 1 which is on top :\n",
        "screen(new_screen_step1[1])\n",
        "plot( Volume~Girth , data=trees, pch=20 , xlab=\"Girth\",ylab=\"Volume\", cex=1 , col=\"black\" )\n",
        "# I divide the second screen in 2 columns :\n",
        "new_screen_step1=split.screen(c(1, 2), screen = new_screen_step1[2])\n",
        "screen(new_screen_step1[1])\n",
        "hist(trees$Girth , breaks = 8, border=F , col=\"blue\" , main=\"\" , xlab=\"Distribution of Girth\")\n",
        "screen(new_screen_step1[2])\n",
        "hist(trees$Volume, breaks = 8, border=F , col=\"red\" , main=\"\" ,  xlab=\"Distribution of Volume\")\n"
      ],
      "metadata": {
        "id": "Vp1SobtYNfxI"
      },
      "execution_count": null,
      "outputs": []
    },
    {
      "cell_type": "code",
      "source": [
        "table(trees$Height)\n",
        "trees$Height_fac<-cut(trees$Height, seq(60,90,10), right=FALSE) # cut creates cathegorical varaible\n",
        "is.factor(trees$Height_fac)\n",
        "summary(trees)\n"
      ],
      "metadata": {
        "id": "75isxTnKNfVs"
      },
      "execution_count": null,
      "outputs": []
    },
    {
      "cell_type": "code",
      "source": [
        "# ggplot version of scatterplot, where Color and shape depend on factor variable\n",
        "# multiplot with ggplot is different\n",
        "# more possibilities exist, here is only one\n",
        "par(mfrow = c(1, 1))\n",
        "plot1 <- ggplot(trees, aes(x=Girth, y=Volume, color=Species, shape=Species)) + \n",
        "    geom_point(size=5, alpha=0.8)  +   theme_bw() \n",
        "plot2 <- ggplot(trees, aes(x=Girth, y=Volume, color=Height_fac, size=Height)) + \n",
        "    geom_point(alpha=0.6) +   theme_bw() \n",
        "grid.arrange(plot1, plot2, ncol=2)\n",
        "\n",
        "# Reset plot settings\n",
        "#dev.new()\n",
        "dev.off()\n",
        "\n"
      ],
      "metadata": {
        "id": "vqyV6CJXNe3w"
      },
      "execution_count": null,
      "outputs": []
    },
    {
      "cell_type": "markdown",
      "source": [
        "### Lets start with regression"
      ],
      "metadata": {
        "id": "lA2mNIZZ1hby"
      }
    },
    {
      "cell_type": "code",
      "source": [
        "trees_lm1.0  <- lm(Volume ~  Species+Girth, data = trees)  # use Species and Girth only (aditive model)\n",
        "summary(trees_lm1.0)\n"
      ],
      "metadata": {
        "id": "slDXf0Bm1pnW"
      },
      "execution_count": null,
      "outputs": []
    },
    {
      "cell_type": "markdown",
      "source": [
        "lm( odozva ~ nezávislé premenné )\n",
        "  (objem závisí na druhy a obnodu)\n",
        "\n",
        "znamienka v pravej strane lm()\n",
        "\n",
        "  \\+ pridáva premennu\n",
        "  \n",
        "  \\: interakcia -> súčin premenných\n",
        "  \\* to mi to vezme aj samostatne aj v interakcií (kombinácia \\+ a \\:)\n",
        "\n",
        "  (.) vezme všetky premenné ale len s plusom \\+"
      ],
      "metadata": {
        "id": "s4j93mudBlMW"
      }
    },
    {
      "cell_type": "code",
      "source": [
        "#### Model selection by adding variables #########\n",
        "trees_lm1.0  <- lm(Volume ~ (.), data = trees)  # use all what I have in the dataframe\n",
        "summary(trees_lm1.0)"
      ],
      "metadata": {
        "id": "E1sRrFppNeQs"
      },
      "execution_count": null,
      "outputs": []
    },
    {
      "cell_type": "markdown",
      "source": [
        "oak je ukrytý v intercepte <- výpis ukazuje len 3 a nie 4 factor druhy"
      ],
      "metadata": {
        "id": "_miGs4Y0Dn8x"
      }
    },
    {
      "cell_type": "code",
      "source": [
        "trees_lm1.0  <- lm(Volume ~ (.)^2, data = trees)  # use all what I have in the dataframe \n",
        "                                                  # with second order interactions\n",
        "summary(trees_lm1.0)"
      ],
      "metadata": {
        "id": "TkcF1Nt11sgR"
      },
      "execution_count": null,
      "outputs": []
    },
    {
      "cell_type": "markdown",
      "source": [
        "keď násobíme numer:faktor -> prechod - ako sa to líši β1 od β 2\n",
        "\n",
        "NA-> nemám to v dátach, nemožno to odhadnúť"
      ],
      "metadata": {
        "id": "lGS74RJjE_NX"
      }
    },
    {
      "cell_type": "markdown",
      "source": [
        "**Question:** Why we have a row with NA in the previous summary table?"
      ],
      "metadata": {
        "id": "gFnrYiMR16vX"
      }
    },
    {
      "cell_type": "markdown",
      "source": [
        "Uff - Not this way, lets start from the simplest model. Only Girth and Height as a independent variable"
      ],
      "metadata": {
        "id": "HJywL1bm2Iy9"
      }
    },
    {
      "cell_type": "code",
      "source": [
        "trees_lm1.0  <- lm(Volume ~ Girth + Height, data = trees)  # use all what I have in the dataframe\n",
        "# nearly all information is in summary\n",
        "summary(trees_lm1.0)\n"
      ],
      "metadata": {
        "id": "F8mCTl_ONdyR"
      },
      "execution_count": null,
      "outputs": []
    },
    {
      "cell_type": "code",
      "source": [],
      "metadata": {
        "id": "T6yxotOh2QDI"
      },
      "execution_count": null,
      "outputs": []
    },
    {
      "cell_type": "code",
      "source": [
        "# Construct X,Y, beta_hat - if you want to analyze it by hand\n",
        "n = nrow(trees)\n",
        "p = length(coefficients(trees_lm1.0))\n",
        "beta_hat = as.matrix(coefficients(trees_lm1.0))\n",
        "X        = as.matrix(cbind(rep(1,times = n), trees[,c(1,2)]))\n",
        "Y        = as.matrix(trees[,3])\n",
        "residuals_lm1.0 = Y - X%*%beta_hat\n",
        "sum(((residuals_lm1.0 - residuals(trees_lm1.0))<0.00001))\n",
        "# and so on \n"
      ],
      "metadata": {
        "id": "KZmow2WJNdIw"
      },
      "execution_count": null,
      "outputs": []
    },
    {
      "cell_type": "code",
      "source": [
        "summary(trees)\n",
        "dim(trees)\n",
        "trees_new <- data.frame(Girth = (seq(5,25,0.1)), Height = seq(60,90,length=length(seq(5,25,0.1))))\n",
        "#trees_new <- data.frame(Girth = (rep(10,times=length(seq(5,25,0.1)))), Height = seq(60,90,length=length(seq(5,25,0.1))))\n"
      ],
      "metadata": {
        "id": "X1F4v1eJNctT"
      },
      "execution_count": null,
      "outputs": []
    },
    {
      "cell_type": "code",
      "source": [
        "conf_new  <- predict(trees_lm1.0, newdata = trees_new, interval = \"confidence\")\n",
        "pred_new  <- predict(trees_lm1.0, newdata = trees_new, interval = \"prediction\")\n",
        "height_lim = seq(60,90,length=length(seq(5,25,0.1)))\n"
      ],
      "metadata": {
        "id": "x57lp7VqNcNk"
      },
      "execution_count": null,
      "outputs": []
    },
    {
      "cell_type": "code",
      "source": [
        "op <- par(mfrow=c(1,2),oma = c(0, 0, 2, 0))\n",
        "\n",
        "plot(Volume ~ Girth, data = trees, xlim = c(5,25), ylim = c(5,100),pch=20, col = \"black\", xaxs=\"i\",yaxs=\"i\",\n",
        "     main=\"Trees data: Girth and Volume dependence\",xlab=\"Girth\", ylab=\"Volume\")\n",
        "lines(trees_new[,1], pred_new[,1], col='black')\n",
        "lines(trees_new[,1], pred_new[,2], col='red')\n",
        "lines(trees_new[,1], pred_new[,3], col='red')\n",
        "lines(trees_new[,1], conf_new[,2], col='blue')\n",
        "lines(trees_new[,1], conf_new[,3], col='blue')\n",
        "legend(\"topleft\",legend=c(\"observed\",\"fit\",\"Confidence int\",\"Prediction int\"),\n",
        "       pch=c(20,NA,NA,NA),lty = c(NA,1,1,1),col = c(\"black\",\"black\",\"blue\",\"red\"))\n",
        "\n",
        "plot(Volume ~ Height, data = trees, xlim = c(60,90), ylim = c(5,100),pch=20, col = \"black\", xaxs=\"i\",yaxs=\"i\",\n",
        "     main=\"Trees data: Height and Volume dependence\",xlab=\"Height\", ylab=\"Volume\")\n",
        "lines(height_lim, pred_new[,1], col='black')\n",
        "lines(height_lim, pred_new[,2], col='red')\n",
        "lines(height_lim, pred_new[,3], col='red')\n",
        "lines(height_lim, conf_new[,2], col='blue')\n",
        "lines(height_lim, conf_new[,3], col='blue')\n",
        "legend(\"topleft\",legend=c(\"observed\",\"fit\",\"Confidence int\",\"Prediction int\"),\n",
        "       pch=c(20,NA,NA,NA),lty = c(NA,1,1,1),col = c(\"black\",\"black\",\"blue\",\"red\"))\n",
        "\n",
        "par(op)\n",
        "\n"
      ],
      "metadata": {
        "id": "uAflN4y4NbKf"
      },
      "execution_count": null,
      "outputs": []
    },
    {
      "cell_type": "code",
      "source": [
        "#install.packages(\"modelr\")\n",
        "library(modelr)"
      ],
      "metadata": {
        "id": "5qM_UrPB4WgW"
      },
      "execution_count": null,
      "outputs": []
    },
    {
      "cell_type": "code",
      "source": [],
      "metadata": {
        "id": "lF13AWjQ4qhi"
      },
      "execution_count": null,
      "outputs": []
    },
    {
      "cell_type": "code",
      "source": [
        "trees %>% \n",
        "  ggplot(aes(Girth, Volume)) + \n",
        "  geom_line() + \n",
        "  ggtitle(\"Full data = \")\n",
        "\n",
        "mod_g <- lm(Volume ~ Girth, data = trees)\n",
        "trees %>% \n",
        "  add_predictions(mod_g) %>% #pridavame do dat predikcie\n",
        "  ggplot(aes(Girth, pred)) + \n",
        "  geom_line() + \n",
        "  ggtitle(\"Linear trend + \")\n",
        "\n",
        "trees %>% \n",
        "  add_residuals(mod_g) %>%  #pridat rezidua\n",
        "  ggplot(aes(Girth, resid)) + \n",
        "  geom_hline(yintercept = 0, colour = \"white\", size = 3) + \n",
        "  geom_line() + \n",
        "  ggtitle(\"Remaining pattern\")"
      ],
      "metadata": {
        "id": "55mwCxhe3sSK"
      },
      "execution_count": null,
      "outputs": []
    },
    {
      "cell_type": "code",
      "source": [
        "# Another design of scatterplot3d\n",
        "s3d <-with(trees,scatterplot3d(Girth, Height, Volume, pch=16,\n",
        "                               highlight.3d=TRUE, type=\"h\",\n",
        "                               main=\"3D Scatter Plot with Vertical Lines and Regression Planes\",\n",
        "                               angle=135,scale.y=1, xlab=\"Girth\",ylab=\"Height\",zlab=\"Volume\",\n",
        "                               cex.lab=1.5, cex.axis=1.5, cex.main=1.1, cex.sub=1.5))\n",
        "s3d$plane3d(trees_lm1.0)\n",
        "\n"
      ],
      "metadata": {
        "id": "LfNM1SuPNUTx"
      },
      "execution_count": null,
      "outputs": []
    },
    {
      "cell_type": "code",
      "source": [
        "# Comperable statistics of the model \n",
        "summary(trees_lm1.0)$r.squared\n",
        "summary(trees_lm1.0)$adj.r.squared\n",
        "summary(trees_lm1.0)$fstatistic\n",
        "\n"
      ],
      "metadata": {
        "id": "Fkg_A_sTNTeh"
      },
      "execution_count": null,
      "outputs": []
    },
    {
      "cell_type": "code",
      "source": [
        "# polynomila Regression without scaled varialbes \n",
        "trees_lm2.0 <- lm(Volume ~ (Height) + I((Girth)^2), data = trees)\n",
        "summary(trees_lm2.0)\n"
      ],
      "metadata": {
        "id": "HHBx-4biNTKb"
      },
      "execution_count": null,
      "outputs": []
    },
    {
      "cell_type": "code",
      "source": [
        "# polynomial Regression with scaled varialbes\n",
        "trees_lm2.1 <- lm(Volume ~ scale(Height) + I(scale(Girth)^2), data = trees)\n",
        "summary(trees_lm2.1)\n",
        "plot(Volume ~ scale(Girth), data = trees)\n",
        "lines(fitted(trees_lm2.1) ~ scale(Girth), data = trees)\n",
        "\n",
        "conf_new  <- predict(trees_lm2.1, newdata = trees_new, interval = \"confidence\")\n",
        "\n",
        "##############\n",
        "# Scaling and trasformations will be covered later \n",
        "############"
      ],
      "metadata": {
        "id": "5q2SYjTmNS3f"
      },
      "execution_count": null,
      "outputs": []
    },
    {
      "cell_type": "code",
      "source": [],
      "metadata": {
        "id": "MDTwQd4iNSLs"
      },
      "execution_count": null,
      "outputs": []
    },
    {
      "cell_type": "code",
      "source": [
        "\n",
        "# Qualitative Explanatory Variables - Species\n",
        "\n",
        "trees$Tall <- cut(trees$Height, breaks = c(-Inf, 76, Inf), labels = c(\"no\", \"yes\"))\n",
        "summary(trees)\n",
        "treesTall  <- split(trees, trees$Tall)\n",
        "trees_lm_Tall <- lm(Volume ~ Girth + Tall, data = trees)\n",
        "summary(trees_lm_Tall)\n",
        "treesTall[[\"yes\"]]$Fit <- predict(trees_lm_Tall, treesTall[[\"yes\"]])\n",
        "treesTall[[\"no\"]]$Fit  <- predict(trees_lm_Tall, treesTall[[\"no\"]])\n",
        "plot(Volume ~ Girth, data = trees, type = \"n\")\n",
        "points(Volume ~ Girth, data = treesTall[[\"yes\"]], pch = 1)\n",
        "points(Volume ~ Girth, data = treesTall[[\"no\"]], pch = 2)\n",
        "lines(Fit ~ Girth, data = treesTall[[\"yes\"]])\n",
        "lines(Fit ~ Girth, data = treesTall[[\"no\"]])\n",
        "\n"
      ],
      "metadata": {
        "id": "f8vViz-ONRXu"
      },
      "execution_count": null,
      "outputs": []
    },
    {
      "cell_type": "code",
      "source": [
        "# two different scales\n",
        "trees_lm_Tall1 <- lm(Volume ~ Girth, data = trees[trees$Tall==\"yes\",])\n",
        "trees_lm_Tall2 <- lm(Volume ~ Girth, data = trees[trees$Tall==\"no\",])\n",
        "treesTall[[\"yes\"]]$Fit1 <- predict(trees_lm_Tall1, treesTall[[\"yes\"]])\n",
        "treesTall[[\"no\"]]$Fit2  <- predict(trees_lm_Tall2, treesTall[[\"no\"]])\n",
        "plot(Volume ~ Girth, data = trees, type = \"n\")\n",
        "points(Volume ~ Girth, data = treesTall[[\"yes\"]], pch = 1)\n",
        "points(Volume ~ Girth, data = treesTall[[\"no\"]], pch = 2)\n",
        "lines(Fit1 ~ Girth, data = treesTall[[\"yes\"]])\n",
        "lines(Fit2 ~ Girth, data = treesTall[[\"no\"]])\n",
        "\n",
        "trees_lm_Tall3 <- lm(Volume ~ Girth*Tall, data = trees)\n",
        "summary(trees_lm_Tall3)\n",
        "summary(trees_lm_Tall2)\n",
        "summary(trees_lm_Tall1)\n"
      ],
      "metadata": {
        "id": "pgAYwQQINQ1m"
      },
      "execution_count": null,
      "outputs": []
    },
    {
      "cell_type": "code",
      "source": [
        "trees_lm_Tall_all <-lm(Volume ~ Girth * Tall, data=trees) #* lebo chceme aj interakcie\n",
        "summary(trees_lm_Tall_all)"
      ],
      "metadata": {
        "id": "mV_VX4LsL4jj"
      },
      "execution_count": null,
      "outputs": []
    }
  ]
}