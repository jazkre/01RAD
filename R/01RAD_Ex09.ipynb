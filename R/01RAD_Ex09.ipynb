{
  "nbformat": 4,
  "nbformat_minor": 0,
  "metadata": {
    "colab": {
      "private_outputs": true,
      "provenance": [],
      "include_colab_link": true
    },
    "kernelspec": {
      "name": "ir",
      "display_name": "R"
    },
    "language_info": {
      "name": "R"
    }
  },
  "cells": [
    {
      "cell_type": "markdown",
      "metadata": {
        "id": "view-in-github",
        "colab_type": "text"
      },
      "source": [
        "<a href=\"https://colab.research.google.com/github/jazkre/01RAD/blob/main/R/01RAD_Ex09.ipynb\" target=\"_parent\"><img src=\"https://colab.research.google.com/assets/colab-badge.svg\" alt=\"Open In Colab\"/></a>"
      ]
    },
    {
      "cell_type": "markdown",
      "source": [
        "# 01RAD Exercise 09\n",
        "\n",
        "\n",
        "Today's exercise\n",
        " * Recap of the HW from the last Exercise\n",
        " * Multivariable Regression models\n",
        " * Transformation of response variable\n",
        " * Residual Analysis and Posthoc Annalysis"
      ],
      "metadata": {
        "id": "abYvcKai_sv1"
      }
    },
    {
      "cell_type": "code",
      "source": [
        "# get requirements for this exercise\n",
        "list_of_packages <- c(\"tidyverse\", \"lattice\", \"pwr\", \"MASS\",\n",
        "                      \"GGally\",\"nortest\",\"lmtest\",\"car\") # \"colorspace\",\"RColorBrewer\",\"pracma\",\"olsrr\",\"leaps\",\"ISLR\"\n",
        "missing_packages <- list_of_packages[!(list_of_packages %in% installed.packages()[,\"Package\"])]\n",
        "if(length(missing_packages)) install.packages(missing_packages)\n",
        "lapply(list_of_packages, library, character.only = TRUE)"
      ],
      "metadata": {
        "id": "aX5OF-I_Eok_"
      },
      "execution_count": null,
      "outputs": []
    },
    {
      "cell_type": "code",
      "source": [
        "######################\n",
        "# check our settings\n",
        "# getwd()\n",
        "# print(.libPaths())\n",
        "# print(sessionInfo())\n",
        "print(version)\n",
        "\n",
        "tibble::tibble(\n",
        "  Package = names(installed.packages()[,3]),\n",
        "  Version = unname(installed.packages()[,3])\n",
        ")\n"
      ],
      "metadata": {
        "id": "opBldgQGH_j3"
      },
      "execution_count": null,
      "outputs": []
    },
    {
      "cell_type": "markdown",
      "source": [
        "##  Recap of the last HW\n"
      ],
      "metadata": {
        "id": "ReczPIaOya39"
      }
    },
    {
      "cell_type": "code",
      "source": [
        "cars04 <- read.table(\"https://raw.githubusercontent.com/francji1/01RAD/main/data/carsdata2.csv\",header=TRUE,sep=\";\")\n",
        "head(cars04)"
      ],
      "metadata": {
        "id": "rmCS9fWyg4Oc"
      },
      "execution_count": null,
      "outputs": []
    },
    {
      "cell_type": "code",
      "source": [
        "#  Data Wrangling\n",
        "str(cars04)"
      ],
      "metadata": {
        "id": "-nd_V8SCh5Kz"
      },
      "execution_count": null,
      "outputs": []
    },
    {
      "cell_type": "code",
      "source": [
        "# Check NA\n",
        "colSums(is.na(cars04))"
      ],
      "metadata": {
        "id": "DCLg8cKsjMB7"
      },
      "execution_count": null,
      "outputs": []
    },
    {
      "cell_type": "code",
      "source": [
        "cars04b <- cars04 %>% \n",
        "       mutate(consumption = 100/((1.60934*((CityMPG+HwyMPG)/2)/3.7854)),\n",
        "              type = case_when(\n",
        "                      Sedan ==1 ~ \"sedan\",\n",
        "                      Sports==1 ~ \"sport\",\n",
        "                      SUV==1    ~ \"suv\",\n",
        "                      Wagon==1|Minivan==1|Pickup==1 ~ \"minivan\") %>% as.factor,\n",
        "              wheel_drive = case_when(\n",
        "                      AWD == 1 ~ \"AWD\",\n",
        "                      RWD == 1 ~ \"RWD\")) %>% \n",
        "        replace_na(list(wheel_drive = \"FWD\")) %>% \n",
        "        mutate(wheel_drive = as.factor(wheel_drive)) %>%\n",
        "        dplyr::select(RetailPrice,type, consumption,wheel_drive,DealerCost,EngineSize,Cyl,HP,Weight,WheelBase,Len,Width)"
      ],
      "metadata": {
        "id": "RyzOtfdSjZ90"
      },
      "execution_count": null,
      "outputs": []
    },
    {
      "cell_type": "code",
      "source": [
        "summary(cars04b)\n"
      ],
      "metadata": {
        "id": "2_KTvC1hjlYr"
      },
      "execution_count": null,
      "outputs": []
    },
    {
      "cell_type": "code",
      "source": [
        "table(cars04b$Cyl)\n"
      ],
      "metadata": {
        "id": "FPGALDbUjq84"
      },
      "execution_count": null,
      "outputs": []
    },
    {
      "cell_type": "code",
      "source": [
        "cars04b <- cars04b %>% \n",
        "        filter(Cyl %in% c(4,6,8)) %>% \n",
        "        mutate(Cyl = as.factor(Cyl)) %>%\n",
        "        na.omit()\n",
        "summary(cars04b)\n",
        "table(cars04b$type)\n"
      ],
      "metadata": {
        "id": "0liZJhX5jnCB"
      },
      "execution_count": null,
      "outputs": []
    },
    {
      "cell_type": "code",
      "source": [
        "## Visual check of the dataset\n",
        "cars04b %>% dplyr::select(where(is.numeric)) %>% ggpairs()\n",
        "cars04b %>% dplyr::select(where(is.factor)) %>% ggpairs()\n"
      ],
      "metadata": {
        "id": "ejm1Ty-Xh4hA"
      },
      "execution_count": null,
      "outputs": []
    },
    {
      "cell_type": "markdown",
      "source": [
        "*Questions*\n",
        "* Build regression model and investigate \n",
        "  * Dependence of Weight on Enginesize (simple regression)\n",
        "  * Dependence of Weight on Enginesize + HP  (aditive multivariate regression)\n",
        "  * Dependence of Weight on Enginesize + HP + their interaction (multivariate regression)\n"
      ],
      "metadata": {
        "id": "yShvkB-LkUlL"
      }
    },
    {
      "cell_type": "code",
      "source": [
        "# Select only required variables and add \"intraction\"\n",
        "cars04b %>% \n",
        "        dplyr::select(Weight,EngineSize,HP) %>% \n",
        "        mutate(HP_EngineSize = HP*EngineSize) %>% \n",
        "        ggpairs()\n"
      ],
      "metadata": {
        "id": "4EY-LEO8kBte"
      },
      "execution_count": null,
      "outputs": []
    },
    {
      "cell_type": "markdown",
      "source": [
        "vykreslime si čo potrebujeme (gg-pairs)"
      ],
      "metadata": {
        "id": "gTd82QCIYAgd"
      }
    },
    {
      "cell_type": "code",
      "source": [
        "m1 <- lm(Weight ~  EngineSize,    data = cars04b)\n",
        "summary(m1)\n"
      ],
      "metadata": {
        "id": "nkiOF-uFh3hx"
      },
      "execution_count": null,
      "outputs": []
    },
    {
      "cell_type": "code",
      "source": [
        "m2 <- lm(Weight ~  EngineSize+HP, data = cars04b)\n",
        "summary(m2)\n"
      ],
      "metadata": {
        "id": "aPOw3btqkuom"
      },
      "execution_count": null,
      "outputs": []
    },
    {
      "cell_type": "code",
      "source": [
        "\n",
        "m3 <- lm(Weight ~  EngineSize*HP, data = cars04b)\n",
        "summary(m3)"
      ],
      "metadata": {
        "id": "KZ5F146akyJr"
      },
      "execution_count": null,
      "outputs": []
    },
    {
      "cell_type": "markdown",
      "source": [
        "m1 a m2 maju rovnaké štatistiky, model sa nezlepšil\n",
        "\n",
        "m3 2 stupne volnosti ale lepšie štat."
      ],
      "metadata": {
        "id": "uCP16CQjYhpM"
      }
    },
    {
      "cell_type": "code",
      "source": [
        "# Compare models by F-test\n",
        "anova(m1)\n",
        "anova(m1,m2)\n",
        "anova(m2,m3)\n"
      ],
      "metadata": {
        "id": "c1ErRomeh2yv"
      },
      "execution_count": null,
      "outputs": []
    },
    {
      "cell_type": "markdown",
      "source": [
        "otestujeme modely\n",
        "\n",
        "f-stat 758 -> eng size premenna, je jedina, je tam.\n",
        "\n",
        "---\n",
        "porovnavame modely proti sebe, 1 model musí byť podmodel druhého (obsiahnutý v druhom) musia mať rovnaké prem (nie transformované)\n",
        "\n",
        "---\n",
        "Ako zistím, že jeden model odpovedá druhemu? m1 ⊂ m2 ⊂ m3 ~> podľa stupňov voľnosti\n",
        "\n"
      ],
      "metadata": {
        "id": "yKoZYxXlYttL"
      }
    },
    {
      "cell_type": "code",
      "source": [
        "# Compute F test manually\n",
        "SSR3  <- sum((m3$fitted.values - mean(cars04b$Weight))^2)\n",
        "SSR1  <- sum((m1$fitted.values - mean(cars04b$Weight))^2)\n",
        "SSR3-SSR1"
      ],
      "metadata": {
        "id": "K6Np4Mosh2PD"
      },
      "execution_count": null,
      "outputs": []
    },
    {
      "cell_type": "code",
      "source": [
        "RSS3  <- sum(m3$residuals^2)\n",
        "RSS1  <- sum(m1$residuals^2)\n",
        "RSS1- RSS3\n"
      ],
      "metadata": {
        "id": "Um8llJdJmJZh"
      },
      "execution_count": null,
      "outputs": []
    },
    {
      "cell_type": "code",
      "source": [
        "MSE<- sum(m3$residuals^2)/m3$df.residual\n",
        "MSE == summary(m3)$sigma^2\n",
        "F  <- (SSR3-SSR1)/(MSE*(m1$df.residual-m3$df.residual))\n",
        "F"
      ],
      "metadata": {
        "id": "6KCsI6Xzm-a0"
      },
      "execution_count": null,
      "outputs": []
    },
    {
      "cell_type": "code",
      "source": [
        "pf(abs(F), m1$df.residual-m3$df.residual,m3$df.residual, lower.tail = FALSE)\n",
        "anova(m1,m3)\n"
      ],
      "metadata": {
        "id": "T2E178kZm9Gb"
      },
      "execution_count": null,
      "outputs": []
    },
    {
      "cell_type": "markdown",
      "source": [
        "dostavame rovnake hodnoty"
      ],
      "metadata": {
        "id": "V4qLgP1AZtrV"
      }
    },
    {
      "cell_type": "code",
      "source": [
        "plot(Weight ~ EngineSize, data = cars04b, pch=20, col = \"black\", xaxs=\"i\",yaxs=\"i\")\n",
        "abline(m1, col =\"blue\")"
      ],
      "metadata": {
        "id": "5OeZje8Dh1ed"
      },
      "execution_count": null,
      "outputs": []
    },
    {
      "cell_type": "markdown",
      "source": [
        "scatterplot: úmernosť lin reg, korel medzi prem. \n",
        "\n",
        "(vykresľujeme len namerane data)\n",
        "Vidíme že nám rastie rozptyl okolo reg. priamky\n",
        "\n"
      ],
      "metadata": {
        "id": "g93wMo8-Z0y1"
      }
    },
    {
      "cell_type": "code",
      "source": [
        "cars04_m1 <- cars04b %>% \n",
        "        mutate(fit_m1 = m1$fitted.values)\n",
        "ggplot(cars04_m1, aes(EngineSize, Weight)) +\n",
        "        geom_point() +\n",
        "        stat_smooth(method = lm, se = FALSE) +\n",
        "        geom_segment(aes(xend = EngineSize, yend = fit_m1), color = \"red\", size = 0.3)\n"
      ],
      "metadata": {
        "id": "geOtOz_ih02Y"
      },
      "execution_count": null,
      "outputs": []
    },
    {
      "cell_type": "code",
      "source": [
        "\n",
        "par(mfrow = c(2, 2))\n",
        "plot(m1, which = 1, pch = 20, col = \"blue4\", lwd = 2)\n",
        "plot(m1, which = 3, pch = 20, col = \"blue4\",  lwd = 2)\n",
        "abline(lm(sqrt(abs(rstandard(m1)))~fitted.values(m1)), col = \"blue\", lwd = 2)\n",
        "plot(cars04b$EngineSize, residuals(m1), pch = 20, col = \"blue4\",  xlab = \"Engine Size\", ylab = \"Residuals\",\n",
        "     main = \"Residuals vs Covariate\")\n",
        "lines(lowess(cars04b$EngineSize, residuals(m1)), col = \"red3\", lwd = 2)\n",
        "plot(cars04b$EngineSize, sqrt(abs(rstandard(m1))), pch = 20, col = \"blue4\", bg = \"skyblue\",\n",
        "     xlab = \"Engine Size\", ylab = as.expression(substitute(sqrt(abs(yL)), list(yL = as.name(\"Standardized residuals\")))),\n",
        "     main = \"Scale-Location (Speed)\")\n",
        "lines(lowess(cars04b$EngineSize, sqrt(abs(rstandard(m1)))), col = \"red3\", lwd = 2)\n",
        "abline(lm(sqrt(abs(rstandard(m1)))~cars04b$EngineSize), col = \"blue\", lwd = 2)\n"
      ],
      "metadata": {
        "id": "plAAP0-ZhwLm"
      },
      "execution_count": null,
      "outputs": []
    },
    {
      "cell_type": "markdown",
      "source": [
        "1. obrazok -> je v pohode? porušenie homoskedascity -> jeden z najčastejších problémov.\n",
        "\n",
        "je tam outlier.\n",
        "\n",
        "2. abs. h. -> rastúci trend (priamka - > sklonm)"
      ],
      "metadata": {
        "id": "Rvx0rCfTaKgT"
      }
    },
    {
      "cell_type": "code",
      "source": [
        "\n",
        "\n",
        "#Check Model Assumptions \n",
        "\n",
        "## Recap what assumption we have to test:\n",
        "\n",
        "##(i)  Linearity and additivity of the relationship between dependent and independent variables:\n",
        "#(a) The expected value of dependent variable is a straight-line function of each independent variable,\n",
        "#     holding the others fixed.\n",
        "#(b) The slope of that line does not depend on the values of the other variables.\n",
        "#(c) The effects of different independent variables on the expected value of the dependent variable are additive.\n",
        "##(ii) Statistical independence of the errors \n",
        "#    (in particular, no correlation between consecutive errors in the case of time series data)\n",
        "##(iii) Homoscedasticity (constant variance) of the errors\n",
        "#(a)  versus time (in the case of time series data)\n",
        "#(b)  versus the predictions (fitted)\n",
        "#(c)  versus any independent variable\n",
        "##(iv) Normality of the error distribution. \n",
        "\n",
        "\n",
        "#Plot Residuals vs. fitted and vs. all covariates in all models\n",
        "#Plot residual QQ plots to confirm/reject normality of residuals.\n",
        "#Perform statistical hypothesis test to confirm/reject homoscedasticity, normality, independence of residuals.\n",
        "#Is there any indication of heteroscedasticity?\n"
      ],
      "metadata": {
        "id": "SZZ6lCB0n8RR"
      },
      "execution_count": null,
      "outputs": []
    },
    {
      "cell_type": "code",
      "source": [
        "fig <- function(width, heigth){\n",
        " options(repr.plot.width = width, repr.plot.height = heigth)\n",
        " }\n",
        " options(jupyter.plot_scale=2)\n"
      ],
      "metadata": {
        "id": "-cAlVDwcp4LT"
      },
      "execution_count": null,
      "outputs": []
    },
    {
      "cell_type": "markdown",
      "source": [
        "m3:"
      ],
      "metadata": {
        "id": "Zn5PHWx7a_v8"
      }
    },
    {
      "cell_type": "code",
      "source": [
        "par(mfrow = c(3, 2))\n",
        "plot(m3, which = 1, pch = 20, col = \"blue4\", lwd = 2)\n",
        "plot(m3, which = 3, pch = 20, col = \"blue4\",  lwd = 2)\n",
        "abline(lm(sqrt(abs(rstandard(m3)))~fitted.values(m3)), col = \"blue\", lwd = 2)\n",
        "plot(cars04b$EngineSize, residuals(m3), pch = 20, col = \"blue4\",  xlab = \"Engine Size\", ylab = \"Residuals\",\n",
        "     main = \"Residuals vs Covariate\")\n",
        "lines(lowess(cars04b$EngineSize, residuals(m3)), col = \"red3\", lwd = 2)\n",
        "plot(cars04b$EngineSize, sqrt(abs(rstandard(m3))), pch = 20, col = \"blue4\", bg = \"skyblue\",\n",
        "     xlab = \"Engine Size\", ylab = as.expression(substitute(sqrt(abs(yL)), list(yL = as.name(\"Standardized residuals\")))),\n",
        "     main = \"Scale-Location (Speed)\")\n",
        "lines(lowess(cars04b$EngineSize, sqrt(abs(rstandard(m3)))), col = \"red3\", lwd = 2)\n",
        "abline(lm(sqrt(abs(rstandard(m3)))~cars04b$EngineSize), col = \"blue\", lwd = 2)\n",
        "plot(cars04b$HP, residuals(m3), pch = 20, col = \"blue4\",  xlab = \"HP\", ylab = \"Residuals\",\n",
        "     main = \"Residuals vs Covariate\")\n",
        "lines(lowess(cars04b$HP, residuals(m3)), col = \"red3\", lwd = 2)\n",
        "plot(cars04b$HP, sqrt(abs(rstandard(m3))), pch = 20, col = \"blue4\", bg = \"skyblue\",\n",
        "     xlab = \"HP\", ylab = as.expression(substitute(sqrt(abs(yL)), list(yL = as.name(\"Standardized residuals\")))),\n",
        "     main = \"Scale-Location (Speed)\")\n",
        "lines(lowess(cars04b$HP, sqrt(abs(rstandard(m3)))), col = \"red3\", lwd = 2)\n",
        "abline(lm(sqrt(abs(rstandard(m3)))~cars04b$HP), col = \"blue\", lwd = 2)\n"
      ],
      "metadata": {
        "id": "hDMk7gEchuGP"
      },
      "execution_count": null,
      "outputs": []
    },
    {
      "cell_type": "markdown",
      "source": [
        "1. stále rastie rozptyl"
      ],
      "metadata": {
        "id": "cHnqR0BgbB4b"
      }
    },
    {
      "cell_type": "code",
      "source": [
        "par(mfrow = c(2, 2))\n",
        "plot(m3)\n"
      ],
      "metadata": {
        "id": "JNs_SsxIhtdP"
      },
      "execution_count": null,
      "outputs": []
    },
    {
      "cell_type": "markdown",
      "source": [
        "tvar trumpeety?"
      ],
      "metadata": {
        "id": "33fEzi7GbIpa"
      }
    },
    {
      "cell_type": "code",
      "source": [
        "\n",
        "# Serial correlation in disturbances\n",
        "# Time series correlation ??? \n",
        "par(mfrow = c(1, 1))\n",
        "plot(resid(m3)[-length(resid(m3))],resid(m3)[-1],pch = 20, col = \"blue\",\n",
        "     xlab = expression(r[i-1]), ylab = expression(r[i]),cex = 1.5) # no autocorelation\n",
        "lines(lowess(resid(m3)[-length(resid(m3))],resid(m3)[-1]), col = \"red3\", lwd = 2)\n",
        "abline(h = 0, col = \"grey\")\n",
        "abline(lm(resid(m3)[-length(resid(m3))]~resid(m3)[-1]), col = \"green\", lwd = 2)\n"
      ],
      "metadata": {
        "id": "XjNLCyOlhrsk"
      },
      "execution_count": null,
      "outputs": []
    },
    {
      "cell_type": "markdown",
      "source": [
        "nedáva zmysel robiť seriovu korelaciu mame 1 značku či čo. ak niekto nezanezie chybu, tak není dovod to robiť? IDK"
      ],
      "metadata": {
        "id": "w7iq1lhobTgO"
      }
    },
    {
      "cell_type": "code",
      "source": [
        "\n",
        "# The Durbin-Watson test has the null hypothesis that the autocorrelation of the disturbances is 0. \n",
        "# from lmtest package\n",
        "dwtest(m3, alternative = \"two.sided\")  # Two-sided  \n",
        "# from car package\n",
        "dwt(m3) \n"
      ],
      "metadata": {
        "id": "eNtPvdIUhraa"
      },
      "execution_count": null,
      "outputs": []
    },
    {
      "cell_type": "code",
      "source": [
        "\n",
        "# Test for heteroskedasticity by Breusch-Pagan test - from library lmtest\n",
        "#bptest fits a linear regression model to the residuals of a linear regression model \n",
        "bptest(m3,varformula = ~ fitted(m3))\n",
        "\n"
      ],
      "metadata": {
        "id": "JQKFQlT9hrG7"
      },
      "execution_count": null,
      "outputs": []
    },
    {
      "cell_type": "code",
      "source": [
        "fig(30,10)\n",
        "## Visual tests of normality - QQ plots\n",
        "op <- par(mfrow=c(1,3))\n",
        "plot(m3, which = 2, pch = 20, col = \"blue4\", lwd = 2)\n",
        "qqPlot(m3, simulate=TRUE, line=\"quartiles\")\n",
        "plot(density(rstudent(m3)))\n",
        "par(op)\n",
        "\n"
      ],
      "metadata": {
        "id": "KvsmKEE3hqWN"
      },
      "execution_count": null,
      "outputs": []
    },
    {
      "cell_type": "code",
      "source": [
        "\n",
        "## Hypothesis tests of Homogeneity\n",
        "lillie.test(residuals(m3))   # Lilliefors test\n",
        "shapiro.test(resid(m3))      # Shapiro-Wilk test\n",
        "ad.test(resid(m3))           # Anderson-Darling\n",
        "#ols_test_normality(m3)\n",
        "\n",
        "cor(cars04$EngineSize,cars04$HP)\n",
        "\n",
        "\n"
      ],
      "metadata": {
        "id": "SMA5pxu5hqBt"
      },
      "execution_count": null,
      "outputs": []
    },
    {
      "cell_type": "markdown",
      "source": [
        "porovnávame či majú rovnaké rozdelenia\n",
        "\n",
        "2 z 3 normalitu zamietajú\n",
        "\n",
        "už máme 500 pozorovaní, tj docela dosť"
      ],
      "metadata": {
        "id": "HQ5SjRIYcYLl"
      }
    },
    {
      "cell_type": "markdown",
      "source": [
        "Čo s tým budeme robiť?\n",
        "\n"
      ],
      "metadata": {
        "id": "uaqsxZFmcqbr"
      }
    },
    {
      "cell_type": "code",
      "source": [
        "\n",
        "### How to improve the model? \n"
      ],
      "metadata": {
        "id": "TK7AkOM2hpAR"
      },
      "execution_count": null,
      "outputs": []
    },
    {
      "cell_type": "code",
      "source": [
        "\n",
        "\n",
        "## We can see heavy tails and problems with larger events (heteroskedasticity)\n",
        "## Regression with log-transformed response - no change in analysis\n",
        "m3_log <- lm(log(Weight) ~  EngineSize*HP, data=cars04b)\n",
        "summary(m3_log)\n",
        "summary(resid(m3_log))\n",
        "summary(resid(m3))\n"
      ],
      "metadata": {
        "id": "EkeJaZCZhoxX"
      },
      "execution_count": null,
      "outputs": []
    },
    {
      "cell_type": "markdown",
      "source": [
        "logaritmická reansf. ak vidím, že rozptyl rastie, tak nechceme aby rástol tak prudko (napr s kvadrátom a pod) \n",
        "\n",
        "lm(log(Weight) ~  EngineSize*HP, data=cars04b)\n",
        "\n",
        "ako odozvy modelujeme log. váhy\n",
        "\n",
        "\n",
        "máme teraz iné odhady -> to sa zmenilo.\n",
        "ale zaujíma nás vzťah k Y (možnosť interpretácie) -> $log(y)= X \\beta + \\epsilon$ (aditívna chyba)\n",
        "\n",
        "$Y= e^{X \\beta + \\epsilon}=e^{X \\beta} \\cdot e^\\epsilon$  (multiplikatívna chyba)\n",
        "\n",
        "Ak $X_i$ ->$X_i +1$\n",
        "v prvom možeme 1 model odčítať od druhého a dostaneme o koľko sa to zväčší\n",
        "\n",
        "V druhom to nemožeme. Mame 2 rce -> porovnávam to tak, že to podelím -> dostávam prechod $e^{\\beta_1}$ a to je o koľko \\% sa daná i-ta premenná zmenila\n",
        "\n",
        "je to iná interpretácia.\n",
        "\n",
        "táto transformácia je pre nás dôležitá. "
      ],
      "metadata": {
        "id": "Ksrnq4sCcwTT"
      }
    },
    {
      "cell_type": "markdown",
      "source": [],
      "metadata": {
        "id": "sSQKEuWCfnxW"
      }
    },
    {
      "cell_type": "code",
      "source": [
        "\n",
        "summary(cars04b$Weight)\n",
        "summary(log(cars04b$Weight))\n",
        "\n"
      ],
      "metadata": {
        "id": "SICbm9tjhoOc"
      },
      "execution_count": null,
      "outputs": []
    },
    {
      "cell_type": "code",
      "source": [
        "\n",
        "# compare models with and without log transform\n",
        "op <- par(mfrow=c(2,2))\n",
        "qqPlot(m3, simulate=TRUE, line=\"quartiles\")\n",
        "plot(density(rstudent(m3)))\n",
        "qqPlot(m3_log, simulate=TRUE, line=\"quartiles\")\n",
        "plot(density(rstudent(m3_log)))\n",
        "par(op)\n"
      ],
      "metadata": {
        "id": "zW5tGeU_hn7B"
      },
      "execution_count": null,
      "outputs": []
    },
    {
      "cell_type": "code",
      "source": [
        "\n",
        "lillie.test(residuals(m3_log))   # Lilliefors test ->nezam\n",
        "shapiro.test(resid(m3_log))      # Shapiro-Wilk test ->zam\n",
        "ad.test(resid(m3_log))           # Anderson-Darling\n",
        "\n",
        "#dev.off()\n",
        "#graphics.off()\n",
        "\n"
      ],
      "metadata": {
        "id": "EeirNIHBhnqY"
      },
      "execution_count": null,
      "outputs": []
    },
    {
      "cell_type": "code",
      "source": [
        "\n",
        "# Checking constant error variance - homoskedasticity\n",
        "# spreadLevelPlot- abbreviation slp(): used to assess potential heteroskedasticity\n",
        "# indicattion of a spread related to the mean\n"
      ],
      "metadata": {
        "id": "5NhnL8UGhnJ0"
      },
      "execution_count": null,
      "outputs": []
    },
    {
      "cell_type": "code",
      "source": [
        "? spreadLevelPlot"
      ],
      "metadata": {
        "id": "UVwSz26IrvqD"
      },
      "execution_count": null,
      "outputs": []
    },
    {
      "cell_type": "markdown",
      "source": [],
      "metadata": {
        "id": "0mE_L8EPgQVV"
      }
    },
    {
      "cell_type": "code",
      "source": [
        "fig(30,20)\n",
        "op <- par(mfrow=c(2,2))\n",
        "plot(fitted(m3), rstudent(m3), col=\"blue\")\n",
        "abline(h=0, lty=2)\n",
        "lines(lowess(fitted(m3), rstudent(m3)))\n",
        "spreadLevelPlot(m3,col=\"blue\")\n",
        "\n",
        "plot(fitted(m3_log), rstudent(m3_log), col=\"black\")\n",
        "abline(h=0, lty=2)\n",
        "lines(lowess(fitted(m3_log), rstudent(m3_log)))\n",
        "spreadLevelPlot(m3_log, col=\"black\")\n",
        "par(op)"
      ],
      "metadata": {
        "id": "-2uV3Wnxhm1L"
      },
      "execution_count": null,
      "outputs": []
    },
    {
      "cell_type": "markdown",
      "source": [
        "fig(.,.) -> mením rozmer obrázkov\n",
        "\n"
      ],
      "metadata": {
        "id": "Y8vh24C4gI6S"
      }
    },
    {
      "cell_type": "markdown",
      "source": [
        "spreadlevelplot: logaritmická škála -> viac sa vytiahnu tie problematické reziduá a automaticky nám radí aj transformáciu."
      ],
      "metadata": {
        "id": "sVogn6wTgRyR"
      }
    },
    {
      "cell_type": "markdown",
      "source": [
        "Is spread related to the mean? Does it indicate a violation of the assumptions (potential heteroskedasticity)?"
      ],
      "metadata": {
        "id": "oIdz0utHtBCT"
      }
    },
    {
      "cell_type": "code",
      "source": [
        "fig(10,10)\n",
        "par(mfrow=c(1,1))\n",
        "slp(lm(Weight ~  EngineSize*HP, data=cars04b))"
      ],
      "metadata": {
        "id": "X4mlPXukhmFQ"
      },
      "execution_count": null,
      "outputs": []
    },
    {
      "cell_type": "code",
      "source": [
        "summary(m3_log2 <- powerTransform(Weight ~  EngineSize*HP, data=cars04b))\n"
      ],
      "metadata": {
        "id": "gWdYvE2ktxXx"
      },
      "execution_count": null,
      "outputs": []
    },
    {
      "cell_type": "code",
      "source": [
        "\n",
        "###\n",
        "m4 <- lm(Weight  ~EngineSize + HP + Cyl, data = cars04b)\n",
        "m4\n",
        "# Checking linearity\n",
        "# Component-residual plot (Partial residual plots) - crPlots\n",
        "crPlots(m4)\n",
        "\n",
        "# Be careful , if X_i is highly correlated with any of the other regressor, \n",
        "# the variance indicated by the crPlots can be much less than the actual variance.\n"
      ],
      "metadata": {
        "id": "lijnDOA_hlul"
      },
      "execution_count": null,
      "outputs": []
    },
    {
      "cell_type": "markdown",
      "source": [
        "vidíme sklon\n",
        "\n",
        "ako by sme čítali boxplot? pre factorovu premennu. zaujímajú nás stredné hodnoty v skupinách. či sa nejaká stredná hodnota diametrálne líši od ostatných. ukazuje mi, že je tam nejaký posun. je to dôležitá zmena. "
      ],
      "metadata": {
        "id": "MNTObuFUhlCw"
      }
    },
    {
      "cell_type": "code",
      "source": [
        "termplot(m4, partial.resid=TRUE, terms=\"EngineSize\")"
      ],
      "metadata": {
        "id": "PafhGIqC9nmf"
      },
      "execution_count": null,
      "outputs": []
    },
    {
      "cell_type": "code",
      "source": [
        "\n",
        "# Check residuals again,\n",
        "# Resid against independent variables with residualPlots\n",
        "residualPlots(m4)\n",
        "# Absolute stud. Resid agains fitted  \n",
        "\n"
      ],
      "metadata": {
        "id": "y75jPI1UhlVs"
      },
      "execution_count": null,
      "outputs": []
    },
    {
      "cell_type": "code",
      "source": [
        "m3 <- lm(Weight ~  EngineSize, data = cars04b)\n",
        "m2 <- lm(Weight ~  HP, data = cars04b)\n",
        "m3 <- lm(Weight ~  EngineSize+HP, data = cars04b)\n",
        "# Added Variable Plot - Partial regression plots \n",
        "avPlots(m1)\n",
        "avPlots(m2)\n",
        "avPlots(m3)\n",
        "\n",
        "# avPlots can by used to:\n",
        "# - identify data points with high leverage and influential data points\n",
        "# - identify the nature of the relationship between Y and X_i\n",
        "# - identify the relation without correlation effects\n",
        "# - help to select variables\n",
        "\n"
      ],
      "metadata": {
        "id": "ahFBslxyhkoC"
      },
      "execution_count": null,
      "outputs": []
    },
    {
      "cell_type": "markdown",
      "source": [],
      "metadata": {
        "id": "hRoipGZIjMw3"
      }
    },
    {
      "cell_type": "code",
      "source": [],
      "metadata": {
        "id": "wYwrQ4VL5jOQ"
      },
      "execution_count": null,
      "outputs": []
    },
    {
      "cell_type": "code",
      "source": [
        "#install.packages(\"effects\")\n",
        "library(effects)\n",
        "# display effects\n"
      ],
      "metadata": {
        "id": "nDFKtV7qhj-J"
      },
      "execution_count": null,
      "outputs": []
    },
    {
      "cell_type": "code",
      "source": [
        "plot(allEffects(m4))\n",
        "op <- par(mfrow=c(1,1))\n"
      ],
      "metadata": {
        "id": "Z7UIFLZOvkyQ"
      },
      "execution_count": null,
      "outputs": []
    },
    {
      "cell_type": "markdown",
      "source": [
        "posledný obrázok -> conf intervaly sa pretínajú"
      ],
      "metadata": {
        "id": "m3qmVUCHjxm0"
      }
    },
    {
      "cell_type": "markdown",
      "source": [
        "Box-Cox with shifted values (case for negative response variable)\n",
        "\n",
        "$$g(Y + a) = ln(Y + a) \\ \\text{if} \\  \\ λ = 0$$,\n",
        "$$g(Y + a) = \\frac{(Y + a)^{\\lambda} - 1}{\\lambda} \\ \\ \\text{if} \\   λ \\neq 0$$,\n",
        "\n"
      ],
      "metadata": {
        "id": "paWTM5vTC5AO"
      }
    },
    {
      "cell_type": "markdown",
      "source": [
        "voľba a - > posun doprava aby všetky boli kladné ale často je dobré pripustiť si aj nejaku rezervu "
      ],
      "metadata": {
        "id": "4OcqXyXLj9MR"
      }
    },
    {
      "cell_type": "code",
      "source": [
        "# Box-Cox transformation:\n",
        "bc     <- boxcox(m1, lambda = seq(-1,1 , 1/100))\n",
        "lambda <- bc$x[which.max(bc$y)]\n",
        "lambda"
      ],
      "metadata": {
        "id": "E0JvdM2GhjSH"
      },
      "execution_count": null,
      "outputs": []
    },
    {
      "cell_type": "markdown",
      "source": [
        "λ=0.02 -> ak leží v CI nuly, tak berieme, že je to 0 -> ln() je stále interpretovateľný.\n",
        "\n",
        "často transf pre $λ \\neq 0$ nemáme fyzikálne pozadie a preto treba zvažovať prečo používame práve takú transf alebo inú."
      ],
      "metadata": {
        "id": "KSUH-nw5kV9b"
      }
    },
    {
      "cell_type": "code",
      "source": [
        "# Power transform\n",
        "cars04c=cars04b\n",
        "cars04c$Weight_power = (cars04c$Weight^lambda-1)/lambda\n",
        "m3_bc = lm(Weight_power~EngineSize*HP, data=cars04c)\n",
        "summary(m3_bc)\n"
      ],
      "metadata": {
        "id": "hFTFBvc0hi8O"
      },
      "execution_count": null,
      "outputs": []
    },
    {
      "cell_type": "code",
      "source": [
        "fig(30,10)\n",
        "op <- par(mfrow=c(2,3))\n",
        "plot(m3,which=2)\n",
        "plot(m3_bc,which=2)\n",
        "plot(m3_log,which=2)\n",
        "hist(resid(m3),breaks=30)\n",
        "hist(resid(m3_bc),breaks=30)\n",
        "hist(resid(m3_log),breaks=30)"
      ],
      "metadata": {
        "id": "gbmnAgo2hinL"
      },
      "execution_count": null,
      "outputs": []
    },
    {
      "cell_type": "code",
      "source": [],
      "metadata": {
        "id": "3cFSiM-bHsDT"
      },
      "execution_count": null,
      "outputs": []
    }
  ]
}