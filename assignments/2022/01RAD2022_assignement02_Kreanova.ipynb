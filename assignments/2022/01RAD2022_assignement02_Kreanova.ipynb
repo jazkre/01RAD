{
  "nbformat": 4,
  "nbformat_minor": 0,
  "metadata": {
    "colab": {
      "private_outputs": true,
      "provenance": [],
      "include_colab_link": true
    },
    "kernelspec": {
      "name": "ir",
      "display_name": "R"
    },
    "language_info": {
      "name": "R"
    }
  },
  "cells": [
    {
      "cell_type": "markdown",
      "metadata": {
        "id": "view-in-github",
        "colab_type": "text"
      },
      "source": [
        "<a href=\"https://colab.research.google.com/github/jazkre/01RAD/blob/main/assignments/2022/01RAD2022_assignement02_Kreanova.ipynb\" target=\"_parent\"><img src=\"https://colab.research.google.com/assets/colab-badge.svg\" alt=\"Open In Colab\"/></a>"
      ]
    },
    {
      "cell_type": "markdown",
      "metadata": {
        "id": "43ae2059"
      },
      "source": [
        "# 2. zápočtová úloha z 01RAD\n",
        "\n",
        "\n",
        "> > Jazmína Kreanová\n",
        "\n",
        "\n",
        "\n",
        "\n",
        "\n",
        "## Popis úlohy\n",
        "\n",
        "Datový soubor `Boston` je obsažen v balíku `MASS` a lze použít rovnou po načtení příslušné knihovny."
      ]
    },
    {
      "cell_type": "code",
      "execution_count": null,
      "metadata": {
        "tags": [
          "remove_input",
          "remove_cell"
        ],
        "id": "94300c8a"
      },
      "outputs": [],
      "source": [
        "knitr::opts_chunk$set(echo = FALSE)\n",
        "list_of_packages <- c(\"tidyverse\", \"MASS\",\"GGally\",\"moderndive\", \"dplyr\",\"car\",\"lmtest\",\"nortest\")\n",
        "missing_packages <- list_of_packages[!(list_of_packages %in% installed.packages()[,\"Package\"])]\n",
        "missing_packages\n",
        "if(length(missing_packages)) install.packages(missing_packages)\n",
        "lapply(list_of_packages, library, character.only = TRUE)\n",
        "#library(tidyverse)\n",
        "#library(GGally)\n",
        "#library(knitr)\n",
        "#library(MASS)"
      ]
    },
    {
      "cell_type": "code",
      "source": [
        "#install.packages(\"car\")\n",
        "#library(car)\n",
        "fig <- function(width, heigth){\n",
        " options(repr.plot.width = width, repr.plot.height = heigth)\n",
        " }\n",
        " options(jupyter.plot_scale=2)"
      ],
      "metadata": {
        "id": "kx1YzEWMqfIN"
      },
      "execution_count": null,
      "outputs": []
    },
    {
      "cell_type": "code",
      "execution_count": null,
      "metadata": {
        "lines_to_next_cell": 2,
        "tags": [
          "remove_input"
        ],
        "id": "3e8b08ff"
      },
      "outputs": [],
      "source": [
        "head(Boston)"
      ]
    },
    {
      "cell_type": "markdown",
      "metadata": {
        "id": "3d92a43e"
      },
      "source": [
        "Obsahuje celkem 506 záznamů z obcí v předměstí města Boston, MA, USA a data pocházejí ze studie v roce 1978.Viz Harrison, D. and Rubinfeld, D.L. (1978) Hedonic prices and the demand for clean air. J. Environ. Economics and Management 5, 81–102."
      ]
    },
    {
      "cell_type": "markdown",
      "metadata": {
        "id": "926f103e"
      },
      "source": [
        "Základní charakteristiky ohledně jednotlivých proměnných získáte pomocí funkcí `str(Boston)} a `summary(Boston)}."
      ]
    },
    {
      "cell_type": "markdown",
      "metadata": {
        "id": "15b1d82c"
      },
      "source": [
        "Data celkem obsahují 14 proměnných, přičemž naším cílem je prozkoumat vliv 13 z nich na cenu nemovitostí `medv`. Přičemž anglický popis jednotlivých proměnných (sloupců) je následující:\n",
        "\n",
        "Feature & Description \n",
        "\n",
        "`crim` per capita crime rate by town  \\\\\n",
        "\n",
        "`zn`: proportion of residential land zoned for lots over 25,000 sq.ft  \\\\\n",
        "\n",
        "`indus`: proportion of non-retail business acres per town  \\\\\n",
        "\n",
        "`chas`: Charles River dummy variable (= 1 if tract bounds river; 0 otherwise)  \n",
        "\n",
        "`nox`: nitrogen oxides concentration (parts per 10 million)  \\\\\n",
        "\n",
        "`rm`: average number of rooms per dwelling  \\\\\n",
        "\n",
        "`age`: proportion of owner-occupied units built prior to 1940  \\\\\n",
        "\n",
        "`dis`: weighted mean of distances to five Boston employment centres  \\\\\n",
        "\n",
        "`rad`: index of accessibility to radial highways  \\\\\n",
        "\n",
        "`tax`: full-value property-tax rate per \\$10,000  \\\\\n",
        "\n",
        "`ptratio`: pupil-teacher ratio by town  \\\\\n",
        "\n",
        "`black`:  $1000(B_k - 0.63)^2$ where $B_k$ is the proportion of blacks by town  \\\\\n",
        "\n",
        "`lstat`: lower status of the population (percent)  \\\\\n",
        "\n",
        "`medv`: median value of owner-occupied homes in \\$1000s  \\\\\n"
      ]
    },
    {
      "cell_type": "markdown",
      "source": [
        "\n",
        "## Podmínky a body\n",
        "\n",
        "Úkol i protokol vypracujte samostatně. Pokud na řešení nějaké úlohy budete přesto s někým spolupracovat, radit se, nezapomeňte to u odpovědi na danou otázku uvést. Tato zápočtová úloha obsahuje 10 otázek po 1 bodu. Celkem za 3 zápočtové úlohy bude možné získat 30 bodů, přičemž pro získání zápočtu je potřeba více jak 20. Další dodatečné body mohu případně individuálně udělit za extra práci na mini domácích úkolech nebo za aktivitu v hodině.\n",
        "\n",
        "## Odevzdání\n",
        "\n",
        "Protokol ve formátu pdf (včetně příslušného Rmd souboru), nebo jak jupyter NB (ideálně s odkazem na Colab) odevzdejte prostřednictvím MS Teams, nejpozději do půlnoci  14. 12. 2022 (tj. za 3 týdny).\n",
        "\n",
        "## Příprava dat:\n",
        "\n",
        "* Otázka 01\n",
        "\n",
        "  Z dat vyfilitrujte jen pozorování, kde proměnná `chas` je rovna 0, proměnná rad je menší než 20 a odezva `medv` neobsahuje opakující se maximální hodnoty vzniklé nejspíše zaokrouhlením. Zkontrolujte, že výsledný datset neobsahuje chybějící hodnoty a vykreslete scatterplot pro proměnné `indus` a `medv`."
      ],
      "metadata": {
        "id": "IPATdrtOaess"
      }
    },
    {
      "cell_type": "code",
      "execution_count": null,
      "metadata": {
        "tags": [
          "remove_input"
        ],
        "id": "c08ddf8e"
      },
      "outputs": [],
      "source": [
        "summary(Boston)\n",
        "\n"
      ]
    },
    {
      "cell_type": "code",
      "source": [
        "#table(factor(Boston$medv))"
      ],
      "metadata": {
        "id": "cDyhnE0_qC6z"
      },
      "execution_count": null,
      "outputs": []
    },
    {
      "cell_type": "markdown",
      "source": [
        "Našou úlohou je vyfiltrovať dataset tak, aby zostali pozorovania s $`chas=0`, `rad < 20`$ a aby dataset neobsahoval opakujúce sa maximálne hodnoty v odozve `medv`.\n",
        "\n",
        "Vypíšeme si najprv pozorovania s opakujúcou sa hodnotou maxima v kýženej odozve `medv`. To činí 8 rôznych pozorovaní, pričom nepovažujeme za vhodné vybrať jedno pozorovanie, ktoré by sme do datasetu začlenili.\n",
        "\n",
        "V ďalšom kroku teda vyfiltrujeme dáta tak, že nebydú obsahovať žiadne pozorovanie, ktoré v premennej `medv` nadobúda maximum. a overíme, že v datasete nemáme chýbajúce hodnoty. Nový dataset obsahuje 339 pozorovaní."
      ],
      "metadata": {
        "id": "dgUpRUa5sE7M"
      }
    },
    {
      "cell_type": "code",
      "source": [
        "subset(Boston, Boston$chas==0 & Boston$rad<20 & Boston$medv==max(Boston$medv))\n",
        "#dim(Boston_mx)"
      ],
      "metadata": {
        "id": "x-8uv321oPeg"
      },
      "execution_count": null,
      "outputs": []
    },
    {
      "cell_type": "code",
      "source": [
        "Boston_data<-subset(Boston, Boston$chas==0 & Boston$rad<20 & Boston$medv != max(Boston$medv))"
      ],
      "metadata": {
        "id": "7gv-1YIMlikq"
      },
      "execution_count": null,
      "outputs": []
    },
    {
      "cell_type": "code",
      "source": [
        "head(Boston_data)\n",
        "dim(Boston_data)"
      ],
      "metadata": {
        "id": "s7xhfw2an27H"
      },
      "execution_count": null,
      "outputs": []
    },
    {
      "cell_type": "code",
      "source": [
        "Boston_data %>% \n",
        "  filter(if_any(everything(), is.na))"
      ],
      "metadata": {
        "id": "wSv51aiFn8Jw"
      },
      "execution_count": null,
      "outputs": []
    },
    {
      "cell_type": "markdown",
      "source": [
        "Vykreslíme scatterplot pre odozvu `medv` a vysvetľujúcu premennú `indus`. Podľa vykresleného scatterplotu nepozorujeme viditeľnú lineárnu závislosť mediánovej ceny nehnuteľností na podieli nemaloobchodného podnikania. Predpokladáme, že cena teda závisí aj na iných premenných, respektíve premenná `indus` môže byť závislá."
      ],
      "metadata": {
        "id": "lHr7AdgYuJNy"
      }
    },
    {
      "cell_type": "code",
      "source": [
        "ggplot(Boston_data,aes(x=indus,y=medv))+\n",
        "  geom_point(col=\"plum3\")+\n",
        "  labs(x= \"Proportion of non-retail business acres per town\", y=\"Median value of owner-occupied homes in $100s\")"
      ],
      "metadata": {
        "id": "2GEqcpBbvF1o"
      },
      "execution_count": null,
      "outputs": []
    },
    {
      "cell_type": "markdown",
      "metadata": {
        "id": "369c7e2a"
      },
      "source": [
        "## Regresní model závislosti mediánu ceny nemovitosti na zastoupení ne-maloobchodního podnikání v daném místě: \n"
      ]
    },
    {
      "cell_type": "markdown",
      "metadata": {
        "id": "79f64afe"
      },
      "source": [
        "* Otázka 2\n",
        "\n",
        "  Sestavte jednoduchý regresní model a na jeho základech zjistěte zdali proměnná `indus`  ovlivňuje median ceny nemovitostí určených k bydlení `medv`. Pokud ano, o kolik je průměr mediánů cen nemovitostí nižší/vyšší při vzrůstu zastoupení nemaloobchodního podnikání o 5 jednotek? "
      ]
    },
    {
      "cell_type": "markdown",
      "source": [
        "Zostavíme jednoduchý regresný model závislosti ceny nehnuteľností od podielu podnikania v danej oblasti. Volíme model s interceptom, pretože predpokladáme, že nehnuteľnosť bude mať nenulovú cenu aj v oblasti bez dostatočnej občianskej vybavenosti, navyše z predošlej úvahy v otázke jedna predpokladáme aj iné závislosti.\n",
        "\n"
      ],
      "metadata": {
        "id": "HdM9_n3l0Saw"
      }
    },
    {
      "cell_type": "code",
      "source": [
        "model = lm(medv ~ indus, data = Boston_data)\n",
        "summary(model)"
      ],
      "metadata": {
        "id": "02yJkT26ztZa"
      },
      "execution_count": null,
      "outputs": []
    },
    {
      "cell_type": "code",
      "source": [
        "model$coefficients[2]*5"
      ],
      "metadata": {
        "id": "K61p0n4m3JWS"
      },
      "execution_count": null,
      "outputs": []
    },
    {
      "cell_type": "markdown",
      "source": [
        "Odhadli sme model: $Y= 28.434 -0.536\\cdot X$,\n",
        "\n",
        "kde nám intercept aj premenná `indus` vyšli ako štatisticky významné, *p-hodnota* oboch parametrov vyšla veľmi malá ($2 \\cdot 10^{-16}$). Hodnota charakteristiky $R^2=0.2181$ je pomerne nízka (čo sme v predošlých úvahách očakávali).\n",
        "\n",
        "Na základe nášho modelu dôjde pri náraste nemaloobchodného podnikania o 5 jednotiek k poklesu (koeficient má zápornú hodnotu) cien v priemere o 2679.92 \\$."
      ],
      "metadata": {
        "id": "CPmfggrL3Gmq"
      }
    },
    {
      "cell_type": "code",
      "source": [],
      "metadata": {
        "id": "hmKyGnAWBn7b"
      },
      "execution_count": null,
      "outputs": []
    },
    {
      "cell_type": "markdown",
      "source": [
        "\n",
        "\n",
        "* Otázka 3\n",
        "\n",
        "  Vyzkoušejte model s mocninou a logaritmickou transformací odezvy. Pro výběr mocniné transformace vykreslete optimální  log-věrohodnostní profil u Box-Coxovy transformace a porovnejte navrženou transformaci s provedenou logaritmickou."
      ],
      "metadata": {
        "id": "nGDfoc3zcv7L"
      }
    },
    {
      "cell_type": "markdown",
      "source": [
        "Vykreslíme ploty reziduí našeho modelu. Z grafov Resuduals vs. Fitted a Scale-Location pozorujeme, že reziduá sa v rozptyle rozbiehajú, teda dochádza k porušeniu podmienku homoskedasticity, naviac Q-Q plot indikuje ťažké chvosty, čo nás navádza na transformáciu veličín. "
      ],
      "metadata": {
        "id": "YvD7gP82GKDN"
      }
    },
    {
      "cell_type": "code",
      "source": [
        "#cv8,9\n",
        "par(mfrow = c(2, 2))\n",
        "plot(model, col=\"plum3\",pch=20)"
      ],
      "metadata": {
        "id": "DDhXoyOUGJo0"
      },
      "execution_count": null,
      "outputs": []
    },
    {
      "cell_type": "markdown",
      "source": [
        "**Mocninná transformácia**\n",
        "Box-Coxova transformácia:\n",
        "$$g(Y + a) = ln(Y + a) \\ \\text{if} \\  \\ λ = 0,$$\n",
        "$$g(Y + a) = \\frac{(Y + a)^{\\lambda} - 1}{\\lambda} \\ \\ \\text{if} \\   λ \\neq 0,$$\n"
      ],
      "metadata": {
        "id": "NJQBIiT9GWs9"
      }
    },
    {
      "cell_type": "markdown",
      "source": [
        "Chceme transformovať dáta pomocou Box.Coxovej transformácie. Ako najvhodnejší exponent nám vyšlo $\\lambda=-0.16$, čo spadá do intervalu spoľahlivosti $0$ a teda vhodné by bolo použiť logaritmickú transformáciu.\n",
        "\n",
        "Našou úlohou v tejto časti je porovnať mocninnú a logaritmickú transformáciu, preto nebudeme uvažovať $\\lambda=0$."
      ],
      "metadata": {
        "id": "s9BRRjGjZ__m"
      }
    },
    {
      "cell_type": "code",
      "source": [
        "bc     <- boxcox(model, lambda = seq(-1,1 , 1/100))\n",
        "lambda <- bc$x[which.max(bc$y)]\n",
        "print(\"lambda:\")\n",
        "lambda\n",
        "print(\"CI:\")\n",
        "c(min(bc$x[bc$y > max(bc$y) - 1/2 * qchisq(.95,1)]),max(bc$x[bc$y > max(bc$y) - 1/2 * qchisq(.95,1)]))"
      ],
      "metadata": {
        "id": "As0hxvVTGX68"
      },
      "execution_count": null,
      "outputs": []
    },
    {
      "cell_type": "markdown",
      "source": [
        "Aplikujeme mocninnú transformáciu pre naše λ:"
      ],
      "metadata": {
        "id": "w73XNFPOXzvv"
      }
    },
    {
      "cell_type": "code",
      "source": [
        "# Power transform\n",
        "Boston_bcT = Boston_data\n",
        "Boston_bcT$medv_pwr = (Boston_bcT$medv^lambda-1)/lambda\n",
        "model_pwr = lm(medv_pwr~indus, data = Boston_bcT)\n",
        "summary(model_pwr)"
      ],
      "metadata": {
        "id": "IzCMf8OZXoBj"
      },
      "execution_count": null,
      "outputs": []
    },
    {
      "cell_type": "code",
      "source": [
        "par(mfrow = c(2, 2))\n",
        "plot(model_pwr, col=\"plum3\",pch=20)"
      ],
      "metadata": {
        "id": "jbimN0eOffgz"
      },
      "execution_count": null,
      "outputs": []
    },
    {
      "cell_type": "markdown",
      "source": [
        "**Logaritmická transformácia**\n",
        "$$\\ln(y)= 𝐗 \\cdot \\beta + \\epsilon$$\n",
        "\n",
        "$$Y= e^{𝐗 \\cdot \\beta + \\epsilon}=e^{𝐗 \\cdot \\beta} e^\\epsilon$$"
      ],
      "metadata": {
        "id": "ah2sH7NdM8lQ"
      }
    },
    {
      "cell_type": "code",
      "source": [
        "model_ln = lm(log(medv) ~ indus, Boston_data)\n",
        "summary(model_ln)"
      ],
      "metadata": {
        "id": "ygPGdOolNBwf"
      },
      "execution_count": null,
      "outputs": []
    },
    {
      "cell_type": "code",
      "source": [
        "par(mfrow = c(2, 2))\n",
        "plot(model_ln, col=\"plum3\",pch=20)"
      ],
      "metadata": {
        "id": "M5UO7HuMUCO1"
      },
      "execution_count": null,
      "outputs": []
    },
    {
      "cell_type": "markdown",
      "source": [
        "**Porovnanie**"
      ],
      "metadata": {
        "id": "t-3arJqkP9Qa"
      }
    },
    {
      "cell_type": "code",
      "source": [
        "#summary(model)\n",
        "#summary(model_ln)\n",
        "#summary(model_pwr)\n"
      ],
      "metadata": {
        "id": "q5RWwLWEs_j7"
      },
      "execution_count": null,
      "outputs": []
    },
    {
      "cell_type": "markdown",
      "source": [
        "Chceme porovnať naše modely.\n",
        "\n",
        "Pôvodný lineárny model mal hodnotu charakteristiky $R^2=0.2181$ a smerodajnú odchylku reziduí $sd_e=6.447$. S použitím mocninnej transformácie sa hodnota zvýšila na $R^2=0.2657$, smerodajná odchylka poklesla na $sd_e=0.1523$ a vrámci logaritmickej transformácie sme obdržali hodnotu $R^2=0.2607$, čo je nižsie ako pre mocninnú, ale vyššie než pre netransformovaný model a a $sd_e=0.2519$ opäť trochu horšie než pre mocninný model a markantne lepšie než pre netransformovaný model.\n",
        "\n",
        "Ďalej vyobrazíme Q-Q ploty pre jednotlivé modely. Môžeme pozorovať, že oba transformované modely grafy indikujú normalitu dát.\n",
        "\n"
      ],
      "metadata": {
        "id": "sbtHJyc0ssll"
      }
    },
    {
      "cell_type": "code",
      "source": [
        "#fig(12,12)\n",
        "op <- par(mfrow=c(3,2))\n",
        "plot(model, sub = \"Bez tranfsormacie\", which = 1, pch = 20, col = \"plum3\", lwd = 2)\n",
        "plot(Boston_data$indus, sqrt(abs(rstandard(model))), sub = \"Bez tranfsormacie\", pch = 20, col = \"plum3\", bg = \"royalblue4\",\n",
        "     xlab = \"Indus (1000$)\", ylab = as.expression(substitute(sqrt(abs(yL)), list(yL = as.name(\"Standardized residuals\")))),\n",
        "     main = \"Scale-Location (Indus)\")\n",
        "lines(lowess(Boston_data$indus, sqrt(abs(rstandard(model)))), col = \"red3\", lwd = 2)\n",
        "abline(lm(sqrt(abs(rstandard(model)))~Boston_data$indus), col = \"mediumseagreen\", lwd = 2)\n",
        "plot(model_ln, sub = \"Logaritmická transf.\", which = 1, pch = 20, col = \"plum3\", lwd = 2)\n",
        "plot(Boston_data$indus, sqrt(abs(rstandard(model_ln))), pch = 20, col = \"plum3\", bg = \"royalblue4\",\n",
        "     xlab = \"Indus (1000$)\", ylab = as.expression(substitute(sqrt(abs(yL)), list(yL = as.name(\"Standardized residuals\")))),\n",
        "     sub = \"Logaritmická transf.\",main = \"Scale-Location (Indus)\")\n",
        "lines(lowess(Boston_data$indus, sqrt(abs(rstandard(model_ln)))), col = \"red3\", lwd = 2)\n",
        "abline(lm(sqrt(abs(rstandard(model_ln)))~Boston_data$indus), col = \"mediumseagreen\", lwd = 2)\n",
        "\n",
        "plot(model_pwr, sub = \"Mocninná transf.\", which = 1, pch = 20, col = \"plum3\", lwd = 2)\n",
        "plot(Boston_data$indus, sqrt(abs(rstandard(model_pwr))), pch = 20, col = \"plum3\", bg = \"royalblue4\",\n",
        "     xlab = \"Indus (1000$)\", ylab = as.expression(substitute(sqrt(abs(yL)), list(yL = as.name(\"Standardized residuals\")))),\n",
        "     sub = \"Mocninná transf.\",main = \"Scale-Location (Indus)\")\n",
        "lines(lowess(Boston_data$indus, sqrt(abs(rstandard(model_pwr)))), col = \"red3\", lwd = 2)\n",
        "abline(lm(sqrt(abs(rstandard(model_pwr)))~Boston_data$indus), col = \"mediumseagreen\", lwd = 2)"
      ],
      "metadata": {
        "id": "_SffmUFIUVTe"
      },
      "execution_count": null,
      "outputs": []
    },
    {
      "cell_type": "code",
      "source": [
        "fig(12,12)\n",
        "op <- par(mfrow=c(2,3))\n",
        "plot(model,which=2, pch = 20, col = \"plum3\", lwd = 2,sub = \"Bez transf.\")\n",
        "plot(model_ln,which=2, pch = 20, col = \"plum3\", lwd = 2,sub = \"Logaritmická transf.\")\n",
        "plot(model_pwr,which=2,  pch = 20, col = \"plum3\", lwd = 2,sub = \"Mocninná transf.\")\n",
        "hist(resid(model),breaks=30, col = \"plum3\",sub = \"Bez transf.\")\n",
        "hist(resid(model_ln),breaks=30, col = \"plum3\",sub = \"Logaritmická transf.\")\n",
        "hist(resid(model_pwr),breaks=30, col = \"plum3\",sub = \"Mocninná transf.\")"
      ],
      "metadata": {
        "id": "r36fofVLgGmA"
      },
      "execution_count": null,
      "outputs": []
    },
    {
      "cell_type": "code",
      "source": [
        "# compare models with and without log transform\n",
        "op <- par(mfrow=c(3,2))\n",
        "qqPlot(model, simulate=TRUE, line=\"quartiles\")\n",
        "plot(density(rstudent(model)))\n",
        "qqPlot(model_ln, simulate=TRUE, line=\"quartiles\")\n",
        "plot(density(rstudent(model_ln)))\n",
        "qqPlot(model_pwr, simulate=TRUE, line=\"quartiles\")\n",
        "plot(density(rstudent(model_pwr)))\n",
        "par(op)"
      ],
      "metadata": {
        "id": "XackQwWQP80g"
      },
      "execution_count": null,
      "outputs": []
    },
    {
      "cell_type": "markdown",
      "source": [
        "Aplikujeme príslušné testy, aby sme prípadne vyvrátili naše domnienky z grafov (podotknime, že v praxi často stačí záver na základe Q-Qplotov, či absencia kónusu reziduálneho scatterplotu).\n",
        "\n",
        "Pre test normality využijeme Lillieforsov, Shapiro-Wilkov a Anderson-Darlingov test s levelom signifikantnosti α=5%. Pre netransformovaný model dostávame veľmi nízke p-hodnoty (pod $10^{-7}$) pre všetky testy a teda zamietame hypotézu o normalite dát. Pre logaritmickú transformáciu máme hodnoty nad 0.077, čiže nemáme dostatok dókazov na zamietnutie hypotézy o normalite dát a pre mocninnú transformáciu sú p-hodnoty o niečo vyššie a opäť nemožno hypotézu normality zamietnuť.\n",
        "\n"
      ],
      "metadata": {
        "id": "Tdavgzxx0qFg"
      }
    },
    {
      "cell_type": "code",
      "source": [
        "#Normality\n",
        "print(\"************************Orig*************************\")\n",
        "lillie.test(resid(model))   # Lilliefors test\n",
        "shapiro.test(resid(model))      # Shapiro-Wilk test\n",
        "ad.test(resid(model))\n",
        "print(\"************************Log*************************\")\n",
        "lillie.test(resid(model_ln))   # Lilliefors test\n",
        "shapiro.test(resid(model_ln))      # Shapiro-Wilk test\n",
        "ad.test(resid(model_ln))\n",
        "print(\"************************Power*************************\")\n",
        "lillie.test(resid(model_pwr))   # Lilliefors test\n",
        "shapiro.test(resid(model_pwr))      # Shapiro-Wilk test\n",
        "ad.test(resid(model_pwr))"
      ],
      "metadata": {
        "id": "wcuCFjAK22uM"
      },
      "execution_count": null,
      "outputs": []
    },
    {
      "cell_type": "markdown",
      "source": [
        "Rovnako potrebujeme otestovať homoskedasticitu dát. Využijeme Breusch-Pagan test, s nutnosťou normálne rozdelených reziduí. Testujeme len transformované modely. Dostávame hodnoty 0.79 pre logaritmickú a 0.24 pre mocninnú transformáciu v dôsledku čoho pri α=5% nezamietame homoskedasticitu.\n",
        "\n",
        "Test homoskedasticity vyšiel významnejšie pre logaritmickú transformáciu, čo spolu s úzusom z praxe pre λ z konfidenčného intervalu 0 a ľahšou interpretovateľnosťou modelu s touto transformáciou považujeme za vhodné ďalej pracovať práve s logaritmicky transformovaným modelom"
      ],
      "metadata": {
        "id": "I-2IHw63_4fH"
      }
    },
    {
      "cell_type": "code",
      "source": [
        "# for dependence on mean value (residual variance on the response expectation)\n",
        "# Breusch-Pagan test statistic - library lmtest\n",
        "\n",
        "print(\"************************Log*************************\")\n",
        "bptest(model_ln)\n",
        "print(\"************************Power*************************\")\n",
        "bptest(model_pwr)"
      ],
      "metadata": {
        "id": "dgZ6GMMg223m"
      },
      "execution_count": null,
      "outputs": []
    },
    {
      "cell_type": "markdown",
      "source": [],
      "metadata": {
        "id": "eiuAc1THAfc8"
      }
    },
    {
      "cell_type": "markdown",
      "source": [
        "### cv_8 help"
      ],
      "metadata": {
        "id": "5nC2fwEz4-gz"
      }
    },
    {
      "cell_type": "code",
      "source": [
        "# # for dependence on mean value (residual variance on the response expectation)\n",
        "# # Breusch-Pagan test statistic - library lmtest\n",
        "# bptest(cars_lm3)\n",
        "# bptest(cars_lm3,varformula = ~fitted(cars_lm3),studentize = T)\n",
        "# bptest(cars_lm3,varformula = ~fitted(cars_lm3),studentize = FALSE)\n",
        "# # Score Test for Non-Constant Error Variance (Breusch-Pagan test) library:car\n",
        "# ncvTest(cars_lm3)\n",
        "# \n",
        "# # check dependence on covariate \n",
        "# with(cars,bptest(cars_lm3,varformula = ~speed,studentize = FALSE))\n",
        "# ncvTest(cars_lm3, var.formula = ~speed)\n",
        "# \n",
        "# \n",
        "# # Normality \n",
        "# \n",
        "# # shapiro.test\n",
        "# # lillie.test\n",
        "# # ad.test\n",
        "# # library(ICSOutlier) jarque.test, anscombe.test\n",
        "# \n",
        "# par(mfrow = c(1, 1))\n",
        "# plot(cars_lm3, which = 2, pch = 20, col = \"blue4\", lwd = 2)\n",
        "# library(nortest)\n",
        "# #budeme používať Liliefors a Shapira\n",
        "# #KS má problém ak máme opakujúce sa pozorovanie v 1 bode\n",
        "# lillie.test(residuals(cars_lm3))   # Lilliefors test\n",
        "# #ks.test(residuals(cars_lm3),\"pnorm\",0,15)\n",
        "# shapiro.test(resid(cars_lm3))      # Shapiro-Wilk test\n",
        "# shapiro.test(residuals(cars_lm3))  # same\n",
        "# ad.test(resid(cars_lm3))\n",
        "# \n",
        "# summary(cars_lm3)\n",
        "# \n",
        "# # Independence (Checking uncorrelated errors)\n",
        "# #chyba može závisieť na poradi merania (únava pozorovateľa...)\n",
        "# #možeme čeknuť \"zpoždeňí rezidua\"\n",
        "# # Assume that data are measured from one car - step-by-step\n",
        "# # check if there is any independence (driver is tired, breaks abraded, ...)\n",
        "# \n",
        "# # bgtest library(lmtest)\n",
        "# bgtest(cars_lm3)\n",
        "# dwtest(cars_lm3) # One-sided \n",
        "# dwtest(cars_lm3, alternative = \"two.sided\")  # Two-sided \n",
        "# \n",
        "# set.seed(420)\n",
        "# durbinWatsonTest(cars_lm3, alternative = \"positive\") # One-sided \n",
        "# durbinWatsonTest(cars_lm3)  # Two-sided "
      ],
      "metadata": {
        "id": "Dxef78rR2GzL"
      },
      "execution_count": null,
      "outputs": []
    },
    {
      "cell_type": "markdown",
      "source": [
        "### ."
      ],
      "metadata": {
        "id": "uAL_M9yu5Ku2"
      }
    },
    {
      "cell_type": "markdown",
      "metadata": {
        "id": "1e4d14a1"
      },
      "source": [
        "* Otázka 4\n",
        "\n",
        "  Z log transformovaného modelu vyčtěte procentuální navýšení/pokles ceny nemovitostí při změně zastoupení nemaloobchodního podnikání o 5 jednotek  (odpověď typu: \n",
        "Střední cena nemovitosti v lokalitách okolo Bostonu,  liších se podílem nemaloobchodních zón, klesá/roste zhruba o XX% na každou 1 jednotku nárůstu/poklesu podílu nemaloobchodních zón."
      ]
    },
    {
      "cell_type": "markdown",
      "source": [
        "Jednotkovú zmenu $x_j \\longrightarrow x_j + 1$ dostaneme podelením modelov:\n",
        "$$\\frac{E[Y_{new}]}{E[Y]}=\\frac{e^{\\hat{\\beta_0}+\\hat{\\beta_1}x_1 + \\dots + \\hat{\\beta_j}(x_j+1) + \\dots +\\hat{\\beta_m}x_m}}{e^{\\hat{\\beta_0}+\\hat{\\beta_1}x_1 + \\dots + \\dots +\\hat{\\beta_m}x_m}}=e^{\\hat{\\beta_j}},$$\n",
        "\n",
        "čo možno zapísať ako $100(\\hat{\\beta_j}-1)\\%$ zmena priemernej odozvy s jednotkovou zmenou $x_j$.\n",
        "\n",
        "Pre náš model dostávame, že stredná cena nehnuteľností v lokalitách okolo Bostonu, líšiacich sa s podielom nemaloobchodných zón klesá zhruba o 2.33% na každú 1 jednotku nárastu podielu nemaloobchodných zón a teda poklesne o 11.11% pri náraste zastúpenia nemaloobchodných zón o 5 jednotiek. "
      ],
      "metadata": {
        "id": "wWelPIanBtMn"
      }
    },
    {
      "cell_type": "code",
      "source": [
        "unname(100*(exp(model_ln$coefficients[2])-1))\n",
        "unname(100*(exp(5*model_ln$coefficients[2])-1))"
      ],
      "metadata": {
        "id": "o5g6r8qNBssK"
      },
      "execution_count": null,
      "outputs": []
    },
    {
      "cell_type": "markdown",
      "source": [
        "\n",
        "\n",
        "* Otázka 5\n",
        "\n",
        "  Vyberte jeden z předešlých modelů (s/bez transformované odezvy) a zkuste transformovat i nezávislou proměnnou `indus`. Vyzkoušejte například po částech konstantní transformaci (odpovídající faktorizaci nezávislé proměnné), splines a polynomiální transformace (kvadratickou a kubickou). Zkuste využít informací získaných například z `crPlots(model)`. Lze některé z těchto modelů testovat mezi sebou F-testem? Pokud ano, proveďte a diskutujte.  "
      ],
      "metadata": {
        "id": "vRlFB79Cctdl"
      }
    },
    {
      "cell_type": "markdown",
      "source": [
        "V ďalšej časti pokračujeme s modelom s logaritmicou transformáciou odozvy - reziduá spĺňajú požiadavku homoskedasticity, ich rozdelenie akceptujeme (test normalitu nezamietol, Q.Qplot tiež vyhovuje) ako normálne a dá sa interpretovať.\n",
        "\n",
        "Vykreslíme  `crPlots` (component residual plot) zvoleného modelu. Vidíme, že komponenty vie sú vyvážene rozložené okolo reziduálnej priamky. Aby sme tento trend poupravili, transformujeme prediktor `indus` (logaritmicky, polynomiálne)."
      ],
      "metadata": {
        "id": "PQHrbqTzG5Ns"
      }
    },
    {
      "cell_type": "code",
      "source": [
        "fig(7,6)\n",
        "crPlots(model_ln, col = \"plum3\",pch=20)\n"
      ],
      "metadata": {
        "id": "QKoN1pf6MI0u"
      },
      "execution_count": null,
      "outputs": []
    },
    {
      "cell_type": "markdown",
      "source": [
        "**Logaritmická transformácia prediktora**\n",
        "\n",
        "Model s transformovaným prediktorom má $R^2=0.2921$, čo je zvýšenie oproti východziemu modelu(0.2607) a Residual standard error: 0.2465, opäť zlepšená hodnota (0.2519).\n",
        "Na vykreslenom component residual plote pozorujeme zlepšenie rozmiestnenia dát okolo krivky predikcie modelu."
      ],
      "metadata": {
        "id": "9KdCsOSpXn5z"
      }
    },
    {
      "cell_type": "code",
      "source": [
        "model_ln_pred=lm(log(medv)~log(indus), data=Boston_data)\n",
        "summary(model_ln_pred)\n",
        "crPlots(model_ln_pred, col=\"plum3\",pch=20)"
      ],
      "metadata": {
        "id": "HxQjNZ3EMfnh"
      },
      "execution_count": null,
      "outputs": []
    },
    {
      "cell_type": "markdown",
      "source": [
        "**Polynomiálna - kvadratická transformácia**\n",
        "\n",
        "Aplikujeme kvadratickú transformáciu. Model sa oproti predošlej úprave prediktora mierne zhoršil, $R^2$ poklesol na 0.2843."
      ],
      "metadata": {
        "id": "ZCfltvRNlUH5"
      }
    },
    {
      "cell_type": "code",
      "source": [
        "model_pol2 = lm(log(medv) ~ indus + I(indus^2), Boston_data)\n",
        "summary(model_pol2)\n",
        "crPlots(model_pol2, col=\"plum3\")"
      ],
      "metadata": {
        "id": "Z37P86J1mKHP"
      },
      "execution_count": null,
      "outputs": []
    },
    {
      "cell_type": "markdown",
      "source": [
        "**Polynomiálna - kubická transformácia**\n",
        "\n",
        "Pri použití kubickej transformácie dochádza k zlepšeniu modelu a hodnota $R^2$ stúpa na 0.3203, zároveň model ešte má všetky premenné štatisticky významné."
      ],
      "metadata": {
        "id": "WTMb8hnLlyVS"
      }
    },
    {
      "cell_type": "code",
      "source": [
        "model_pol3 = lm(log(medv) ~ indus + I(indus^2) + I(indus^3), Boston_data)\n",
        "summary(model_pol3)\n",
        "crPlots(model_pol3, col=\"plum3\")"
      ],
      "metadata": {
        "id": "-51h2aCLlwbH"
      },
      "execution_count": null,
      "outputs": []
    },
    {
      "cell_type": "markdown",
      "source": [
        "**Po častiach konštantná transformácia**\n",
        "\n",
        "Podľa zadania aplikujueme aj po častiach konstantnú transformáciu. $R^2$ značne poklesne na 0.1568."
      ],
      "metadata": {
        "id": "ubg5b2Ie6vko"
      }
    },
    {
      "cell_type": "code",
      "source": [
        "table(cut(Boston_data$indus,3))\n",
        "model_cnst = lm(log(medv)~cut(indus,3), data = Boston_data)\n",
        "summary(model_cnst)\n",
        "crPlots(model_cnst)"
      ],
      "metadata": {
        "id": "J9sUh4NL2i2q"
      },
      "execution_count": null,
      "outputs": []
    },
    {
      "cell_type": "markdown",
      "source": [
        "**Splines**\n",
        "\n",
        "Pre ilustráciu podľa zadania použijeme aj splines, tak aby prechádzali 1.,2.,3. kvartilom. Vrámci tejto metódy sa dostávame na $R^2=0.345$, avšak jediné významné prediktory sú intercept a jadro šiesteho stupňa. \n",
        "\n",
        "Nižšie vykreslíme aj preloženie dát predpoveďou a všimneme si, že v oblasti 0-5 indus dochádza k overtrainingu."
      ],
      "metadata": {
        "id": "5DsWT359NHzr"
      }
    },
    {
      "cell_type": "code",
      "source": [
        "install.packages(\"splines\")\n",
        "library(splines)"
      ],
      "metadata": {
        "id": "dCZmdUldNm4D"
      },
      "execution_count": null,
      "outputs": []
    },
    {
      "cell_type": "code",
      "source": [
        "summary(Boston_data$indus)"
      ],
      "metadata": {
        "id": "aJnu15ssPZln"
      },
      "execution_count": null,
      "outputs": []
    },
    {
      "cell_type": "code",
      "source": [
        "spl_mod <- lm(log(medv) ~ bs(indus, knots = c(4,6,10)), data = Boston_data)\n",
        "summary(spl_mod)\n"
      ],
      "metadata": {
        "id": "N9D_trqJNJsA"
      },
      "execution_count": null,
      "outputs": []
    },
    {
      "cell_type": "markdown",
      "source": [
        "Vykreslíme si preloženie dát predpoveďovými krivkami"
      ],
      "metadata": {
        "id": "i6Las9Y-Mm5I"
      }
    },
    {
      "cell_type": "code",
      "source": [
        "fig(11,8)\n",
        "plot(log(medv) ~ indus, data = Boston_data, col = \"plum2\",pch=20)\n",
        "lines (sort(Boston_data$indus), sort(predict(model_ln_pred),decreasing = TRUE), col = 'violetred4', lwd = \"3\")\n",
        "lines (sort(Boston_data$indus), sort(predict(model_pol2),decreasing = TRUE), col = 'steelblue1', lwd = \"3\")\n",
        "lines (sort(Boston_data$indus), sort(predict(model_pol3),decreasing = TRUE), col = 'lightsalmon', lwd = \"3\")\n",
        "lines (sort(Boston_data$indus), sort(predict(model_cnst),decreasing = TRUE), col = 'olivedrab3', lwd = \"3\")\n",
        "lines (sort(Boston_data$indus), sort(predict(spl_mod),decreasing = TRUE), col = 'royalblue', lwd = \"3\")\n",
        "legend( x=\"bottomleft\", \n",
        "        legend=c(\"log\", \"pol2\",\"pol3\", \"p.const\",\"spline\"),\n",
        "        col=c(\"violetred4\",\"steelblue1\",\"lightsalmon\",\"olivedrab3\",\"royalblue\"), \n",
        "        lwd=2, lty=c(1,1,1,1,1))\n",
        "        "
      ],
      "metadata": {
        "id": "b2P8Gb6m2LzS"
      },
      "execution_count": null,
      "outputs": []
    },
    {
      "cell_type": "markdown",
      "source": [
        "Modely možno medzi sebou porovnávať, iba ak jeden je podmodelom druhého. Môžeme teda F-testom porovnať kvadratický a kubický model. Podľa nízkych p-hodnôt vidíme, že pridanie mocnín oproti východziemu modelu tejto úlohy vedie k signifikantnému zlepšeniu modelu. to samé platí pre pridanie tretej mocniny v kubickom modeli oproti kvadratickému modelu."
      ],
      "metadata": {
        "id": "v_fOwAesABma"
      }
    },
    {
      "cell_type": "code",
      "source": [
        "anova(model_pol2,model_pol3)\n",
        "anova(model_ln, model_pol2,model_pol3)"
      ],
      "metadata": {
        "id": "_fBK76pgBWTL"
      },
      "execution_count": null,
      "outputs": []
    },
    {
      "cell_type": "markdown",
      "source": [
        "\n",
        "\n",
        "* Otázka 6\n",
        "\n",
        "  Vyberte jeden z předešlých modelů, zdůvodněte jeho výběr a validujte ho pomocí příslušných testů hypotéz na rezidua (normalita, homoscedasticita, ...) a pomocí příslušných obrázků (QQplot, residua vs. fitted, atd.)"
      ],
      "metadata": {
        "id": "WlKIZN8xcugM"
      }
    },
    {
      "cell_type": "code",
      "source": [
        "fig(11,8)\n",
        "plot(log(medv) ~ indus, data = Boston_data, col = \"plum2\",pch=20)\n",
        "lines (sort(Boston_data$indus), sort(predict(model_ln_pred),decreasing = TRUE), col = 'violetred4', lwd = \"3\")\n",
        "lines (sort(Boston_data$indus), sort(predict(model_pol2),decreasing = TRUE), col = 'steelblue1', lwd = \"3\")\n",
        "lines (sort(Boston_data$indus), sort(predict(model_pol3),decreasing = TRUE), col = 'lightsalmon', lwd = \"3\")\n",
        "lines (sort(Boston_data$indus), sort(predict(model_cnst),decreasing = TRUE), col = 'olivedrab3', lwd = \"3\")\n",
        "lines (sort(Boston_data$indus), sort(predict(spl_mod),decreasing = TRUE), col = 'royalblue', lwd = \"3\")\n",
        "legend( x=\"bottomleft\", \n",
        "        legend=c(\"log\", \"pol2\",\"pol3\", \"p.const\",\"spline\"),\n",
        "        col=c(\"violetred4\",\"steelblue1\",\"lightsalmon\",\"olivedrab3\",\"royalblue\"), \n",
        "        lwd=2, lty=c(1,1,1,1,1))"
      ],
      "metadata": {
        "id": "58IFDqqOVvVT"
      },
      "execution_count": null,
      "outputs": []
    },
    {
      "cell_type": "markdown",
      "source": [
        "Zobrazili sme si preloženie dát modelmi."
      ],
      "metadata": {
        "id": "uDqJMyw6Vwsr"
      }
    },
    {
      "cell_type": "code",
      "source": [
        "summary(model_pol3)\n",
        "crPlots(model_pol3, col=\"plum3\",pch=20)\n",
        "crPlots(lm(log(medv) ~ poly(indus,3), Boston_data), col=\"plum3\",pch=20)"
      ],
      "metadata": {
        "id": "K9TRCdLscrFC"
      },
      "execution_count": null,
      "outputs": []
    },
    {
      "cell_type": "markdown",
      "metadata": {
        "id": "9a06e37e"
      },
      "source": [
        "## Vícerozměrný regresní model\n",
        "\n",
        "* Otázka 7\n",
        "\n",
        "  Zkonstruujte lineární model s logaritmicky transformovanou odezvou `medv` a zkuste najít vztah mezi cenou a dalšími nezávislými proměnnými, které máte k dispozici (stačí aditivní model bez interakcí). Na základě kritérií jako jsou `AIC, BIC, $R^2$, F,` atd. vyberte podle vás nejvhodnější model. Lze vztah mezi `indus` a `medv`, pokud existuje, vysvětlit pomocí jiných proměnných? Tj, že například v oblastech s větším zastoupením velkoobchodu a průmyslu bydlí chudší lidé, je tam větší znečištění, nebo větší kriminalita atd.?"
      ]
    },
    {
      "cell_type": "markdown",
      "metadata": {
        "id": "703e7965"
      },
      "source": [
        "* Otázka 8\n",
        "\n",
        "  Použijte ve výsledném modelu proměnnou `indus` a porovnejte jak se změnil její vliv na medián ceny nemovitostí oproti jednoduchému regresnímu modelu s log transformovanou odezvou (viz otázka 4). Jaké je snížení průměrné ceny nemovitostí při vzrůstu proměnné indus o jednu jednotku? Pokud  proměnnou `indus` v modelu nemáte tak ji pro tuto otázku do modelu přiřaďte na úkor jiné proměnné s kterou je nejvíce korelovaná."
      ]
    },
    {
      "cell_type": "markdown",
      "metadata": {
        "id": "49d1540b"
      },
      "source": [
        "* Otázka 9\n",
        "\n",
        "\tPrezentujte váš výsledný model pro predikci `medv`, diskutujte výsledné parametry $R^2$, $\\sigma$, $F$ a porovnejte je s jednoduchým lin. modelem z otázky 6. Jak se změnily a dala se tato změna očekávat? Validujte model (jak graficky, tak pomocí příslušných testů hypotéz). Pomocí Partial regression plots a Partial residual plots diskutujte linearitu použitých proměnných."
      ]
    },
    {
      "cell_type": "markdown",
      "metadata": {
        "lines_to_next_cell": 0,
        "id": "0a307bea"
      },
      "source": [
        "* Otázka 10\n",
        "\n",
        "  Na základě vašeho modelu odpovězte, zdali si myslíte, že pokud bychom dokázali snížit/zvýšit podíl maloobchodu v dané lokalitě, vedlo by to ke zvýšení cen nemovitostí určených k bydlení v dané lokalitě? "
      ]
    },
    {
      "cell_type": "code",
      "execution_count": null,
      "metadata": {
        "tags": [
          "remove_input"
        ],
        "id": "fb1571d0"
      },
      "outputs": [],
      "source": []
    }
  ]
}