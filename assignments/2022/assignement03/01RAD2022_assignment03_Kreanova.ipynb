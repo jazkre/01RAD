{
  "nbformat": 4,
  "nbformat_minor": 0,
  "metadata": {
    "colab": {
      "private_outputs": true,
      "provenance": [],
      "include_colab_link": true
    },
    "kernelspec": {
      "name": "ir",
      "display_name": "R"
    },
    "language_info": {
      "name": "R"
    }
  },
  "cells": [
    {
      "cell_type": "markdown",
      "metadata": {
        "id": "view-in-github",
        "colab_type": "text"
      },
      "source": [
        "<a href=\"https://colab.research.google.com/github/jazkre/01RAD/blob/main/assignments/2022/assignement03/01RAD2022_assignment03_Kreanova.ipynb\" target=\"_parent\"><img src=\"https://colab.research.google.com/assets/colab-badge.svg\" alt=\"Open In Colab\"/></a>"
      ]
    },
    {
      "cell_type": "markdown",
      "metadata": {
        "id": "ad8e29b1"
      },
      "source": [
        "# 3. zápočtová úloha z 01RAD\n",
        "\n",
        "## Popis úlohy\n",
        "\n",
        "Datový soubor vychází z datasetu \\texttt{House Sales in King County, USA}, který je k nalezení například na kaggle.com, nebo v knihovně \\texttt{library(moderndive)} data \\texttt{house\\_prices}.\n",
        "Původní dataset obsahuje prodejní ceny domů v oblasti King County, která obsahuje i město Seattle, a data byla nasbírána mezi květnem 2014 a květnem 2015. Pro naše potřeby bylo z datasetu vypuštěno jak několik proměnných, také byl dataset výrazně osekán a lehce modifikován.\n",
        "\n",
        "Dále byl dataset již dopředu rozdělen na tři části, které všechny postupně v rámci 3. zápočtové úlohy využijete.\n"
      ]
    },
    {
      "cell_type": "code",
      "execution_count": null,
      "metadata": {
        "lines_to_next_cell": 0,
        "tags": [
          "remove_input",
          "remove_cell"
        ],
        "id": "6c202f5f"
      },
      "outputs": [],
      "source": [
        "library(tidyverse)"
      ]
    },
    {
      "cell_type": "code",
      "source": [
        "knitr::opts_chunk$set(echo = FALSE)\n",
        "list_of_packages <- c(\"tidyverse\", \"MASS\",\"GGally\",\"moderndive\", \n",
        "                      \"dplyr\",\"car\",\"lmtest\",\"nortest\",\"psych\",\"ggpubr\",\"corrplot\",\"RColorBrewer\", \"olsrr\")\n",
        "missing_packages <- list_of_packages[!(list_of_packages %in% installed.packages()[,\"Package\"])]\n",
        "missing_packages\n",
        "if(length(missing_packages)) install.packages(missing_packages)\n",
        "lapply(list_of_packages, library, character.only = TRUE)"
      ],
      "metadata": {
        "id": "rrNvqNNZHEEu"
      },
      "execution_count": null,
      "outputs": []
    },
    {
      "cell_type": "code",
      "source": [
        "fig <- function(width, heigth){\n",
        " options(repr.plot.width = width, repr.plot.height = heigth)\n",
        " }\n",
        " options(jupyter.plot_scale=2)"
      ],
      "metadata": {
        "id": "izyNRlA6HFEE"
      },
      "execution_count": null,
      "outputs": []
    },
    {
      "cell_type": "code",
      "execution_count": null,
      "metadata": {
        "tags": [
          "remove_input"
        ],
        "id": "09d4b6a7"
      },
      "outputs": [],
      "source": [
        "house_rad <- read.table(\"https://raw.githubusercontent.com/francji1/01RAD/main/data/01RAD2022_house.csv\",header=TRUE,sep=\",\")\n",
        "head(house_rad)"
      ]
    },
    {
      "cell_type": "markdown",
      "metadata": {
        "id": "59da5591"
      },
      "source": [
        "Data celkem obsahují  následujících 18 proměnných, přičemž naším cílem je prozkoumat vliv 12 z nich na cenu nemovitostí   * price}. Přičemž anglický popis jednotlivých proměnných (sloupců) je následující:\n",
        "\n",
        "Feature & Description\n",
        " \n",
        "  * id  : Our notation for a house  \n",
        " \n",
        "  * price  : Price is prediction target  \n",
        " \n",
        "  * bedrooms  : Number of Bedrooms/House  \n",
        " \n",
        "  * bathrooms  : Number of Bathrooms/Bedrooms  \n",
        " \n",
        "  * sqft\\_living  : Square footage of the home  \n",
        " \n",
        "  * sqft\\_lot  : Square footage of the lot   \n",
        " \n",
        "  * floors  :  Total floors (levels) in house \n",
        " \n",
        "  * waterfront  : House which has a view to a waterfront   \n",
        " \n",
        "  * view  : Has been viewed  \n",
        " \n",
        "  * condition  : How good the condition is Overall  \n",
        " \n",
        "  * grade  : Overall grade given to the housing unit \n",
        " \n",
        "  * sqft\\_above  : Square footage of house apart from basement   \n",
        " \n",
        "  * sqft\\_basement  : Square footage of the basement   \n",
        " \n",
        "  * yr\\_built  : Built Year   \n",
        " \n",
        "  * yr\\_renovated  : Year when house was renovated  \n",
        " \n",
        "  * sqft\\_living15  : Living room area in 2015 (implies– some renovations) \n",
        " \n",
        "  * sqft\\_lot15  : lotSize area in 2015 (implies– some renovations)  \n",
        " \n",
        "  * split  : Splitting variable with train, test and validation sample  \n"
      ]
    },
    {
      "cell_type": "markdown",
      "metadata": {
        "id": "0fec6286"
      },
      "source": [
        "## Podmínky a body\n",
        "\n",
        "Úkol i protokol vypracujte samostatně. Pokud na řešení nějaké úlohy budete přesto s někým spolupracovat, radit se, nezapomeňte to u odpovědi na danou otázku uvést. Tato zápočtová úloha obsahuje 10 otázek po 1 bodu. Celkem za 3 zápočtové úlohy bude možné získat 30 bodů, přičemž pro získání zápočtu je potřeba 20. Další dodatečné body mohu případně individuálně udělit za řešení mini domácích úkolů z jednotlivých hodin.\n",
        "\n",
        "## Odevzdání\n",
        "\n",
        "Protokol ve formátu pdf (včetně příslušného Rmd souboru) odevzdejte prostřednictvím MS Teams, nejpozději do 12:00 dne 5. 1. 2023.\n"
      ]
    },
    {
      "cell_type": "markdown",
      "metadata": {
        "id": "346e75c7"
      },
      "source": [
        "## Průzkumová a grafická část:\n",
        "\n",
        "* Otázka 01\n",
        "\n",
        "  Ověřte rozměry datového souboru, typy jednotlivých proměnných,  a shrňte základní popisné charakteristiky všech proměnných. Vykreslete histogram a odhad hustoty pro odezvu   * price}, dá se z toho již něco odvozovat pro budoucí analýzu?\n",
        "  \n",
        "  \\"
      ]
    },
    {
      "cell_type": "markdown",
      "source": [
        "Dataset obsahuje 2000 objektov (pozorovaní) s 19 premennými. \n",
        "\n",
        "Typy jednotlivých premenných nám poskytuje náhľad `head()`, respektíve výčet pomocou parametru *class*. Čo sa týka klasifikácie premenných, za *kvalitatívne* považujeme `waterfront`, `condition`, `grade` plus ako *ordinálne* chápeme `X` a `id` a značia poradie objektu, identifikátor. Ostatné premenná ako `price`, `bedrooms`, `bathrooms`, `sqft_living` a ostatné doposiaľ nevymenované považujeme za *kvantitatívne*.\n",
        "\n",
        "Základné štatistiky uvádzame vrámci výpisu funkcie `summary()`."
      ],
      "metadata": {
        "id": "dE0fGxPE_2oq"
      }
    },
    {
      "cell_type": "code",
      "source": [
        "head(house_rad)"
      ],
      "metadata": {
        "id": "4okTc60H-sH8"
      },
      "execution_count": null,
      "outputs": []
    },
    {
      "cell_type": "code",
      "source": [
        "print(\"Rozmery dátového súboru: \")\n",
        "dim(house_rad)\n",
        "print(\"\")\n",
        "print(\"Typy jednotlivých premenných: \")\n",
        "sapply(house_rad, class)"
      ],
      "metadata": {
        "id": "oa0adasE8dRU"
      },
      "execution_count": null,
      "outputs": []
    },
    {
      "cell_type": "code",
      "source": [
        "unique(house_rad$waterfront)\n",
        "unique(house_rad$view)"
      ],
      "metadata": {
        "id": "xYDI-yCYBdcp"
      },
      "execution_count": null,
      "outputs": []
    },
    {
      "cell_type": "code",
      "execution_count": null,
      "metadata": {
        "tags": [
          "remove_input"
        ],
        "id": "b74945be"
      },
      "outputs": [],
      "source": [
        "#\n",
        "summary(house_rad)"
      ]
    },
    {
      "cell_type": "markdown",
      "source": [
        "Premenná `X` je totožná s `id`, preto ju vynecháme. Máme teda **2000** pozorovaní s **18** premennými. "
      ],
      "metadata": {
        "id": "iisu5GyKF3je"
      }
    },
    {
      "cell_type": "code",
      "source": [
        "house_rad<- house_rad[,!names(house_rad) %in% c(\"X\")]"
      ],
      "metadata": {
        "id": "AxP-4hrRnKdt"
      },
      "execution_count": null,
      "outputs": []
    },
    {
      "cell_type": "code",
      "source": [
        "attach(house_rad)\n",
        "fig(15,15)\n",
        "pairs.panels(house_rad,smooth=F,lm=T,scale=T,pch=20)"
      ],
      "metadata": {
        "id": "v34BGSMwxM4a"
      },
      "execution_count": null,
      "outputs": []
    },
    {
      "cell_type": "markdown",
      "source": [
        "**Pozn:** nie je uvedené, ale predpokladáme cenu v amerických dolároch."
      ],
      "metadata": {
        "id": "HzckzsaltvpV"
      }
    },
    {
      "cell_type": "markdown",
      "source": [
        "Zostrojíme histogram a odhad hustoty pre odozvu `price`. Vidíme, že v datasete máme niekoľko odľahlých pozorovaní, tj. veľmi vysoké ceny domov. 11 pozorovaní má cenu vyššiu než *2 900 000*, pričom keď si ich vypíšeme, vidíme, že dom s id=500 má chybne uvedenú obytný plochu 179 namiesto 1790 a vysokú hodnotu grade, ktorá pravdepodobne závisí na obytnej ploche, ale vzťah nám nie je známy, aby sme príslušnú hodnotu mohli prípadne opraviť. Niekoľko domov v tejto kategórií má veľkú plochu pozemku. Dom s id=100 má uvedenú cenu *8 500 000* a rok výstavby je 1911. Keď si vypíšeme domy postavené okolo tohto dátumu, s prihliadnutím na počet izieb, pohybujeme sa v cenovej kategórií desaťnásobne nižších súm. \n",
        "\n",
        "Na základe týchto postrehov by sme mali byť pri práci s týmito nehnuteľnosťami opatrný, dokonca je na mieste uvažovať možnosť modelu pre cenovo nižšie kategórie domov zvášť.\n",
        "\n",
        " Odhadnutá hustota naznačuje *Gaussovo normálne rozdelenie*."
      ],
      "metadata": {
        "id": "LG2JZZzHHYfT"
      }
    },
    {
      "cell_type": "code",
      "source": [
        "fig(10,6)\n",
        "ggplot(data = house_rad, aes(price))+\n",
        "  geom_histogram(aes(y =after_stat(density)), col=\"plum4\", fill=\"seashell1\", alpha = .7,bins =26) + \n",
        "  geom_density(col = \"steelblue1\")+\n",
        "  labs(title=\"Histogram\") +\n",
        "  labs(x= \"Cena \", y=\"hustota\")"
      ],
      "metadata": {
        "id": "4hV5E4Fp4ew6"
      },
      "execution_count": null,
      "outputs": []
    },
    {
      "cell_type": "code",
      "source": [
        "exps=subset(house_rad, house_rad$price>2900000)\n",
        "dim(exps)\n",
        "exps"
      ],
      "metadata": {
        "id": "DgyOyQjLLwX2"
      },
      "execution_count": null,
      "outputs": []
    },
    {
      "cell_type": "code",
      "source": [
        "subset(house_rad, house_rad$yr_built<1915 & house_rad$bedrooms<4)"
      ],
      "metadata": {
        "id": "TdK4gRsZR9-7"
      },
      "execution_count": null,
      "outputs": []
    },
    {
      "cell_type": "code",
      "source": [
        "unique(house_rad$grade)\n",
        "unique(house_rad$condition)\n",
        "unique(house_rad$floors)"
      ],
      "metadata": {
        "id": "NhgverKDNAAU"
      },
      "execution_count": null,
      "outputs": []
    },
    {
      "cell_type": "code",
      "source": [
        "subset(house_rad,house_rad$bedrooms==3 & house_rad$sqft_living>=1300 & house_rad$sqft_living<2000 & house_rad$yr_built>2005)"
      ],
      "metadata": {
        "id": "RcJrb-3-e7vi"
      },
      "execution_count": null,
      "outputs": []
    },
    {
      "cell_type": "code",
      "source": [
        "subset(house_rad,house_rad$yr_renovated==0 & house_rad$sqft_lot!=house_rad$sqft_lot15 & house_rad$sqft_living!=house_rad$sqft_living15)"
      ],
      "metadata": {
        "id": "E8JY84yseSxQ"
      },
      "execution_count": null,
      "outputs": []
    },
    {
      "cell_type": "markdown",
      "metadata": {
        "id": "6c6ae020"
      },
      "source": [
        "* Otázka 02\n",
        "\n",
        "  Jsou všechny proměnné použitelné pro analýzu a predikci ceny nemovitostí? Pokud data obsahují chybějící hodnoty, (případně nesmyslné hodnoty), lze je nějak nahradit (upravit), nebo musíme data odstranit?\n",
        "  \n",
        "  \\"
      ]
    },
    {
      "cell_type": "markdown",
      "source": [
        "Z funkcie `summary()` vidíme, že dataset neobsahuje chýbajúce hodnoty. Premennú `X` sme už odstránili (bola totožná s premennou `id`), premennú `id` vyslovene nepotrebuje, ale zatiaľ ju ponecháme ako identifikátor domu (aspoň pre potreby tejto úlohy), na ktorý sa budeme odkazovať.\n",
        "\n",
        "Už v predošlej úlohe sme načali podozrivé hodnoty. Všimli sme si:\n",
        "\n",
        "\n",
        "*   dom s id=500 má chybne uvedenú obytný plochu 179 namiesto 1790 a vysokú hodnotu grade (174), ktorá pravdepodobne závisí na obytnej ploche, ale vzťah nám nie je zo zadania známy, aby sme príslušnú hodnotu mohli prípadne opraviť. Toto pozorovanie odstránime z datasetu. V praxi by sme túto úpravu naviac diskutovali s poskytovateľom datasetu.\n",
        "\n",
        "\n",
        "*   dom s id=100 má uvedenú cenu *8 500 000* a rok výstavby je 1911. Keď si vypíšeme domy postavené okolo tohto dátumu, s prihliadnutím na počet izieb okolo 3, pohybujeme sa v cenovej kategórií desaťnásobne nižších súm. V inom ohľade sa tento dom nelíši pre zvolený výber. Stálo by za zváženie upraviť cenu na *850 000*, v praxi by sme túto úpravu diskutovali s poskytovateľom datasetu.\n",
        "\n",
        "\n",
        "* obdobný problém majú aj domy s id=200 a 300, kedy je cena 10násobne vyššia bez akéhokoľvek iného viditeľného dôvodu. (Nemožno vylúčiť, že sa v dome narodila/žila/zomrela významná osobnosť)\n",
        "\n",
        "$⟶$ pozorovania 100, 200, 300 vylúčime z datasetu (stálo by za pokus vydeliť cenu 10 a pracovať s takto upraveným datasetom, ale takýto postup bez konzultácie s poskytovateľom datasetu, by nás mohol stáť napr. pozíciu rektora niekde v na \"severe Viedne\" 😀. Pozícia rektore je nám v tejto práci vlastne jedno a takýto datyaset si tiež vytvoríme.)\n",
        "\n",
        "*   v datasete sa nachádza celkovo 6 pozorovaní vrátane domu 500 (ďalej 600,700,800,900,1000) s rovnakým problémom ako v bode 1: trojmiestna hodnota `grade` a obytná plocha zle zadaná - chýba 0. Tieto pozorovania vymažeme, lebo nevieme opraviť premennú `grade`\n",
        "\n",
        "*   v premennej `yr_renovated` sa nachádza mnoho núl - pri domoch, ktoré neboli renovované. V dôsledku toho sa nám rozpadá dataset na renovované a nerenovované domu (0 a roky>1900 < 2015 sú ďaleko od seba). Mohlo by byť prínosné pozmeniť premennú na `rok posledného zásahu` a 0 prepísať na rok výstavby a relatívne pridať logickú premennú 0 nebol renovovaný a 1 bol renovovaný (ale to sa dá určiť kedykoľvek dodatočne.\n",
        "\n",
        "$⟶$  učiníme zmenu a prepíšeme 0 na rok výstavby v premennej `yr_renovated`\n",
        "\n",
        "*   posledným podozrivým úkazom je uvedený rok renovácie 0 (teda že dom nebol renovovaný) ale dochádza k zmene plochy domu či pozemku k roku 2015. K datasetu nie je poskytnutá bližšia informácia o rozsahu renovácií obecne a kedy je nutné ich zaznamenať, či dokonca informácie o prikúpení pozemku. S týmto postrehom teda nebudeme robiť zmeny.\n",
        "\n",
        "\n",
        "\n"
      ],
      "metadata": {
        "id": "QKKIFIriUtVr"
      }
    },
    {
      "cell_type": "code",
      "source": [
        "subset(house_rad,house_rad$sqft_lot<house_rad$sqft_lot15 & house_rad$yr_renovated==0)"
      ],
      "metadata": {
        "id": "49-XySo2lFjz"
      },
      "execution_count": null,
      "outputs": []
    },
    {
      "cell_type": "code",
      "execution_count": null,
      "metadata": {
        "lines_to_next_cell": 2,
        "tags": [
          "remove_input"
        ],
        "id": "73cbb840"
      },
      "outputs": [],
      "source": [
        "subset(house_rad,house_rad$grade>99)\n"
      ]
    },
    {
      "cell_type": "code",
      "source": [
        "subset(house_rad,house_rad$sqft_living!=(house_rad$sqft_above+house_rad$sqft_basement))"
      ],
      "metadata": {
        "id": "UQpeS6UobkuA"
      },
      "execution_count": null,
      "outputs": []
    },
    {
      "cell_type": "code",
      "source": [
        "subset(house_rad,house_rad$sqft_lot>11000)"
      ],
      "metadata": {
        "id": "PlvotYFkswEI"
      },
      "execution_count": null,
      "outputs": []
    },
    {
      "cell_type": "code",
      "source": [
        "house_rad$renovation=1\n",
        "house_rad[house_rad$yr_renovated==0,\"renovation\"] <-0"
      ],
      "metadata": {
        "id": "QZR8WXrCyhv9"
      },
      "execution_count": null,
      "outputs": []
    },
    {
      "cell_type": "code",
      "source": [
        "house_rad[house_rad$yr_renovated==0,\"yr_renovated\"] <- house_rad[house_rad$yr_renovated==0,\"yr_built\"]"
      ],
      "metadata": {
        "id": "rG_2kgGMxMI_"
      },
      "execution_count": null,
      "outputs": []
    },
    {
      "cell_type": "code",
      "source": [
        "\n"
      ],
      "metadata": {
        "id": "oWaWKoXIyYTr"
      },
      "execution_count": null,
      "outputs": []
    },
    {
      "cell_type": "code",
      "source": [
        "houses_new=subset(house_rad, house_rad$grade<99)\n",
        "houses_new=subset(houses_new, houses_new$id!=100 & houses_new$id!=200 & houses_new$id!=300)"
      ],
      "metadata": {
        "id": "QgWD_H7XzPvc"
      },
      "execution_count": null,
      "outputs": []
    },
    {
      "cell_type": "code",
      "source": [
        "unique(houses_new$grade)"
      ],
      "metadata": {
        "id": "eDJ_0pCk15Sa"
      },
      "execution_count": null,
      "outputs": []
    },
    {
      "cell_type": "code",
      "execution_count": null,
      "metadata": {
        "tags": [
          "remove_input"
        ],
        "id": "6291ee6c"
      },
      "outputs": [],
      "source": [
        "data_Brno=subset(house_rad, house_rad$grade<99)\n",
        "data_do6=data_Brno"
      ]
    },
    {
      "cell_type": "code",
      "source": [
        "for (idx in c(100,200,300)){\n",
        "  data_Brno$price[data_Brno$id==idx ]<-data_Brno$price[data_Brno$id==idx ]/10\n",
        "}\n",
        "#data_Brno$price[data_Brno$id==100 ]<-data_Brno$price[data_Brno$id==100 ]/10\n",
        "#data_Brno$price[data_Brno$id==200 ]<-data_Brno$price[data_Brno$id==200 ]/10\n",
        "#data_Brno$price[data_Brno$id==300 ]<-data_Brno$price[data_Brno$id==300 ]/10"
      ],
      "metadata": {
        "id": "MT-tXPhX3a5A"
      },
      "execution_count": null,
      "outputs": []
    },
    {
      "cell_type": "code",
      "source": [
        "#subset(data_Brno, data_Brno$id==100 | data_Brno$id==200 | data_Brno$id==300)"
      ],
      "metadata": {
        "id": "rIOHT3_d44y8"
      },
      "execution_count": null,
      "outputs": []
    },
    {
      "cell_type": "code",
      "source": [
        "#dim(houses_new)"
      ],
      "metadata": {
        "id": "DwxCcITjIxOK"
      },
      "execution_count": null,
      "outputs": []
    },
    {
      "cell_type": "markdown",
      "source": [
        "Po eliminácií niektorých pozorovaní dostávame dataset s 1991 objektami."
      ],
      "metadata": {
        "id": "N5Lot65CI3aE"
      }
    },
    {
      "cell_type": "markdown",
      "metadata": {
        "id": "badc2ac6"
      },
      "source": [
        "* Otázka 03\n",
        " \n",
        "  Zkontrolujte pro 4 vybranné proměnné (price, sqft_living, grade, yr_built) bylo-li rozdělení datasetu pomocí proměnné split náhodné. Tj mají zmíněné proměnné ve skupinách train, test a validation přibližně stejné rozdělení?\n",
        "\n",
        "\\"
      ]
    },
    {
      "cell_type": "markdown",
      "source": [
        "Rozdelíme si dáta na 3 podmnožiny: *trénovaciu, testovaciu* a *validačnú*. *Trénovacia* množina má 991 objektov, čo je takmer dvojnásobok než majú *testovacia* a *validačná*, ktoré majú každá po 500. (Čo však dáva zmysel z hľadiska machine learningu)."
      ],
      "metadata": {
        "id": "Pat9AXNBIfaj"
      }
    },
    {
      "cell_type": "code",
      "source": [
        "h_test<-subset(houses_new,houses_new$split==\"test\")\n",
        "h_train<-subset(houses_new,houses_new$split==\"train\")\n",
        "h_validation<-subset(houses_new,houses_new$split==\"validation\")"
      ],
      "metadata": {
        "id": "XU7jhRBb3kCa"
      },
      "execution_count": null,
      "outputs": []
    },
    {
      "cell_type": "code",
      "source": [
        "dim(h_train)\n",
        "dim(h_validation)\n",
        "dim(h_test)"
      ],
      "metadata": {
        "id": "jteS7QdHIIaG"
      },
      "execution_count": null,
      "outputs": []
    },
    {
      "cell_type": "markdown",
      "source": [
        "Vykreslíme si príslušné histogramy, ktoré medzi sebou porovnáme naprieč 3 split-skupinami. Pre každú premennú vykreslíme 3 histogramy s rovnakým nastaveným počtom binov a mierkou.\n",
        "\n",
        "Na jednotlivých skupinách histogramov možno vidieť, že 3 skupiny sú si relatívne podobné. Pre premennú `price` sa pomerne zhoduje telo rozdelenia a rozdiely sú badateľné v pravom chvoste. Pre premennú `sqft_living` sedí rovnaký trend, rovnako aj vrámci premennej `grade`, kde sa trénovacie dáta líšia o niečo viac. Najmarkantnejšie rozdiely pozorujeme vrámci premennej `yr_built`, kde rozdelenia sedia viac na chvostoch než v tele rozdelenia. \n",
        "\n",
        "V konenčnom dôsledku považujeme rozdelenie skupín za postačujúce."
      ],
      "metadata": {
        "id": "UfaqGtmdIWVe"
      }
    },
    {
      "cell_type": "code",
      "source": [
        "fig(17,9)\n",
        "hhp<-ggplot(houses_new, aes(x = price, fill = split,col=split)) + \n",
        "  geom_histogram(aes(y=..density..),position = \"identity\", alpha = 0.2, bins = 26) +\n",
        "  scale_fill_manual(values=c(\"firebrick1\", \"skyblue1\",\"darkgoldenrod1\")) +\n",
        "  scale_color_manual(values=c(\"firebrick4\", \"dodgerblue4\",\"darkgoldenrod3\")) +\n",
        "  theme_light() +\n",
        "    xlim(0,max(houses_new$price)*1.1) +\n",
        "  geom_line(stat = \"density\")+\n",
        "  labs(x= \"Cena \", y=\"hustota\")\n",
        "hhs<-ggplot(houses_new, aes(x = sqft_living, fill = split,col=split)) + \n",
        "  geom_histogram(aes(y=..density..),position = \"identity\", alpha = 0.2, bins = 26) +\n",
        "  scale_fill_manual(values=c(\"firebrick1\", \"skyblue1\",\"darkgoldenrod1\")) +\n",
        "  scale_color_manual(values=c(\"firebrick4\", \"dodgerblue4\",\"darkgoldenrod3\")) +\n",
        "  theme_light() +\n",
        "    xlim(0,max(houses_new$sqft_living)*1.1) +\n",
        "  geom_line(stat = \"density\")+\n",
        "  labs(x= \"Plocha \", y=\"hustota\")\n",
        "hhg<-ggplot(houses_new, aes(x = grade, fill = split,col=split)) + \n",
        "  geom_histogram(aes(y=..density..),position = \"identity\", alpha = 0.2, bins = 26) +\n",
        "  scale_fill_manual(values=c(\"firebrick1\", \"skyblue1\",\"darkgoldenrod1\")) +\n",
        "  scale_color_manual(values=c(\"firebrick4\", \"dodgerblue4\",\"darkgoldenrod3\")) +\n",
        "  theme_light() +\n",
        "    xlim(3,max(houses_new$grade)+1.1) +\n",
        "  geom_line(stat = \"density\")+\n",
        "  labs(x= \"Grade \", y=\"hustota\")\n",
        "hhy<-ggplot(houses_new, aes(x = yr_built, fill = split,col=split)) + \n",
        "  geom_histogram(aes(y=..density..),position = \"identity\", alpha = 0.2, bins = 26) +\n",
        "  scale_fill_manual(values=c(\"firebrick1\", \"skyblue1\",\"darkgoldenrod1\")) +\n",
        "  scale_color_manual(values=c(\"firebrick4\", \"dodgerblue4\",\"darkgoldenrod3\")) +\n",
        "  theme_light() +\n",
        "    xlim(min(houses_new$yr_built)-3,max(houses_new$yr_built)+3)+\n",
        "  geom_line(stat = \"density\")+\n",
        "  labs(x= \"Rok výstavby \", y=\"hustota\")\n",
        "\n",
        "ggarrange(hhp,hhs,hhg,hhy, ncol = 2, nrow = 2, common.legend = FALSE, legend = \"bottom\")"
      ],
      "metadata": {
        "id": "YX9M7ZyUaZnC"
      },
      "execution_count": null,
      "outputs": []
    },
    {
      "cell_type": "code",
      "source": [
        "fig(17,9)\n",
        "hp<-ggplot(data = houses_new, aes(price))+\n",
        "  geom_histogram(aes(y=..density..),data = h_train, col=\"firebrick4\", fill=\"firebrick1\", alpha = .3,bins =26) + \n",
        "  geom_histogram(aes(y=..density..),data = h_test, col=\"dodgerblue4\", fill=\"steelblue1\", alpha = .2,bins =26) + \n",
        "  geom_histogram(aes(y=..density..),data = h_validation, col=\"darkgoldenrod3\", fill=\"darkgoldenrod1\", alpha = .1,bins =26) + \n",
        "  theme_light() +\n",
        "    xlim(0,max(houses_new$price)*1.1) +\n",
        "  geom_line(stat = \"density\")+\n",
        "  labs(x= \"Cena \", y=\"hustota\")\n",
        "hs<-ggplot(data = houses_new, aes(sqft_living))+\n",
        "  geom_histogram(aes(y=..density..),data = h_train, col=\"firebrick4\", fill=\"firebrick1\", alpha = .3,bins =26) + \n",
        "  geom_histogram(aes(y=..density..),data = h_test, col=\"dodgerblue4\", fill=\"steelblue1\", alpha = .2,bins =26) + \n",
        "  geom_histogram(aes(y=..density..),data = h_validation, col=\"darkgoldenrod3\", fill=\"darkgoldenrod1\", alpha = .1,bins =26) + \n",
        "  theme_light() +\n",
        "    xlim(0,max(houses_new$sqft_living)*1.1) +\n",
        "  geom_line(stat = \"density\")+\n",
        "  labs(x= \"Plocha \", y=\"hustota\")\n",
        "hg<-ggplot(data = houses_new, aes(grade))+\n",
        "  geom_histogram(aes(y=..density..),data = h_train, col=\"firebrick4\", fill=\"firebrick1\", alpha = .3,bins =26) + \n",
        "  geom_histogram(aes(y=..density..),data = h_test, col=\"dodgerblue4\", fill=\"steelblue1\", alpha = .2,bins =26) + \n",
        "  geom_histogram(aes(y=..density..),data = h_validation, col=\"darkgoldenrod3\", fill=\"darkgoldenrod1\", alpha = .1,bins =26) + \n",
        "  theme_light() +\n",
        "    xlim(3,max(houses_new$grade)+1.1) +\n",
        "  geom_line(stat = \"density\")+\n",
        "  labs(x= \"Grade \", y=\"hustota\")\n",
        "hy<-ggplot(data = houses_new, aes(yr_built))+\n",
        "  geom_histogram(aes(y=..density..),data = h_train, col=\"firebrick4\", fill=\"firebrick1\", alpha = .3,bins =26) + \n",
        "  geom_histogram(aes(y=..density..),data = h_test, col=\"dodgerblue4\", fill=\"steelblue1\", alpha = .2,bins =26) + \n",
        "  geom_histogram(aes(y=..density..),data = h_validation, col=\"darkgoldenrod3\", fill=\"darkgoldenrod1\", alpha = .1,bins =26) + \n",
        "  theme_light() +\n",
        "    xlim(min(houses_new$yr_built)-3,max(houses_new$yr_built)+3)+\n",
        "  geom_line(stat = \"density\")+\n",
        "  labs(x= \"Rok výstavby \", y=\"hustota\")\n",
        "\n",
        "#ggarrange(hp,hs,hg,hy, ncol = 2, nrow = 2, common.legend = FALSE, legend = \"bottom\")"
      ],
      "metadata": {
        "id": "4baYRsBIOnSz"
      },
      "execution_count": null,
      "outputs": []
    },
    {
      "cell_type": "code",
      "source": [
        "fig(17,9)"
      ],
      "metadata": {
        "id": "_idhwaoZFdUM"
      },
      "execution_count": null,
      "outputs": []
    },
    {
      "cell_type": "code",
      "source": [
        "h1<-ggplot(data = h_train, aes(price))+\n",
        "  geom_histogram(aes(y =after_stat(density)), col=\"plum4\", fill=\"seashell1\", alpha = .7,bins =26) + \n",
        "  geom_density(col = \"steelblue1\")+\n",
        "  theme_light() +\n",
        "    xlim(0,max(houses_new$price)*1.1) +\n",
        "  labs(title=\"Histogram-train data\") +\n",
        "  labs(x= \"Cena \", y=\"hustota\")\n",
        "\n",
        "h2<-ggplot(data = h_test, aes(price))+\n",
        "  geom_histogram(aes(y =after_stat(density)), col=\"plum4\", fill=\"seashell1\", alpha = .7,bins =26) + \n",
        "  geom_density(col = \"steelblue1\")+\n",
        "  theme_light() +\n",
        "    xlim(0,max(houses_new$price)*1.1)+\n",
        "  labs(title=\"Histogram-test data\") +\n",
        "  labs(x= \"Cena \", y=\"hustota\")\n",
        "h3<-ggplot(data = h_validation, aes(price))+\n",
        "  geom_histogram(aes(y =after_stat(density)), col=\"plum4\", fill=\"seashell1\", alpha = .7,bins =26) + \n",
        "  geom_density(col = \"steelblue1\")+\n",
        "  theme_light() +\n",
        "    xlim(0,max(houses_new$price)*1.1)+\n",
        "  labs(title=\"Histogram-validation data\") +\n",
        "  labs(x= \"Cena \", y=\"hustota\")\n",
        "\n",
        "ggarrange(h1, h2, h3,hp ,ncol = 1, nrow = 4, common.legend = FALSE, legend = \"bottom\")"
      ],
      "metadata": {
        "id": "TFNJGAJR8rHU"
      },
      "execution_count": null,
      "outputs": []
    },
    {
      "cell_type": "code",
      "source": [
        "h1<-ggplot(data = h_train, aes(sqft_living))+\n",
        "  geom_histogram(aes(y =after_stat(density)), col=\"plum4\", fill=\"seashell1\", alpha = .7,bins =26) + \n",
        "  geom_density(col = \"steelblue1\")+\n",
        "theme_light() +\n",
        "      xlim(0,max(houses_new$sqft_living)*1.1) +\n",
        "  labs(title=\"Histogram-train data\") +\n",
        "  labs(x= \"Plocha domu \", y=\"hustota\")\n",
        "\n",
        "h2<-ggplot(data = h_test, aes(sqft_living))+\n",
        "  geom_histogram(aes(y =after_stat(density)), col=\"plum4\", fill=\"seashell1\", alpha = .7,bins =26) + \n",
        "  geom_density(col = \"steelblue1\")+\n",
        "  theme_light() +\n",
        "    xlim(0,max(houses_new$sqft_living)*1.1)+\n",
        "  labs(title=\"Histogram-test data\") +\n",
        "  labs(x= \"Plocha domu \", y=\"hustota\")\n",
        "h3<-ggplot(data = h_validation, aes(sqft_living))+\n",
        "  geom_histogram(aes(y =after_stat(density)), col=\"plum4\", fill=\"seashell1\", alpha = .7,bins =26) + \n",
        "  geom_density(col = \"steelblue1\")+\n",
        "  theme_light() +\n",
        "    xlim(0,max(houses_new$sqft_living)*1.1)+\n",
        "  labs(title=\"Histogram-validation data\") +\n",
        "  labs(x= \"Plocha domu \", y=\"hustota\")\n",
        "\n",
        "ggarrange(h1, h2, h3,hs, ncol = 1, nrow = 4, common.legend = FALSE, legend = \"bottom\")"
      ],
      "metadata": {
        "id": "jSxq7SukDMJi"
      },
      "execution_count": null,
      "outputs": []
    },
    {
      "cell_type": "code",
      "source": [
        "h1<-ggplot(data = h_train, aes(grade))+\n",
        "  geom_histogram(aes(y =after_stat(density)), col=\"plum4\", fill=\"seashell1\", alpha = .7,bins =26) + \n",
        "  geom_density(col = \"steelblue1\")+\n",
        "theme_light() +\n",
        "      xlim(3,max(houses_new$grade)+1.1) +\n",
        "  labs(title=\"Histogram-train data\") +\n",
        "  labs(x= \"Grade \", y=\"hustota\")\n",
        "\n",
        "h2<-ggplot(data = h_test, aes(grade))+\n",
        "  geom_histogram(aes(y =after_stat(density)), col=\"plum4\", fill=\"seashell1\", alpha = .7,bins =26) + \n",
        "  geom_density(col = \"steelblue1\")+\n",
        "  theme_light() +\n",
        "    xlim(3,max(houses_new$grade)+1.1)+\n",
        "  labs(title=\"Histogram-test data\") +\n",
        "  labs(x= \"Grade \", y=\"hustota\")\n",
        "h3<-ggplot(data = h_validation, aes(grade))+\n",
        "  geom_histogram(aes(y =after_stat(density)), col=\"plum4\", fill=\"seashell1\", alpha = .7,bins =26) + \n",
        "  geom_density(col = \"steelblue1\")+\n",
        "  theme_light() +\n",
        "    xlim(3,max(houses_new$grade)+1.1)+\n",
        "  labs(title=\"Histogram-validation data\") +\n",
        "  labs(x= \"Grade \", y=\"hustota\")\n",
        "\n",
        "ggarrange(h1, h2, h3,hg, ncol = 1, nrow = 4, common.legend = FALSE, legend = \"bottom\")"
      ],
      "metadata": {
        "id": "8AxmNX4wDajQ"
      },
      "execution_count": null,
      "outputs": []
    },
    {
      "cell_type": "code",
      "source": [
        "h1<-ggplot(data = h_train, aes(yr_built))+\n",
        "  geom_histogram(aes(y =after_stat(density)), col=\"plum4\", fill=\"seashell1\", alpha = .7,bins =26) + \n",
        "  geom_density(col = \"steelblue1\")+\n",
        "theme_light() +\n",
        "      xlim(min(houses_new$yr_built)-3,max(houses_new$yr_built)+3) +\n",
        "  labs(title=\"Histogram-train data\") +\n",
        "  labs(x= \"Rok výstavby \", y=\"hustota\")\n",
        "\n",
        "h2<-ggplot(data = h_test, aes(yr_built))+\n",
        "  geom_histogram(aes(y =after_stat(density)), col=\"plum4\", fill=\"seashell1\", alpha = .7,bins =26) + \n",
        "  geom_density(col = \"steelblue1\")+\n",
        "  theme_light() +\n",
        "    xlim(min(houses_new$yr_built)-3,max(houses_new$yr_built)+3)+\n",
        "  labs(title=\"Histogram-test data\") +\n",
        "  labs(x= \"Rok výstavby \", y=\"hustota\")\n",
        "h3<-ggplot(data = h_validation, aes(yr_built))+\n",
        "  geom_histogram(aes(y =after_stat(density)), col=\"plum4\", fill=\"seashell1\", alpha = .7,bins =26) + \n",
        "  geom_density(col = \"steelblue1\")+\n",
        "  theme_light() +\n",
        "    xlim(min(houses_new$yr_built)-3,max(houses_new$yr_built)+3)+\n",
        "  labs(title=\"Histogram-validation data\") +\n",
        "  labs(x= \"Rok výstavby \", y=\"hustota\")\n",
        "\n",
        "ggarrange(h1, h2, h3,hy, ncol = 1, nrow = 4, common.legend = FALSE, legend = \"bottom\")"
      ],
      "metadata": {
        "id": "yAXOhYvODbku"
      },
      "execution_count": null,
      "outputs": []
    },
    {
      "cell_type": "markdown",
      "metadata": {
        "id": "6f7aa0f2"
      },
      "source": [
        "## Lineární model (použijte pouze trénovací data, tj. split == \"train\"):\n",
        "\n",
        "* Otázka 04\n",
        "\n",
        "  Spočtěte korelace mezi jednotlivými regressory a graficky je znázorněte. Dále spočtěte číso podmmíněnosti matice regresorů Kappa a VIF. Pokud se v datech vyskytuje znatelná multicollinearita, rozhodněte jaké proměnné a proč použijete v následném linárním modelu.\n"
      ]
    },
    {
      "cell_type": "markdown",
      "source": [
        "Ďalej pracujeme iba s trénovacími dátami, teda môžeme odstrániť stĺpec premennej `split` a aj `id`, ktoré nám v tomto momente už neposkytujú žiadne valídne informácie. \n",
        "\n",
        "Touto voľbou sme dokonca obišli extrémne ceny domov a nemusíme sa zaoberať 2 modelmi. "
      ],
      "metadata": {
        "id": "fs_4lI_ev4jQ"
      }
    },
    {
      "cell_type": "code",
      "source": [
        "h_tr_Brno<- subset(data_Brno, data_Brno$split==\"train\")\n",
        "h_tr_Brno<- subset(h_tr_Brno, select = -c(split,id))"
      ],
      "metadata": {
        "id": "0VcGkhP53-0E"
      },
      "execution_count": null,
      "outputs": []
    },
    {
      "cell_type": "code",
      "source": [
        "h_train <- subset (h_train, select = -c(split,id)) "
      ],
      "metadata": {
        "id": "sOkpxOX5lAzN"
      },
      "execution_count": null,
      "outputs": []
    },
    {
      "cell_type": "code",
      "source": [
        "summary(h_train)\n",
        "print(\"*********************************\")\n",
        "print(\"*********************************\")\n",
        "print(\"*********************************\")\n",
        "print(\"*********************************\")\n",
        "summary(h_tr_Brno)"
      ],
      "metadata": {
        "id": "1TMfduMC3cyB"
      },
      "execution_count": null,
      "outputs": []
    },
    {
      "cell_type": "markdown",
      "source": [
        "Znázorníme maticu korelácie medzi jednotlivými regresormi. Najvyššie hodnoty dosahujú dvojice `sqft_living` a `sqft_above` 0.87, čo je logické, pretože plocha obytná sa dá rozdeliť na plochu nadzemia a plochu povnice. Ďalej dvojice `sqft_lot` a `sqft_lot15` 0.76, `bathrooms` a `sqft_living` 0.74, `sqft_living` a `sqft_living15`, čo sa dalo očakávať.\n",
        "\n",
        "Ďalej významné sú dvojice: `price` a `sqft_living` 0.67, `price` a `grade` 0.68, `sqft_living` a `grade` 0.72 (túto závislosť sme odtušili v otázke 1).\n",
        "\n"
      ],
      "metadata": {
        "id": "iBl4bpFQnzb8"
      }
    },
    {
      "cell_type": "code",
      "execution_count": null,
      "metadata": {
        "tags": [
          "remove_input"
        ],
        "id": "dab0f5d8"
      },
      "outputs": [],
      "source": [
        "# improved correlation matrix\n",
        "\n",
        "corrplot(cor(h_train),\n",
        "  method = \"color\",\n",
        "  type = \"upper\", # show only upper side\n",
        "   col=brewer.pal(n=8, name=\"PuOr\"),\n",
        "   addCoef.col = \"black\", # Add coefficient of correlation\n",
        "         tl.col=\"black\", tl.srt=45 #Text label color and rotation\n",
        "         # Combine with significance\n",
        ")\n"
      ]
    },
    {
      "cell_type": "code",
      "source": [
        "corrplot(cor(h_tr_Brno),\n",
        "  method = \"color\",\n",
        "  type = \"upper\", # show only upper side\n",
        "   col=brewer.pal(n=8, name=\"RdYlGn\"),\n",
        "   addCoef.col = \"black\", # Add coefficient of correlation\n",
        "         tl.col=\"black\", tl.srt=45 #Text label color and rotation\n",
        "         # Combine with significance\n",
        ")\n"
      ],
      "metadata": {
        "id": "wAT-V9ls4eFh"
      },
      "execution_count": null,
      "outputs": []
    },
    {
      "cell_type": "markdown",
      "source": [
        "Intuitívne vnímame súvislosti medzi `sqft_living` a `sqft_living15`, `sqft_lot` a `sqft_lot15`, `sqft_above` a `sqft_living` resp. `sqft_living`. Tieto premenné odstránime a zobrazíme si korelačnú maticu tohto intuitívneho datasetu. \n",
        "\n",
        "Významnejšie hodnoty korelácie pozorujeme medzi dvojicami `price` a `grade` 0.68, `price` a `sqft_living15` 0.62, `bedrooms` a `bathrooms` 0.56, `grade` a `sqft_living15` 0.69.\n",
        "\n",
        "Korektne sa na multikolinearitu pozrieme pomocou nástrojov regresnej analýzy."
      ],
      "metadata": {
        "id": "zOSvdBK1sT7k"
      }
    },
    {
      "cell_type": "code",
      "source": [
        "h_tr_intuit<- subset (h_train, select = -c(sqft_living,sqft_lot,sqft_above))"
      ],
      "metadata": {
        "id": "uQXgQYOkreOA"
      },
      "execution_count": null,
      "outputs": []
    },
    {
      "cell_type": "code",
      "source": [
        "corrplot(cor(h_tr_intuit),\n",
        "  method = \"color\",\n",
        "  type = \"upper\", # show only upper side\n",
        "   col=brewer.pal(n=8, name=\"PuOr\"),\n",
        "   addCoef.col = \"black\", # Add coefficient of correlation\n",
        "         tl.col=\"black\", tl.srt=45 #Text label color and rotation\n",
        "         # Combine with significance\n",
        ")\n"
      ],
      "metadata": {
        "id": "1XTQk4mFsEWr"
      },
      "execution_count": null,
      "outputs": []
    },
    {
      "cell_type": "markdown",
      "source": [
        "Najprv sa pokúsime vytvoriť model pomocou všetkých premenných. V tomto prípade funkcia lm() nestanoví jeden koeficient kvôli výskytu singularít v dátach - koeficient pre `sqft_basement` je NaN. Keď preusporiadame premenné v modeli, vypadnú nám koeficienty pre `sqft_above`. Funkcia VIF() na takýto model odpovedá chybovou hláškou *there are aliased coefficients in the model*. Dohromady máme pomerne spoľahlivý indikátor na multikolinearitu. \n",
        "\n",
        "Odstránime teda premennú `sqft_above` v súlade s našou intuitívnou úvahou."
      ],
      "metadata": {
        "id": "JKJTTiDpvVR-"
      }
    },
    {
      "cell_type": "code",
      "source": [
        "#lm(Y ~ .,data=Z)\n",
        "m_all=lm(price~.,data = h_train)\n",
        "summary(m_all)"
      ],
      "metadata": {
        "id": "ZvqXdOnBwo69"
      },
      "execution_count": null,
      "outputs": []
    },
    {
      "cell_type": "code",
      "source": [
        "#vif(m_all)     #there are aliased coefficients in the model"
      ],
      "metadata": {
        "id": "cHGZFo-pwtWA"
      },
      "execution_count": null,
      "outputs": []
    },
    {
      "cell_type": "markdown",
      "source": [
        "Zredukovaný model disponuje všetkými koeficientmi. \n",
        "\n",
        "V tomto modeli (bez `sqft_above`) dosahujeme $R^2=0.6701$ a $Adjusted$ $R^{2}_{Adj}=0.665$, residual std. error má hodnotu 232000 a na záhlade p-hodnôt považujeme tieto premenné za štatisticky nevýznamné: `bedrooms`, `sqft_lot`, `floors`, `condition`, `sqft_basement` a `yr_renovated`. Malé zlepšenie by nastalo pri použití logaritmickej transformácie.\n",
        "\n",
        "Vo výpise VIF() tohto modelu vyčnieva hodnota `sqft_living`, ktorá činí 5.5 a je najvyššia oproti ostatným. Stále však neprekročila hranicu *10* a teda je ešte prípustná.\n",
        "\n",
        "Kappa dostávame 93.4% : *almost perfect agreement*\n",
        "\n",
        "Napriek tomu v ďalšom kroku prejdeme k intuitívnemu modelu, v ktorom budeme brať do úvahy hodnoty obytnej plochy a plochy pozemku z roku 2015. (Rozdiel medzi `sqft_xx` a `sqft_xx15` nie je z popisu dát jednoznačný. V riešení ho ponímame ako plochu v pôvodných plánoch domu a plochu aktuálnejšieho dáta 2015)\n",
        "\n"
      ],
      "metadata": {
        "id": "R9WWagrT_xpI"
      }
    },
    {
      "cell_type": "code",
      "source": [
        "h_tr_red=subset(h_train, select = -c(sqft_above))"
      ],
      "metadata": {
        "id": "ZXY9GG4D-180"
      },
      "execution_count": null,
      "outputs": []
    },
    {
      "cell_type": "code",
      "source": [
        "m_red=lm(price~.,data = h_tr_red)\n",
        "summary(m_red)"
      ],
      "metadata": {
        "id": "GbE9Pr-W_FAx"
      },
      "execution_count": null,
      "outputs": []
    },
    {
      "cell_type": "code",
      "source": [
        "vif(m_red)\n",
        "fig(5,5)\n",
        "barplot(vif(m_red), main = \"VIF Values\", horiz = TRUE, col = \"plum3\")\n",
        "abline(v = 5, lwd = 3, lty = 2)"
      ],
      "metadata": {
        "id": "jZwQB5-U_bkq"
      },
      "execution_count": null,
      "outputs": []
    },
    {
      "cell_type": "code",
      "source": [
        "corr_kappa_red <- round(cor(h_tr_red), 1)\n",
        "print('Kappa hodnota:')\n",
        "kappa(corr_kappa_red,exact=T)"
      ],
      "metadata": {
        "id": "iEdlKugdGdgf"
      },
      "execution_count": null,
      "outputs": []
    },
    {
      "cell_type": "markdown",
      "source": [
        "V intuitívne redukovanom modeli nám o niečo poklesla hodnota na $R^2=0.6648$ a hodnota nového $Adjusted$ $R^{2}_{Adj}=0.6604$ a resid. std error 233600. Štatisticky nevýznamními premennými tohto modelu sú `bedrooms`, `floors`, `condition`.\n",
        "\n",
        " Poklesli hodnoty funkcie VIF() zostatkových premenných, neprekračuje sa ani hodnota 5.\n",
        " \n",
        " Hodnota Kappa pre model bez plochy nadzemia činí 46%, teda *moderate strength of agreement*, kdežto pre intuitívne aditívne vylúčenie plánových plôch je Kappa hodnote 25% *fair agreement*."
      ],
      "metadata": {
        "id": "ndAYdrlTEjDE"
      }
    },
    {
      "cell_type": "code",
      "source": [
        "m_all_int=lm(price~.,data = h_tr_intuit)\n",
        "summary(m_all_int)"
      ],
      "metadata": {
        "id": "HxUvvn-8w6KQ"
      },
      "execution_count": null,
      "outputs": []
    },
    {
      "cell_type": "code",
      "source": [
        "vif(m_all_int)\n",
        "fig(5,5)\n",
        "barplot(vif(m_all_int), main = \"VIF Values\", horiz = TRUE, col = \"plum3\")\n",
        "abline(v = 5, lwd = 3, lty = 2)"
      ],
      "metadata": {
        "id": "5wmcX-oww58W"
      },
      "execution_count": null,
      "outputs": []
    },
    {
      "cell_type": "code",
      "source": [
        "corr_kappa_int <- round(cor(h_tr_intuit), 1)\n",
        "print('Kappa hodnota:')\n",
        "kappa(corr_kappa_int,exact=T)"
      ],
      "metadata": {
        "id": "6tTX147rEraC"
      },
      "execution_count": null,
      "outputs": []
    },
    {
      "cell_type": "markdown",
      "source": [
        "Teraz sa pozrieme na dáta, ktorým sme na začiatku upravili cenu."
      ],
      "metadata": {
        "id": "DrglI48FYlTb"
      }
    },
    {
      "cell_type": "markdown",
      "source": [
        "Opäť dostávame rovnaký problém so silnou multikolinearitou. Odstránime teda z modelu premennú plochy nadzemia."
      ],
      "metadata": {
        "id": "V6FeDKFXZB4H"
      }
    },
    {
      "cell_type": "code",
      "source": [
        "m_all_B=lm(price~.,data = h_tr_Brno)\n",
        "summary(m_all_B)\n",
        "#vif(m_all_B)"
      ],
      "metadata": {
        "id": "yeSSIXawYk0X"
      },
      "execution_count": null,
      "outputs": []
    },
    {
      "cell_type": "code",
      "source": [
        "h_tr_Brno_r=subset(h_tr_Brno, select = -c(sqft_above))\n",
        "m_red_B=lm(price~.,data = h_tr_Brno_r)\n",
        "summary(m_red_B)\n",
        "vif(m_red_B)\n",
        "corr_kappa_B <- round(cor(h_tr_Brno_r), 1)\n",
        "print('Kappa hodnota:')\n",
        "kappa(corr_kappa_B,exact=T)"
      ],
      "metadata": {
        "id": "1aSzDJkVZceI"
      },
      "execution_count": null,
      "outputs": []
    },
    {
      "cell_type": "markdown",
      "source": [
        "Oba výsledky sú v podstate rovnaké, či už uvažujeme upravené alebo vynechané dáta."
      ],
      "metadata": {
        "id": "Bsm0koDHaKQ9"
      }
    },
    {
      "cell_type": "markdown",
      "metadata": {
        "id": "4eb00e63"
      },
      "source": [
        "* Otázka 05\n",
        "    \n",
        "  Pouze pomocí trénovacích dat (tj., split == \"train\") a všech vybranných proměnných najděte vhodný lineární regresní model, který má za úkol predikovat co nejlépe cenu, tj. minimalizovat střední kvadratickou chybu (MSE). U výsledného modelu porovnejte VIF a Kappa s původní celkovou maticí regresorů.\n",
        "  \n",
        "\n"
      ]
    },
    {
      "cell_type": "markdown",
      "source": [
        "V predchádzajúcej úlohe sme kvôli multikolinearite vylúčili premennú `sqft_above`. V tejto úlohe vychádzame z takto redukovaného modelu. \n",
        "\n",
        "Hľadáme vhodný model prostredníctvom minimalizácie MSE (RMSE= $\\sqrt{MSE}$) s penalizáciou veľkých chýb. Využijeme stepwise výber pomocou ols_step_both_p.\n",
        "\n"
      ],
      "metadata": {
        "id": "-RnmyzkAdX5D"
      }
    },
    {
      "cell_type": "markdown",
      "source": [
        "Pomocou OLS metódy sme sa dopracovali k modelu s 10 parametrami `grade` , `view` , `yr_built` , `sqft_living` , `sqft_living15`  , `waterfront`  , `sqft_lot15`  ,  `bathrooms`  , `renovation` , `yr_renovated` a hodnotou RMSE=231889.8665, MSE=53176036290.0569, Adj. $R^2$=0.6654. Hodnoty VIF() sú v normále a kappa hodnota činí 50.4%.\n",
        "\n",
        "ak by sme ešte manuálne vynechali premennú `yr_renovated`, potom MSE=53409412177.341 a Adj. $R^2$= 0.6643, a kappa poklesne na 24.94%"
      ],
      "metadata": {
        "id": "IF2BgleVvSa2"
      }
    },
    {
      "cell_type": "code",
      "execution_count": null,
      "metadata": {
        "tags": [
          "remove_input"
        ],
        "id": "aafd1be4"
      },
      "outputs": [],
      "source": [
        "#fig(15,15)\n",
        "#pairs.panels(h_tr_red,smooth=F,lm=T,scale=T,pch=20)\n",
        "\n"
      ]
    },
    {
      "cell_type": "code",
      "source": [
        "OLS_step <- ols_step_both_p(m_red, pent = 0.1, prem = 0.3, details = FALSE)\n",
        "OLS_step \n",
        "#summary(OLS_step)\n",
        "\n"
      ],
      "metadata": {
        "id": "-u4Oi2NFsPCu"
      },
      "execution_count": null,
      "outputs": []
    },
    {
      "cell_type": "code",
      "source": [
        "summary(OLS_step$model)"
      ],
      "metadata": {
        "id": "JbuQa0smJ7hi"
      },
      "execution_count": null,
      "outputs": []
    },
    {
      "cell_type": "code",
      "source": [
        "vif(OLS_step$model)"
      ],
      "metadata": {
        "id": "PIawOmhMKaz-"
      },
      "execution_count": null,
      "outputs": []
    },
    {
      "cell_type": "code",
      "source": [
        "df_MSE <- subset(h_train, select = c(price , grade , view , yr_built , sqft_living , sqft_living15  , waterfront  , sqft_lot15  ,  bathrooms  , renovation , yr_renovated )) \n",
        "# graf zobrazenie korelacie\n",
        "corr <- round(cor(df_MSE), 1)\n",
        "corrplot(corr,\n",
        "  method = \"color\",\n",
        "  type = \"upper\", # show only upper side\n",
        "   col=brewer.pal(n=8, name=\"PuOr\"),\n",
        "   addCoef.col = \"black\", # Add coefficient of correlation\n",
        "         tl.col=\"black\", tl.srt=45 #Text label color and rotation\n",
        "         # Combine with significance\n",
        ")\n",
        "\n",
        "# kappa \n",
        "print('Kappa hodnota:')\n",
        "kappa(corr,exact=T)\n"
      ],
      "metadata": {
        "id": "iLxiLGynpe_A"
      },
      "execution_count": null,
      "outputs": []
    },
    {
      "cell_type": "code",
      "source": [
        "print(\"MSE:\")\n",
        "mean(OLS_step$model$residuals^2)\n",
        "\n",
        "print(\"Adj. R^2:\")\n",
        "summary(OLS_step$model)$adj.r.squared"
      ],
      "metadata": {
        "id": "bEfA-tHUr5fg"
      },
      "execution_count": null,
      "outputs": []
    },
    {
      "cell_type": "code",
      "source": [
        "#OLS_stars <-(lm(price ~ grade + view + yr_built + sqft_living + sqft_living15  + waterfront  + sqft_lot15  +  bathrooms  + renovation + yr_renovated  , data = h_train))\n",
        "#summary(OLS_stars)"
      ],
      "metadata": {
        "id": "cDLRx_oIJL5w"
      },
      "execution_count": null,
      "outputs": []
    },
    {
      "cell_type": "code",
      "source": [
        "OLS_stars2 <-(lm(price ~ grade + view + yr_built + sqft_living + sqft_living15  + waterfront  + sqft_lot15  +  bathrooms   + renovation  , data = h_train))\n",
        "summary(OLS_stars2)\n"
      ],
      "metadata": {
        "id": "DEqmpfWVJrPe"
      },
      "execution_count": null,
      "outputs": []
    },
    {
      "cell_type": "code",
      "source": [
        "print(\"MSE:\")\n",
        "mean(OLS_stars2$residuals^2)\n",
        "\n",
        "print(\"Adj. R^2:\")\n",
        "summary(OLS_stars2)$adj.r.squared"
      ],
      "metadata": {
        "id": "2J2nM9B6zvWj"
      },
      "execution_count": null,
      "outputs": []
    },
    {
      "cell_type": "code",
      "source": [
        "df_MSE <- subset(h_train, select = c(price , grade , view , yr_built , sqft_living , sqft_living15  , waterfront  , sqft_lot15  ,  bathrooms  , renovation)) \n",
        "# graf zobrazenie korelacie\n",
        "corr <- round(cor(df_MSE), 1)\n",
        "corrplot(corr,\n",
        "  method = \"color\",\n",
        "  type = \"upper\", # show only upper side\n",
        "   col=brewer.pal(n=8, name=\"PuOr\"),\n",
        "   addCoef.col = \"black\", # Add coefficient of correlation\n",
        "         tl.col=\"black\", tl.srt=45 #Text label color and rotation\n",
        "         # Combine with significance\n",
        ")\n",
        "\n",
        "# kappa \n",
        "print('Kappa hodnota:')\n",
        "kappa(corr,exact=T)"
      ],
      "metadata": {
        "id": "QIkvethi0XV8"
      },
      "execution_count": null,
      "outputs": []
    },
    {
      "cell_type": "markdown",
      "source": [
        "Ak do procesu vložíme intuitívne zvolené premenné podobne ako v predošlej úlohe, dostávame model s tiež s 10 premennými `grade` , `view` , `yr_built` , `sqft_living15` , `bathrooms`  , `waterfront`  , `sqft_basement`  ,  `sqft_lot15`  , `renovation` , `yr_renovated` a hodnotami RMSE=233548.0429 , MSE= 53939247819.2864, Adj. $R^2$=0.6606, VIF() v norme a kappa 43.33%"
      ],
      "metadata": {
        "id": "7zpVh1Dj0V_W"
      }
    },
    {
      "cell_type": "markdown",
      "source": [
        " ."
      ],
      "metadata": {
        "id": "SE6rbtti1XUe"
      }
    },
    {
      "cell_type": "code",
      "source": [
        "OLS_step_int <- ols_step_both_p(m_all_int, pent = 0.1, prem = 0.3, details = FALSE)\n",
        "OLS_step_int "
      ],
      "metadata": {
        "id": "25hAfB7nD5N-"
      },
      "execution_count": null,
      "outputs": []
    },
    {
      "cell_type": "code",
      "source": [
        "#OLS_stars_int <-(lm(price ~ grade + view + yr_built + sqft_living15 + bathrooms  + waterfront  + sqft_basement  +  sqft_lot15  + renovation + yr_renovated  , data = h_train))\n",
        "#summary(OLS_stars_int)\n",
        "summary(OLS_step_int$model)"
      ],
      "metadata": {
        "id": "GqCY6AdMsO9i"
      },
      "execution_count": null,
      "outputs": []
    },
    {
      "cell_type": "code",
      "source": [
        "vif(OLS_step_int$model)"
      ],
      "metadata": {
        "id": "bvh_SUn02KO-"
      },
      "execution_count": null,
      "outputs": []
    },
    {
      "cell_type": "code",
      "source": [
        "df_MSE <- subset(h_train, select = c(price , grade , view , yr_built , sqft_living15 , bathrooms  , waterfront  , sqft_basement  ,  sqft_lot15  , renovation , yr_renovated )) \n",
        "# graf zobrazenie korelacie\n",
        "corr <- round(cor(df_MSE), 1)\n",
        "corrplot(corr,\n",
        "  method = \"color\",\n",
        "  type = \"upper\", # show only upper side\n",
        "   col=brewer.pal(n=8, name=\"PuOr\"),\n",
        "   addCoef.col = \"black\", # Add coefficient of correlation\n",
        "         tl.col=\"black\", tl.srt=45 #Text label color and rotation\n",
        "         # Combine with significance\n",
        ")\n",
        "\n",
        "# kappa \n",
        "print('Kappa hodnota:')\n",
        "kappa(corr,exact=T)"
      ],
      "metadata": {
        "id": "yRqI8yLGquJz"
      },
      "execution_count": null,
      "outputs": []
    },
    {
      "cell_type": "code",
      "source": [
        "OLS_stars_int2 <-(lm(price ~ grade + view + yr_built + sqft_living15 + bathrooms  + waterfront  + sqft_basement  +  sqft_lot15   + renovation  , data = h_train))\n",
        "summary(OLS_stars_int2)"
      ],
      "metadata": {
        "id": "OHmy-1unJwG3"
      },
      "execution_count": null,
      "outputs": []
    },
    {
      "cell_type": "code",
      "source": [
        "print(\"MSE:\")\n",
        "mean(OLS_step_int$model$residuals^2)\n",
        "\n",
        "print(\"Adj. R^2:\")\n",
        "summary(OLS_step_int$model)$adj.r.squared"
      ],
      "metadata": {
        "id": "LvZeP5XSBicL"
      },
      "execution_count": null,
      "outputs": []
    },
    {
      "cell_type": "code",
      "source": [
        "#fig(15,15)\n",
        "#pairs.panels(h_tr_Brno_r,smooth=F,lm=T,scale=T,pch=20)"
      ],
      "metadata": {
        "id": "s96iOkzFsLD7"
      },
      "execution_count": null,
      "outputs": []
    },
    {
      "cell_type": "code",
      "source": [
        "OLS_step_B <- ols_step_both_p(m_red, pent = 0.1, prem = 0.3, details = FALSE)\n",
        "OLS_step_B \n",
        "summary(OLS_step_B$model)\n",
        "vif(OLS_step_B$model)"
      ],
      "metadata": {
        "id": "xbE4iAkws-WW"
      },
      "execution_count": null,
      "outputs": []
    },
    {
      "cell_type": "code",
      "source": [
        "df_MSE <- subset(h_tr_Brno_r, select = c(price , grade , view , yr_built , sqft_living , sqft_living15  , waterfront  , sqft_lot15  ,  bathrooms  , renovation , yr_renovated )) \n",
        "# graf zobrazenie korelacie\n",
        "corr <- round(cor(df_MSE), 1)\n",
        "corrplot(corr,\n",
        "  method = \"color\",\n",
        "  type = \"upper\", # show only upper side\n",
        "   col=brewer.pal(n=8, name=\"RdYlGn\"),\n",
        "   addCoef.col = \"black\", # Add coefficient of correlation\n",
        "         tl.col=\"black\", tl.srt=45 #Text label color and rotation\n",
        "         # Combine with significance\n",
        ")\n",
        "\n",
        "# kappa \n",
        "print('Kappa hodnota:')\n",
        "kappa(corr,exact=T)\n",
        "print(\"MSE:\")\n",
        "mean(OLS_step_B$model$residuals^2)\n",
        "\n",
        "print(\"Adj. R^2:\")\n",
        "summary(OLS_step_B$model)$adj.r.squared"
      ],
      "metadata": {
        "id": "TsFLGsJVtupX"
      },
      "execution_count": null,
      "outputs": []
    },
    {
      "cell_type": "markdown",
      "source": [],
      "metadata": {
        "id": "Nu0f_OhVuOtt"
      }
    },
    {
      "cell_type": "markdown",
      "metadata": {
        "id": "17831933"
      },
      "source": [
        "* Otázka 06\n",
        "\n",
        "   Pro Vámi vybraný model z předešlé otázky spočtěte příslušné infulenční míry. Uveďtě id pro 20 pozorování s největší hodnotou DIFF, největší hodnotou leverage (hatvalues) a největší hodnotou Cookovy vzdálenosti. (tj, 3 krát 20 hodnot). Jaká pozorování považujete za vlivná a odlehlá pozorování.\n"
      ]
    },
    {
      "cell_type": "markdown",
      "source": [
        "V tejto úlohe budeme pracovať len s modelom s upravenými premennými a navyše pre porovnanie čisto zo študijných dôvodou z dát vytiahneme ešte neupravené hodnoty(nepodelené 10timi, pretože v otázke číslo 2 sme dáta upravili s predstihom, čo sa do tejto otázky asi nemalo.)\n",
        "\n",
        "Vypíšeme v krátkosti dôležité hodnoty OLS modelu s 11 parametrami *nepremazaneho a neupraveneho setu*\n",
        "\n",
        "\n",
        " \"Kappa hodnota:\"\n",
        "14.4409341908087\n",
        "\n",
        " \"MSE:\"\n",
        "175191330777.977\n",
        "\n",
        " \"Adj. R^2:\"\n",
        "0.363713172965068\n",
        "\n",
        "Upravený set s pracovným pseudonymom Brno mal lepšie hodnoty."
      ],
      "metadata": {
        "id": "iOwC0MbV9f7e"
      }
    },
    {
      "cell_type": "code",
      "source": [],
      "metadata": {
        "id": "2IErp_mh_n1G"
      },
      "execution_count": null,
      "outputs": []
    },
    {
      "cell_type": "code",
      "source": [],
      "metadata": {
        "id": "UAHNPKDq_nyn"
      },
      "execution_count": null,
      "outputs": []
    },
    {
      "cell_type": "code",
      "source": [],
      "metadata": {
        "id": "UH6xEijA_nv5"
      },
      "execution_count": null,
      "outputs": []
    },
    {
      "cell_type": "code",
      "source": [
        "data_tr6=subset(data_do6,data_do6$split==\"train\")\n",
        "data_tr6=subset(data_tr6,select=-c(id,sqft_above,split))"
      ],
      "metadata": {
        "id": "sHkT0r2s_ns2"
      },
      "execution_count": null,
      "outputs": []
    },
    {
      "cell_type": "code",
      "source": [
        "#m_red_B=lm(price~.,data = h_tr_Brno_r)\n",
        "m_do6=lm(price~.,data = data_tr6)"
      ],
      "metadata": {
        "id": "YSa4HN0iBgtS"
      },
      "execution_count": null,
      "outputs": []
    },
    {
      "cell_type": "code",
      "source": [
        "\n",
        "OLS_step_6<- ols_step_both_p(m_do6, pent = 0.1, prem = 0.3, details = FALSE)\n",
        "OLS_step_6 \n",
        "summary(OLS_step_6$model)\n",
        "vif(OLS_step_6$model)"
      ],
      "metadata": {
        "id": "l5ezEZMx_nlA"
      },
      "execution_count": null,
      "outputs": []
    },
    {
      "cell_type": "code",
      "source": [
        "c(OLS_step_6$predictors)"
      ],
      "metadata": {
        "id": "ns-wZxiHCg4r"
      },
      "execution_count": null,
      "outputs": []
    },
    {
      "cell_type": "code",
      "execution_count": null,
      "metadata": {
        "tags": [
          "remove_input"
        ],
        "id": "f51b0636"
      },
      "outputs": [],
      "source": [
        "\n",
        "df_MSE <- subset(data_tr6, select = c(price , grade,view,yr_built,sqft_living15,bathrooms,waterfront,condition,renovation,sqft_lot15,floors,sqft_basement)) \n",
        "# graf zobrazenie korelacie\n",
        "corr <- round(cor(df_MSE), 1)\n",
        "corrplot(corr,\n",
        "  method = \"color\",\n",
        "  type = \"upper\", # show only upper side\n",
        "   col=brewer.pal(n=8, name=\"RdYlGn\"),\n",
        "   addCoef.col = \"black\", # Add coefficient of correlation\n",
        "         tl.col=\"black\", tl.srt=45 #Text label color and rotation\n",
        "         # Combine with significance\n",
        ")\n",
        "\n",
        "# kappa \n",
        "print('Kappa hodnota:')\n",
        "kappa(corr,exact=T)\n",
        "print(\"MSE:\")\n",
        "mean(OLS_step_6$model$residuals^2)\n",
        "\n",
        "print(\"Adj. R^2:\")\n",
        "summary(OLS_step_6$model)$adj.r.squared"
      ]
    },
    {
      "cell_type": "code",
      "source": [],
      "metadata": {
        "id": "WczFZp89JFOW"
      },
      "execution_count": null,
      "outputs": []
    },
    {
      "cell_type": "code",
      "source": [],
      "metadata": {
        "id": "i1vBEZOIJFKF"
      },
      "execution_count": null,
      "outputs": []
    },
    {
      "cell_type": "code",
      "source": [],
      "metadata": {
        "id": "2v8MUynGJE1B"
      },
      "execution_count": null,
      "outputs": []
    },
    {
      "cell_type": "markdown",
      "metadata": {
        "id": "d147919d"
      },
      "source": [
        "* Otázka 07\n",
        "\n",
        "  Validujte model pomocí grafického znázornění reziduí (Residual vs Fitted, QQ-plot, Cookova vzdálenost, Leverages, ...).\n",
        "  Identifikovali jste na základě této a předchozí otázky v datech nějaká podezřelá pozorování, která mohla vzniknout při úpravě (přepisu) datasetu? Doporučili byste tato pozorování z dat odstranit?"
      ]
    },
    {
      "cell_type": "code",
      "execution_count": null,
      "metadata": {
        "tags": [
          "remove_input"
        ],
        "id": "92d9b0c7"
      },
      "outputs": [],
      "source": [
        "\n"
      ]
    },
    {
      "cell_type": "markdown",
      "metadata": {
        "id": "2fe8b372"
      },
      "source": [
        "## Train, test, validation ...:  (možno vynechat pokud si jste jisti počtem bodů na zápočet)"
      ]
    },
    {
      "cell_type": "markdown",
      "metadata": {
        "id": "d54e707f"
      },
      "source": [
        "* Otázka 08\n",
        "\n",
        "  Pokud jste se rozhodli z dat odstranit nějaká pozorování, tak dále pracujtes s vyfiltrovaným datasetem a přetrénujte model z otázky 5. A spočtěte pro tento model $R^2$ statistiku a MSE jak na trénovacích tak testovacích datech (split == \"test\"). "
      ]
    },
    {
      "cell_type": "code",
      "execution_count": null,
      "metadata": {
        "tags": [
          "remove_input"
        ],
        "id": "c0f0d6a9"
      },
      "outputs": [],
      "source": [
        "\n"
      ]
    },
    {
      "cell_type": "markdown",
      "metadata": {
        "id": "73eb7dbf"
      },
      "source": [
        "* Otázka 09\n",
        "\n",
        "  Pomocí hřebenové regrese (případně pomocí LASSO a Elastic Net) zkuste najít nejlepší hyperparametr(y) tak, aby výsledný model měl co nejmenší MSE na testovacích datech.  "
      ]
    },
    {
      "cell_type": "code",
      "execution_count": null,
      "metadata": {
        "tags": [
          "remove_input"
        ],
        "id": "de25371b"
      },
      "outputs": [],
      "source": [
        "\n"
      ]
    },
    {
      "cell_type": "markdown",
      "metadata": {
        "id": "8c6a9b6f"
      },
      "source": [
        "* Otázka 10\n",
        "\n",
        "  Vyberte výsledný model a porovnejte MSE a $R^2$ na trénovacích, testovacích a validačních datech. Co z těchto hodnot usuzujete o kvalitě modelu a případném přetrénování? Je váš model vhodný pro predikci cen nemovitostí v okolí King County? Pokud ano, má tato predikce nějaká omezeni?"
      ]
    },
    {
      "cell_type": "code",
      "execution_count": null,
      "metadata": {
        "tags": [
          "remove_input"
        ],
        "id": "a1303b56"
      },
      "outputs": [],
      "source": [
        "\n"
      ]
    }
  ]
}