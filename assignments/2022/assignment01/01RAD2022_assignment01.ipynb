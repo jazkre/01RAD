{
  "nbformat": 4,
  "nbformat_minor": 0,
  "metadata": {
    "colab": {
      "private_outputs": true,
      "provenance": [],
      "collapsed_sections": [],
      "include_colab_link": true
    },
    "kernelspec": {
      "name": "ir",
      "display_name": "R"
    },
    "language_info": {
      "name": "R"
    }
  },
  "cells": [
    {
      "cell_type": "markdown",
      "metadata": {
        "id": "view-in-github",
        "colab_type": "text"
      },
      "source": [
        "<a href=\"https://colab.research.google.com/github/jazkre/01RAD/blob/main/assignments/2022/assignment01/01RAD2022_assignment01.ipynb\" target=\"_parent\"><img src=\"https://colab.research.google.com/assets/colab-badge.svg\" alt=\"Open In Colab\"/></a>"
      ]
    },
    {
      "cell_type": "markdown",
      "metadata": {
        "id": "1e437db5"
      },
      "source": [
        "#  1. zápočtová úloha z 01RAD 2022/23\n",
        "\n",
        "## Popis úlohy\n",
        "\n",
        "V tomto úkolu je cílem provést předzpracování datového souboru, jeho vizualizaci a jednoduchou lineární regresní úlohu, kde se budeme zajímat o ceny nemovitostí. Za tímto účelem využijeme datový set *saratosa_hoouses* z knihovny *moderndive* obsahující výběr 1057 domů.\n",
        "\n"
      ]
    },
    {
      "cell_type": "markdown",
      "metadata": {
        "id": "f65bd53f"
      },
      "source": [
        "## Podmínky a body\n",
        "\n",
        "Úkol i protokol vypracujte samostatně. Pokud na řešení nějaké úlohy budete přesto s někým spolupracovat, radit se, nezapomeňte to u odpovědi na danou otázku uvést. Tato zápočtová úloha obsahuje 10 otázek po 1 bodu. Celkem za 3 zápočtové úlohy bude možné získat 30 bodů, přičemž pro získání zápočtu je potřeba více jak 20 bodů. Další dodatečné body mohu případně individuálně udělit za řešení mini domácích úkolů z jednotlivých hodin.\n"
      ]
    },
    {
      "cell_type": "markdown",
      "source": [
        "\n",
        "## Odevzdání\n",
        "\n",
        "Protokol ve formátu Rmd+pdf, nebo jako Jupyter notebook (idealně odkaz na gitlab s možností spustit v Colabu) nejpozději do 1. 11. 2022.\n"
      ],
      "metadata": {
        "id": "2ej6l7-Z9MvJ"
      }
    },
    {
      "cell_type": "markdown",
      "source": [
        "\n",
        "### Předzpracování dat:\n",
        "\n",
        "\n"
      ],
      "metadata": {
        "id": "T9O0WiqW9H6_"
      }
    },
    {
      "cell_type": "code",
      "source": [
        "list_of_packages <- c(\"tidyverse\", \"MASS\",\"GGally\",\"moderndive\")\n",
        "missing_packages <- list_of_packages[!(list_of_packages %in% installed.packages()[,\"Package\"])]\n",
        "missing_packages\n",
        "if(length(missing_packages)) install.packages(missing_packages)\n",
        "lapply(list_of_packages, library, character.only = TRUE)"
      ],
      "metadata": {
        "id": "pF2Kv8_5iB-W"
      },
      "execution_count": null,
      "outputs": []
    },
    {
      "cell_type": "code",
      "source": [
        "? saratoga_houses"
      ],
      "metadata": {
        "id": "JHLFSvP39QgC"
      },
      "execution_count": null,
      "outputs": []
    },
    {
      "cell_type": "markdown",
      "source": [
        "**Data**"
      ],
      "metadata": {
        "id": "UgpskaXd9Q8m"
      }
    },
    {
      "cell_type": "code",
      "source": [
        "head(saratoga_houses)"
      ],
      "metadata": {
        "id": "k8XD6U_R9YUE"
      },
      "execution_count": null,
      "outputs": []
    },
    {
      "cell_type": "markdown",
      "source": [
        "## Otázka 01\n",
        "\n",
        "Zjistěte, zdali data neobsahují chybějící hodnoty *NA*. Pokud ano, tak rozhodněte zdali můžete příslušná pozorování z dat odstranit a proč. Které proměnné jsou kvantitativní a které kvalitativní? Jeli možno některé zařadit do obou skupin, pro kterou byste se rozhodli? Které proměnné je možné pužít jako faktorové ordinální a jaké jako faktorové nominální a proč? Spočtěte základní statistiky pro jednotlivé proměnné."
      ],
      "metadata": {
        "id": "W3OFt9Wq9BWo"
      }
    },
    {
      "cell_type": "markdown",
      "metadata": {
        "id": "b8e8f2b2"
      },
      "source": [
        "### Řešení 01:"
      ]
    },
    {
      "cell_type": "markdown",
      "source": [
        "Aby sme zistili či dáta obsahujú chýbajúce hodnoty, tj. *NA* využijeme funkciu ***summary***. \n",
        "Skontrolujeme charakteristiky pre každú premennú, či sa vo výpise nachádza kategória *NA's*. Vidíme, že premenná *lot_size* postráda 9 hodnôt, čo činí 0.85% dát. Keďže ide o malý počet hodnôt a navyše chýbajú v premennej *lot_size*, teda veľkosť pozemku, pričom v datasetu pozorujeme nekonzistentnosť medzi veľkosťou obytnej plochy a pozemkom (či inými parametrami) a faktom, že ďalej vyberáme podmnožinu na základe *lot_size*, rozhodli sme sa 9 z 1057 pozorovaní odstrániť."
      ],
      "metadata": {
        "id": "JbDgSsGcrYsH"
      }
    },
    {
      "cell_type": "markdown",
      "source": [
        "Za kvantitatívne premenné považujem : **price, living_area, bathrooms, bedrooms, fireplacesm lot_size, age** a za kvalitatívne **fireplace**, zároveň by sme ako kvalitatívne premenné mohli uvažovať aj **bedrooms, bathrooms** či **fireplaces** v ponímaní popisu domu podľa počtu izieb (3kk, 3+1...). Premenné by som ponechala ako kvantitatívne.\n",
        "\n",
        "Za faktorové premenné je možné vziať **bedrooms, bathrooms, fireplaces**, pričom ako ordinálnu by sa dalo uvažovať **bedrooms** a usporiadať od najmenšieho počtu spální po najvyšší."
      ],
      "metadata": {
        "id": "nzE9ymAJmMZS"
      }
    },
    {
      "cell_type": "code",
      "source": [
        "summary(saratoga_houses)"
      ],
      "metadata": {
        "id": "rfglU873Xr44"
      },
      "execution_count": null,
      "outputs": []
    },
    {
      "cell_type": "code",
      "source": [
        "pctmiss <- colSums(is.na(saratoga_houses))/nrow(saratoga_houses)\n",
        "round(pctmiss, 4)"
      ],
      "metadata": {
        "id": "jcfznTwYgjRd"
      },
      "execution_count": null,
      "outputs": []
    },
    {
      "cell_type": "code",
      "source": [
        "library(dplyr)\n",
        "\n",
        "saratoga_houses %>% \n",
        "  filter(if_any(everything(), is.na))"
      ],
      "metadata": {
        "id": "hhQsGwBMlJip"
      },
      "execution_count": null,
      "outputs": []
    },
    {
      "cell_type": "code",
      "source": [
        "sh <- na.omit(saratoga_houses)"
      ],
      "metadata": {
        "id": "3negXD13pamk"
      },
      "execution_count": null,
      "outputs": []
    },
    {
      "cell_type": "code",
      "source": [
        "summary(sh)"
      ],
      "metadata": {
        "id": "YIRP1hleXgQT"
      },
      "execution_count": null,
      "outputs": []
    },
    {
      "cell_type": "markdown",
      "source": [
        "Základné štatistiky vidíme v tabuľke summary, chýbajú nám rozptyly veličín(bez veličiny fireplace), ktoré uvedieme v nasledujúcej bunke:"
      ],
      "metadata": {
        "id": "kujFBP2rXVT_"
      }
    },
    {
      "cell_type": "code",
      "source": [
        "c(var(sh$price), var(sh$living_area),var(sh$bathrooms), var(sh$bedrooms),var(sh$fireplaces),var(sh$lot_size), var(sh$age))"
      ],
      "metadata": {
        "id": "xdQghEh3XUNI"
      },
      "execution_count": null,
      "outputs": []
    },
    {
      "cell_type": "markdown",
      "metadata": {
        "id": "07a085bd"
      },
      "source": [
        "## Otázka 02\n",
        "\n",
        "Chceme koupit nemovitost v zahraničí a průzkumem trhu jsme obdřeli předchozí data set *saratoga_houses*. Jelikož ale máme přesnější požadavky a nerozumíme imperiálním jednotkám, potřebujeme data upravit:\n",
        "\n",
        "* Převeďte cenu nemovitostí z dolarů na koruny v tisících a plochu pozemku a obytnou plochu z akrů a čtverečích stop na $m^2$. (chceck describtion by *? saratoga_houses*) \n",
        "* Vyberte jen nemovitosti starší 10 let a mladší 50 let, jejichž cena je menší než 7500000 Kč, a plocha pozemku je mezi 500 a 5000 $m^2$.\n",
        "* Počet koupelen a počet pokojů převeďte na faktorové proměnné o 3 úrovních."
      ]
    },
    {
      "cell_type": "markdown",
      "source": [
        "**Dále pracujte jen s takto omezeným datasetem a s proměnnýma *cena*, *plocha_obytna*, *plocha_pozemku* *pocet_pokoju*,*stari_domu*, *pocet_koupelen*, *krb*.**"
      ],
      "metadata": {
        "id": "T7p28uQXwxxR"
      }
    },
    {
      "cell_type": "markdown",
      "source": [
        "### Řešení 02:"
      ],
      "metadata": {
        "id": "WCtNNkZwXwu-"
      }
    },
    {
      "cell_type": "markdown",
      "source": [
        "Převeďte cenu nemovitostí z dolarů na koruny v tisících a plochu pozemku a obytnou plochu z akrů a čtverečích stop na $m^2$.\n",
        "\n",
        "-urobíme tak pomocou balíčkov *measurements* a *priceR*:"
      ],
      "metadata": {
        "id": "3x_1-6LwdPEz"
      }
    },
    {
      "cell_type": "code",
      "execution_count": null,
      "metadata": {
        "tags": [
          "remove_input"
        ],
        "id": "ff8d4e91"
      },
      "outputs": [],
      "source": [
        "install.packages(\"measurements\")\n",
        "library(measurements)\n",
        "#conv_unit(x, from, to)\n",
        "\n",
        "install.packages(\"priceR\")\n",
        "library(priceR)\n",
        "#convert_currencies(price_start,  from,  to,  date = lubridate::today(),  floor_unit = \"day\")"
      ]
    },
    {
      "cell_type": "code",
      "source": [
        "sh$living_area=conv_unit(sh$living_area, \"ft2\",\"m2\")\n",
        "sh$lot_size=conv_unit(sh$lot_size, \"acre\",\"m2\")"
      ],
      "metadata": {
        "id": "uZlt1vW8Epgf"
      },
      "execution_count": null,
      "outputs": []
    },
    {
      "cell_type": "code",
      "source": [
        "sh$price=convert_currencies(sh$price,\"USD\", \"CZK\", date = lubridate::today(),  floor_unit = \"day\")"
      ],
      "metadata": {
        "id": "GxMNPB2bMU_B"
      },
      "execution_count": null,
      "outputs": []
    },
    {
      "cell_type": "code",
      "source": [
        "sh$price=sh$price/1000"
      ],
      "metadata": {
        "id": "9aBRz69vN3lX"
      },
      "execution_count": null,
      "outputs": []
    },
    {
      "cell_type": "code",
      "source": [
        "head(sh)"
      ],
      "metadata": {
        "id": "iKDhUCv6NnMT"
      },
      "execution_count": null,
      "outputs": []
    },
    {
      "cell_type": "markdown",
      "source": [
        "Vyberte jen nemovitosti starší 10 let a mladší 50 let, jejichž cena je menší než 7500000 Kč, a plocha pozemku je mezi 500 a 5000  m2:\n",
        "\n",
        "-učiníme tak pomocou funkcie *subset* a nerovnostných podmienok:"
      ],
      "metadata": {
        "id": "2ylk8h_Dcx2p"
      }
    },
    {
      "cell_type": "code",
      "source": [
        "sh_sel=subset(sh, sh$age>=10 & sh$age<=50 & sh$lot_size>=500 & sh$lot_size<=5000 & sh$price<7500000)"
      ],
      "metadata": {
        "id": "dGH0r1iFQT7F"
      },
      "execution_count": null,
      "outputs": []
    },
    {
      "cell_type": "markdown",
      "source": [
        "Počet koupelen a počet pokojů převeďte na faktorové proměnné o 3 úrovních:\n",
        "\n",
        "Pre kúpeľne volíme úrovne:\n",
        "\n",
        "*   1-1.5\n",
        "*   2-2.5\n",
        "*   3-3.5\n",
        "\n",
        "Pre izby volíme úrovne:\n",
        "*   1 - malý\n",
        "*   2-3 stredný\n",
        "*   4-5 veľký\n",
        "\n",
        "\n",
        "\n",
        "\n"
      ],
      "metadata": {
        "id": "YF3SoaljdD0e"
      }
    },
    {
      "cell_type": "code",
      "source": [
        "sh_sel$pocet_koupelen_f='2-2.5'\n",
        "sh_sel$pocet_koupelen_f[sh_sel$bathrooms<2]='1-1.5'\n",
        "sh_sel$pocet_koupelen_f[sh_sel$bathrooms>=3]='3-3.5'\n",
        "sh_sel$pocet_koupelen_f<-as.factor(sh_sel$pocet_koupelen_f)"
      ],
      "metadata": {
        "id": "tvQeQdUoDnPO"
      },
      "execution_count": null,
      "outputs": []
    },
    {
      "cell_type": "code",
      "source": [
        "sh_sel$pocet_pokoju_f='2-3_stredny'\n",
        "sh_sel$pocet_pokoju_f[sh_sel$bedrooms<2]='1_maly'\n",
        "sh_sel$pocet_pokoju_f[sh_sel$bedrooms>3]='4-5_velky'\n",
        "sh_sel$pocet_pokoju_f<-as.factor(sh_sel$pocet_pokoju_f)"
      ],
      "metadata": {
        "id": "-4Iuls1vEXPk"
      },
      "execution_count": null,
      "outputs": []
    },
    {
      "cell_type": "code",
      "source": [
        "head(sh_sel)"
      ],
      "metadata": {
        "id": "8qCu7VexDGvO"
      },
      "execution_count": null,
      "outputs": []
    },
    {
      "cell_type": "markdown",
      "source": [
        "Na záver 2.úlohy premenujeme premenné do češtiny, podľa zadania vrámci balíčka *dplyr*:"
      ],
      "metadata": {
        "id": "IU014DR7doWQ"
      }
    },
    {
      "cell_type": "code",
      "source": [
        "sh_sel<-sh_sel%>%\n",
        "  rename(cena=price,\n",
        "        plocha_obytna=living_area,\n",
        "        pocet_koupelen=bathrooms,\n",
        "        pocet_pokoju=bedrooms,\n",
        "        pocet_krbu=fireplaces,\n",
        "        plocha_pozemku=lot_size,\n",
        "        stari_domu=age,\n",
        "        krb=fireplace)"
      ],
      "metadata": {
        "id": "jAmQ0K1bGIs1"
      },
      "execution_count": null,
      "outputs": []
    },
    {
      "cell_type": "code",
      "source": [
        "head(sh_sel)"
      ],
      "metadata": {
        "id": "N6Nj7rRsSNGZ"
      },
      "execution_count": null,
      "outputs": []
    },
    {
      "cell_type": "markdown",
      "source": [
        "\n",
        "## Otázka 03 \n",
        "\n",
        "* Porovnejte průměry cen nemovitostí s krbem a bez krbu a otestujte, zdali na hladině významnosti $\\alpha = 0.01$ je průměrná cena nemovitostí s krbem větší než průměrná cena nemovitostí bez krbu."
      ],
      "metadata": {
        "id": "VbFGPpNDMqe_"
      }
    },
    {
      "cell_type": "markdown",
      "source": [
        "### Řešení 03:\n"
      ],
      "metadata": {
        "id": "9e0MooPUX0GJ"
      }
    },
    {
      "cell_type": "markdown",
      "source": [
        "Testujeme hypotézy:\n",
        "\n",
        "$H_0 : μ_{T}> \\mu_{F} $ vs. $H_1 : μ_{T} \t\\leq \\mu_{F} $ , na hladine významnosti $\\alpha = 0.01$\n",
        "\n",
        "*pri značení T - s krbom / F - bez krbu*"
      ],
      "metadata": {
        "id": "L1TO040j_uR0"
      }
    },
    {
      "cell_type": "code",
      "source": [
        "install.packages(\"ggpubr\")\n",
        "library(\"ggpubr\")"
      ],
      "metadata": {
        "id": "zzdJYFltJBpN"
      },
      "execution_count": null,
      "outputs": []
    },
    {
      "cell_type": "code",
      "source": [
        "\n",
        "ggboxplot(sh_sel, x = \"krb\", y = \"cena\", \n",
        "          color = \"krb\", palette = c(\"#00AFBB\", \"#E7B800\"),\n",
        "          ylab = \"cena\", xlab = \"Krb\")"
      ],
      "metadata": {
        "id": "pdDFLVvlIt9V"
      },
      "execution_count": null,
      "outputs": []
    },
    {
      "cell_type": "code",
      "source": [
        "ceny_s_krbom=subset(sh_sel$cena, sh_sel$krb==TRUE)\n",
        "ceny_bez_krbu=subset(sh_sel$cena, sh_sel$krb==FALSE)"
      ],
      "metadata": {
        "id": "wa11wNb6OoXI"
      },
      "execution_count": null,
      "outputs": []
    },
    {
      "cell_type": "code",
      "source": [
        "mean(ceny_s_krbom)\n",
        "mean(ceny_bez_krbu)"
      ],
      "metadata": {
        "id": "O3JXkMS1HP_R"
      },
      "execution_count": null,
      "outputs": []
    },
    {
      "cell_type": "code",
      "source": [
        "# Shapiro-Wilk normality test for Men's weights\n",
        "with(sh_sel, shapiro.test(cena[krb==FALSE]))# p =  0.0001061 < alpha\n",
        "# Shapiro-Wilk normality test for Women's weights\n",
        "with(sh_sel, shapiro.test(cena[krb==TRUE])) # p = 0.007471 < alpha"
      ],
      "metadata": {
        "id": "yJT0Rc3dPuUV"
      },
      "execution_count": null,
      "outputs": []
    },
    {
      "cell_type": "markdown",
      "source": [
        "p-hodnoty Shapiro-Wilkovho twstu vyšli značne menšie, než naša význačná hladina $α$, na základe čoho ďalej pokračujeme s Wilcoxonovým testom."
      ],
      "metadata": {
        "id": "4u9oDQjxQSwU"
      }
    },
    {
      "cell_type": "code",
      "source": [
        "res <- wilcox.test(cena ~ krb, data = sh_sel,\n",
        "                   exact = FALSE)\n",
        "res"
      ],
      "metadata": {
        "id": "wVnMt8fqQ5Vc"
      },
      "execution_count": null,
      "outputs": []
    },
    {
      "cell_type": "markdown",
      "source": [
        "Wilcoxon test aplikujeme podľa dokumentácie [Wilcox.test()](https://www.rdocumentation.org/packages/stats/versions/3.6.2/topics/wilcox.test), kde za alternatívnu hypotézu volíme *alternative = \"greater\"*, teda $H_1: μ_{F}>\\mu_{T}$."
      ],
      "metadata": {
        "id": "fAPbYiBoYSw6"
      }
    },
    {
      "cell_type": "code",
      "source": [
        "wilcox.test(cena ~ krb, data = sh_sel, \n",
        "        exact = FALSE, alternative = \"greater\")"
      ],
      "metadata": {
        "id": "FdQ8vYOw7MCf"
      },
      "execution_count": null,
      "outputs": []
    },
    {
      "cell_type": "markdown",
      "source": [
        "Na základe Wilcoxonovho testu, kde sme skúmali, $H_0$, či sú ceny nehnuteľností bez krbu v priemere nižšie než ceny nehnuteľností s krbom, sme obdržali **p-value=1** a na hladine významnosti **0.01** nemáme dosť dôkazov túto hypotézu zamietnuť."
      ],
      "metadata": {
        "id": "3gthqervSa2n"
      }
    },
    {
      "cell_type": "markdown",
      "metadata": {
        "id": "b1cdb7fa"
      },
      "source": [
        "# Vizualizace dat\n",
        "\n",
        "## Otázka 04 \n",
        "\n",
        "* Vykreslete scatterploty pro všechny numerické proměnné, kde bude barevně rozlišeno, zdali se jedná o nemovitost s krbem, nebo bez krbu.\n",
        "*  Pro proměnné *pocet_pokoju* a *pocet_koupelen* a *krb* vykreslete krabicové diagramy (nebo violin ploty), kde odezvou bude *cena*.\n",
        "* Pro proměnnou *cena* vykreslete histogram spolu s jádrovým odhadem hustoty.\n"
      ]
    },
    {
      "cell_type": "code",
      "execution_count": null,
      "metadata": {
        "lines_to_next_cell": 2,
        "tags": [
          "remove_input"
        ],
        "id": "9c6a9986"
      },
      "outputs": [],
      "source": [
        "library(ggplot2)"
      ]
    },
    {
      "cell_type": "markdown",
      "source": [
        "Vykreslíme príslušné scatterploty"
      ],
      "metadata": {
        "id": "-JooZhWwUTrI"
      }
    },
    {
      "cell_type": "code",
      "source": [
        "ggplot(sh_sel, aes(x=plocha_obytna, y=cena,colour = krb))+\n",
        "  geom_point()+\n",
        "  geom_smooth(method = lm)\n",
        "\n",
        "ggplot(sh_sel, aes(x=plocha_pozemku, y=cena,colour = krb))+\n",
        "  geom_point()+\n",
        "  geom_smooth(method = lm)\n",
        "\n",
        "ggplot(sh_sel, aes(x=stari_domu, y=cena,colour = krb))+\n",
        "  geom_point()+\n",
        "  geom_smooth(method = lm)\n",
        "\n",
        "ggplot(sh_sel, aes(x=pocet_koupelen, y=cena,colour = krb))+\n",
        "  geom_point()+\n",
        "  geom_smooth(method = lm)\n",
        "\n",
        "ggplot(sh_sel, aes(x=pocet_pokoju, y=cena,colour = krb))+\n",
        "  geom_point()+\n",
        "  geom_smooth(method = lm)\n",
        "\n",
        "ggplot(sh_sel, aes(x=pocet_krbu, y=cena,colour = krb))+\n",
        "  geom_point()+\n",
        "  geom_smooth(method = lm)\n",
        "\n",
        "ggplot(sh_sel, aes(x=plocha_obytna, y=plocha_pozemku,colour = krb))+\n",
        "  geom_point()+\n",
        "  geom_smooth(method = lm)\n",
        "\n",
        "ggplot(sh_sel, aes(x=plocha_obytna, y=stari_domu,colour = krb))+\n",
        "  geom_point()+\n",
        "  geom_smooth(method = lm)\n",
        "\n",
        "ggplot(sh_sel, aes(x=plocha_obytna, y=pocet_pokoju,colour = krb))+\n",
        "  geom_point()+\n",
        "  geom_smooth(method = lm)\n",
        "\n",
        "  ggplot(sh_sel, aes(x=plocha_obytna, y=pocet_koupelen,colour = krb))+\n",
        "  geom_point()+\n",
        "  geom_smooth(method = lm)\n",
        "\n",
        "  ggplot(sh_sel, aes(x=plocha_obytna, y=pocet_krbu,colour = krb))+\n",
        "  geom_point()+\n",
        "  geom_smooth(method = lm)\n",
        "\n",
        "  ggplot(sh_sel, aes(x=stari_domu, y=plocha_pozemku,colour = krb))+\n",
        "  geom_point()+\n",
        "  geom_smooth(method = lm)"
      ],
      "metadata": {
        "id": "6tMVTt6vXPOR"
      },
      "execution_count": null,
      "outputs": []
    },
    {
      "cell_type": "markdown",
      "source": [
        "Vykreslíme boxploty pre premennú počet izieb voči cene "
      ],
      "metadata": {
        "id": "MrqIDWNNcTts"
      }
    },
    {
      "cell_type": "code",
      "source": [
        "ggboxplot(sh_sel, x = \"pocet_pokoju\", y = \"cena\", \n",
        "          ylab = \"cena\", xlab = \"Pokoje\")\n"
      ],
      "metadata": {
        "id": "rgFk3ufPb8oM"
      },
      "execution_count": null,
      "outputs": []
    },
    {
      "cell_type": "markdown",
      "source": [
        "Vykreslíme boxploty pre premennú počet kúpeľní voči cene "
      ],
      "metadata": {
        "id": "T_Yhn12DPvBx"
      }
    },
    {
      "cell_type": "code",
      "source": [
        "ggboxplot(sh_sel, x = \"pocet_koupelen\", y = \"cena\", \n",
        "          ylab = \"cena\", xlab = \"Koupelny\")"
      ],
      "metadata": {
        "id": "ixIGj8EK5x7F"
      },
      "execution_count": null,
      "outputs": []
    },
    {
      "cell_type": "markdown",
      "source": [
        "Vykreslíme boxploty pre premennú krb voči cene "
      ],
      "metadata": {
        "id": "PuEJOugJPxyS"
      }
    },
    {
      "cell_type": "code",
      "source": [
        "ggboxplot(sh_sel, x = \"krb\", y = \"cena\", \n",
        "          ylab = \"cena\", xlab = \"Krb\")"
      ],
      "metadata": {
        "id": "9TIpMJ1W55jL"
      },
      "execution_count": null,
      "outputs": []
    },
    {
      "cell_type": "markdown",
      "source": [
        "Posledným bodom teda zostáva vykresliť histogram a preložiť ho jadrovým odhadom:"
      ],
      "metadata": {
        "id": "86DYYtSWnXuY"
      }
    },
    {
      "cell_type": "code",
      "source": [
        "hist(sh_sel$cena, prob = TRUE)                             \n",
        "lines(density(sh_sel$cena, bw = \"sj\"), col = \"blue\")"
      ],
      "metadata": {
        "id": "6WarOPnJcRn0"
      },
      "execution_count": null,
      "outputs": []
    },
    {
      "cell_type": "markdown",
      "metadata": {
        "lines_to_next_cell": 0,
        "id": "cdbffc50"
      },
      "source": [
        "## Otázka 05\n",
        "\n",
        "Pro kombinace faktorizovaných proměnných *pocet_pokoju*, *pocet_koupelen*  vykreslete cenu nemovitosti, aby bylo na obrázku vidět, jestli se v průměru liší ceny nemovitostí majících více pokojů, nebo více koupelen a zdali jsou zastoupeny všechny kombiance všech úrovních pro dvě zmíněné faktorové proměnné."
      ]
    },
    {
      "cell_type": "code",
      "source": [
        "sh_sel$koup_pokoj_f<-as.factor(interaction(sh_sel$pocet_koupelen_f, sh_sel$pocet_pokoju_f))"
      ],
      "metadata": {
        "id": "SxQXQuTB2Hec"
      },
      "execution_count": null,
      "outputs": []
    },
    {
      "cell_type": "code",
      "source": [
        "head(sh_sel)"
      ],
      "metadata": {
        "id": "QFIskid1i3_8"
      },
      "execution_count": null,
      "outputs": []
    },
    {
      "cell_type": "code",
      "source": [
        "rozsirene_sh<-sh_sel\n",
        "levels(rozsirene_sh$koup_pokoj_f) <- c(levels(rozsirene_sh$koup_pokoj_f),\"2-2.5.1_maly\")\n",
        "levels(rozsirene_sh$koup_pokoj_f) <- c(levels(rozsirene_sh$koup_pokoj_f),\"3-3.5.1_maly\")\n",
        "\n",
        "rows <- nrow(rozsirene_sh)\n",
        " \n",
        "# inserting row at end\n",
        "rozsirene_sh[rows+1,] <- NA\n",
        "rozsirene_sh[rows+1,ncol(rozsirene_sh)]<-\"2-2.5.1_maly\"\n",
        "\n",
        "rows <- nrow(rozsirene_sh)\n",
        " \n",
        "# inserting row at end\n",
        "rozsirene_sh[rows+1,] <- NA\n",
        "rozsirene_sh[rows+1,ncol(rozsirene_sh)]<-\"3-3.5.1_maly\"\n",
        "\n",
        "\n"
      ],
      "metadata": {
        "id": "B5b6Z3gB4J-A"
      },
      "execution_count": null,
      "outputs": []
    },
    {
      "cell_type": "code",
      "source": [
        "ggboxplot( rozsirene_sh, x = \"koup_pokoj_f\", y = \"cena\", \n",
        "          #color = \"krb\", palette = c(\"#00AFBB\", \"#E7B800\"),\n",
        "          ylab = \"cena\", xlab = \"Pokoje a koupelny\") +stat_summary(fun=\"mean\", color=\"red\", shape=15) + coord_flip()\n",
        "\n",
        "\n"
      ],
      "metadata": {
        "id": "s32D0WwyEtjb"
      },
      "execution_count": null,
      "outputs": []
    },
    {
      "cell_type": "code",
      "source": [
        "#interaction(sh_sel$pocet_koupelen_f, sh_sel$pocet_pokoju_f)"
      ],
      "metadata": {
        "id": "_NjW713u1bUw"
      },
      "execution_count": null,
      "outputs": []
    },
    {
      "cell_type": "markdown",
      "metadata": {
        "lines_to_next_cell": 0,
        "id": "37583820"
      },
      "source": [
        "## Otázka 06\n",
        "\n",
        "Pro nemovitosti s dvěma ložnicema vykreslete závislost ceny na obytné ploše nemovitosti, kde jednotlivé události označíte barvou podle toho zdali mají krb a velikost bodů v grafu bude odpovídat počtu koupelen (pro tuto úlohu je lepší vzít počet koupelen jako numerickou proměnnou)."
      ]
    },
    {
      "cell_type": "markdown",
      "source": [
        "**Dále pracujte jen s nemovitostmi se dvěma ložnicemi.**"
      ],
      "metadata": {
        "id": "ebaQtBBORiig"
      }
    },
    {
      "cell_type": "code",
      "execution_count": null,
      "metadata": {
        "tags": [
          "remove_input"
        ],
        "id": "c4ba5f59"
      },
      "outputs": [],
      "source": [
        "sh_2bdr=subset(sh_sel, sh_sel$pocet_pokoju==2)"
      ]
    },
    {
      "cell_type": "code",
      "source": [
        "ggplot(data = sh_2bdr, mapping = aes(x = plocha_obytna, y = cena, colour = krb, size = pocet_koupelen)) + \n",
        "    geom_point()\n",
        "\n"
      ],
      "metadata": {
        "id": "YfhHdlQQRerj"
      },
      "execution_count": null,
      "outputs": []
    },
    {
      "cell_type": "markdown",
      "metadata": {
        "id": "51fc7cc4"
      },
      "source": [
        "# Jednoduchý lineární model"
      ]
    },
    {
      "cell_type": "markdown",
      "metadata": {
        "lines_to_next_cell": 0,
        "id": "354a8344"
      },
      "source": [
        "## Otázka 07\n",
        "\n",
        "Sestavte jednoduchý regresní model (s i bez interceptu), kde vysvětlovaná proměnná\n",
        "bude cena nemovitosti a vysvětlující obytná plocha.   Spočtěte pro oba modely $R^2$ a $F$ statistiky, co nám o modelech říkají. Vyberte jeden z nich a zdůvodněte proč ho preferujete.\n",
        "\n",
        "Na základě zvoleného modelu odpovězte, zdali cena nemovitosti závisí na obytné ploše  a pokud ano, o kolik se změní očekávaná cena pro nemovitost s obytnou plochou zvětšenou o $20 m^2$? "
      ]
    },
    {
      "cell_type": "code",
      "source": [
        "ggplot(sh_2bdr, aes(x = plocha_obytna, y = cena)) +\n",
        "  geom_point() +\n",
        "  stat_smooth()\n",
        "\n",
        "  ggplot(sh_2bdr, aes(x = plocha_obytna, y = cena)) +\n",
        "  geom_point() +\n",
        "  stat_smooth(method = lm)"
      ],
      "metadata": {
        "id": "Wo7b1hvxBzSX"
      },
      "execution_count": null,
      "outputs": []
    },
    {
      "cell_type": "markdown",
      "source": [
        "Zostavíme model *s interceptom:*"
      ],
      "metadata": {
        "id": "YQhA1pQSphpi"
      }
    },
    {
      "cell_type": "code",
      "source": [
        "model_wi = lm(formula= cena ~  plocha_obytna , data=sh_2bdr)"
      ],
      "metadata": {
        "id": "vl0CuD4tDI8z"
      },
      "execution_count": null,
      "outputs": []
    },
    {
      "cell_type": "code",
      "source": [
        "summary(model_wi)"
      ],
      "metadata": {
        "id": "y_m3A71sxypd"
      },
      "execution_count": null,
      "outputs": []
    },
    {
      "cell_type": "markdown",
      "source": [
        "Dostávame lineárny model $Y=21.881 * X + 339.794$ s p-hodnotou $2.64*10^{-11}$ na základe ktorej považujeme obytnú plochu za štatisticky významnú (vhodný prediktor).\n",
        "\n",
        "Hodnota $R^2$ štatistiky činí $0.3981$ a hodnota $F$ štatistiky je $58.2$"
      ],
      "metadata": {
        "id": "p7_FNmok2Py9"
      }
    },
    {
      "cell_type": "code",
      "source": [
        "zmena_plochy_domu=20\n",
        "#delta_c_wi=model_wi$coefficients[1] + (model_wi$coefficients[2]*zmena_plochy_domu)\n",
        "delta_c_wi=(model_wi$coefficients[2]*zmena_plochy_domu)\n",
        "delta_c_wi"
      ],
      "metadata": {
        "id": "eA6w_u8_5D97"
      },
      "execution_count": null,
      "outputs": []
    },
    {
      "cell_type": "markdown",
      "source": [
        "Zostavíme model *bez interceptu:*"
      ],
      "metadata": {
        "id": "zYKmnPQOpm6x"
      }
    },
    {
      "cell_type": "code",
      "source": [
        "model_woi = lm(formula= cena ~ -1 + plocha_obytna , data=sh_2bdr)"
      ],
      "metadata": {
        "id": "YzlsAC_luBd9"
      },
      "execution_count": null,
      "outputs": []
    },
    {
      "cell_type": "code",
      "source": [
        "summary(model_woi)"
      ],
      "metadata": {
        "id": "M4LNyDOh0Ags"
      },
      "execution_count": null,
      "outputs": []
    },
    {
      "cell_type": "markdown",
      "source": [
        "Dostávame lineárny model $Y=24.4478 * X $ prechádzajúci počiatkom s p-hodnotou $2*10^{-16}$ na základe ktorej považujeme obytnú plochu za vhodný prediktor.\n",
        "\n",
        "Hodnota $R^2$ štatistiky činí $0.9135$ a hodnota $F$ štatistiky je $939.4$"
      ],
      "metadata": {
        "id": "2AjR_5dbCx_Q"
      }
    },
    {
      "cell_type": "code",
      "source": [
        "zmena_plochy_domu=20\n",
        "delta_c_woi=(model_woi$coefficients[1]*zmena_plochy_domu)\n",
        "delta_c_woi"
      ],
      "metadata": {
        "id": "3BQnmSC0CsxT"
      },
      "execution_count": null,
      "outputs": []
    },
    {
      "cell_type": "code",
      "source": [
        "# minimum a maximum plochy\n",
        "f_min <- min(sh_2bdr$plocha_obytna)\n",
        "f_max <- max(sh_2bdr$plocha_obytna)\n",
        "\n",
        "# equally space points between from the min-max height interval\n",
        "xdat <- (f_max - f_min) * seq(0, 1, 0.01) + f_min\n",
        "ydat <- model_wi$coefficients[1] + model_wi$coefficients[2]*xdat\n",
        "\n",
        "# regression line data frame\n",
        "regressionLine <- data.frame(xdat, ydat)\n",
        "names(regressionLine) <- c(\"cena\", \"plocha_obytna\")"
      ],
      "metadata": {
        "id": "01oCqeiKGhPx"
      },
      "execution_count": null,
      "outputs": []
    },
    {
      "cell_type": "code",
      "source": [
        "\n",
        "# plot of data set with regression line\n",
        "ggplot(sh_2bdr, aes(x=plocha_obytna, y=cena)) + \n",
        "  geom_point(size=1, alpha=0.7) + \n",
        "  xlab(\"obytná plocha [m^2]\") + \n",
        "  ylab(\"cena [czk]\") + \n",
        "  ggtitle(\"Cena a obytná plocha - Saratoga houses\")  +\n",
        "    geom_abline(aes(intercept = model_wi$coefficients[1], slope = model_wi$coefficients[2],color = \"with intercept\")) +\n",
        "    geom_abline(aes(intercept = 0, slope = model_woi$coefficients[1],color = \"without intercept\")) +\n",
        "    scale_color_manual(name = \"Linear model\", values = c(\"without intercept\"=\"blue\",\"with intercept\"=\"red\"))\n",
        "    #                  "
      ],
      "metadata": {
        "id": "4aBXgPkFFpZk"
      },
      "execution_count": null,
      "outputs": []
    },
    {
      "cell_type": "code",
      "source": [
        "# Visualization of residuals (orthogonal distance to be minimized by OLS method)\n",
        "\n",
        "r1<-ggplot(sh_2bdr, aes(x=plocha_obytna, y=cena)) +\n",
        "  geom_smooth(method = \"lm\", se = FALSE, color = \"lightgrey\") +\n",
        "  geom_segment(aes(xend = plocha_obytna, yend = predict(model_wi)), alpha = .2) +\n",
        "  geom_point(aes(color = resid(model_wi))) +  \n",
        "  scale_color_gradient2(low = \"blue\", mid = \"white\", high = \"red\") +  # Colors to use here\n",
        "  # geom_point() + \n",
        "  # guides(color = FALSE) +\n",
        "  geom_point(aes(y = predict(model_wi)), shape = 1) +\n",
        "  theme_bw()\n",
        "#černé kolečka=naše odhady\n",
        "\n",
        "r2<-ggplot(sh_2bdr, aes(x=plocha_obytna, y=cena)) +\n",
        "   geom_smooth(method = \"lm\", se = FALSE, color = \"lightgrey\") +\n",
        "    geom_segment(aes(xend = plocha_obytna, yend = predict(model_woi)), alpha = .2) +\n",
        "    geom_point(aes(color = resid(model_woi))) +  \n",
        "    scale_color_gradient2(low = \"blue\", mid = \"white\", high = \"red\") +  # Colors to use here\n",
        "  # geom_point() + \n",
        "  # guides(color = FALSE) +\n",
        "  geom_point(aes(y = predict(model_woi)), shape = 1) +\n",
        "  theme_bw()\n",
        "  ggarrange(r1, r2, labels = c(\"I\", \"noI\"), common.legend = FALSE, legend = \"bottom\")"
      ],
      "metadata": {
        "id": "CmECHeslkjkU"
      },
      "execution_count": null,
      "outputs": []
    },
    {
      "cell_type": "code",
      "source": [
        "r_wi=resid(model_wi)\n",
        "r_woi=resid(model_woi)\n",
        "par(mfrow=c(1,2))\n",
        "#residual vs. fitted plot\n",
        "plot(fitted(model_wi), r_wi)\n",
        "abline(0,0)\n",
        "plot(fitted(model_wi), r_woi)\n",
        "abline(0,0)"
      ],
      "metadata": {
        "id": "kC9stzNaTsZi"
      },
      "execution_count": null,
      "outputs": []
    },
    {
      "cell_type": "code",
      "source": [
        "par(mfrow=c(1,2))\n",
        "#Q-Q plot for residuals\n",
        "qqnorm(r_wi)\n",
        "qqline(r_wi) \n",
        "qqnorm(r_woi)\n",
        "qqline(r_woi)"
      ],
      "metadata": {
        "id": "uFiEzyoQVwFV"
      },
      "execution_count": null,
      "outputs": []
    },
    {
      "cell_type": "code",
      "source": [
        "#Create density plot of residuals\n",
        "par(mfrow=c(1,2))\n",
        "plot(density(r_wi))\n",
        "plot(density(r_woi))"
      ],
      "metadata": {
        "id": "_4ay__3KV1wk"
      },
      "execution_count": null,
      "outputs": []
    },
    {
      "cell_type": "markdown",
      "source": [
        "Aby sme mohli porovnať $R^2$ štatistiky pre oba modely, musíme spočítať výberový korelačný koeficient. Pre oba modely dostávame totožné hodnoty $0.3981$, čo pre nás predstavuje porovnateľné štatistyky a v tomto ohľade sa oba modely zhodujú."
      ],
      "metadata": {
        "id": "5QhZGXQAQ06k"
      }
    },
    {
      "cell_type": "code",
      "source": [
        "#s interceptom\n",
        "cor(predict(model_wi),sh_2bdr$cena)^2\n",
        "#bez interceptu\n",
        "cor(predict(model_woi),sh_2bdr$cena)^2"
      ],
      "metadata": {
        "id": "8oLJgXoWQ0iu"
      },
      "execution_count": null,
      "outputs": []
    },
    {
      "cell_type": "markdown",
      "source": [
        "Model, ktorý by som zvolila je model *bez* interceptu, a to z nasledujúcich dôvodov: predpokladá, že keď máme dom s plochou $0m^2$, teda žiaden dom, jeho cena bude nulová, čo v momente, kedy kupujeme dom, teda nie len pozemok bez domu považujeme za vhodnú úvahu, ďalej je *p-hodnota* o 5 rádov nižšia a *F* štatistika vyššia, pričom túto kombináciu považujem za signifikantnejšiu, rovnako tak hodnota *R$^2$* je značne vyššia a prepočítaná hodnota koeficientu korelácie je totožná s modelom s interceptom.\n",
        "Pre vybraný model sme teda spočítali o koľko by sa zvýšila cena, v prípade zvýšenia plochy domu o $20m^2$. Vyšlo, že cena by sa zvýšila o 488.956 tísícok czk. "
      ],
      "metadata": {
        "id": "7iHvouDUQflm"
      }
    },
    {
      "cell_type": "markdown",
      "metadata": {
        "id": "5ac2ca23"
      },
      "source": [
        "## Otázka 08\n",
        "Sestavte jednoduchý linární model jako v předchozí otázce pro nemovitosti s krbem a bez krbu. Jaký model vykazuje silnější linearní vztah mezi cenou a obytnou plochou? O kolik cena s rostoucí obytnou plochou pro nemovitosti s krbem roste rychleji než pro nemovitosti bez krbu?\n",
        "\n",
        "Spočtěte 95% konfidenční intervaly pro regresní koeficienty popisující sklon regresní přímky v obou modelech a zjistěte, zdali se protínají. Co z toho můžeme vyvozovat?\n",
        "\n",
        "Na základě těchto modelů zjistěte o kolik procent bude mít průměrná nemovitost s krbem a obytnou plochou $160m^2$ vyšší očekávanou cenu než průměrná nemovitost o stejné obytné ploše, ale bez krbu."
      ]
    },
    {
      "cell_type": "markdown",
      "source": [
        "**POZN.:** Pri vypracovaní tejto otázky som využila rady Bc. Elišky Pečenkovej (konkrétne formu zakomponovania premennej *krb* do *lm()* v poslednom bode)"
      ],
      "metadata": {
        "id": "jFsoNWSd8Bwm"
      }
    },
    {
      "cell_type": "code",
      "source": [
        "#lm_table(df,model,.groups = NA,output = \"table\",est.name = \"est\",keep_model = FALSE)"
      ],
      "metadata": {
        "id": "HiKx3Pz7VvGy"
      },
      "execution_count": null,
      "outputs": []
    },
    {
      "cell_type": "code",
      "source": [],
      "metadata": {
        "id": "PghbgwA9V4Ki"
      },
      "execution_count": null,
      "outputs": []
    },
    {
      "cell_type": "code",
      "source": [
        "ggplot(subset(sh_2bdr, sh_2bdr$krb==\"TRUE\"), aes(x = plocha_obytna, y = cena)) +\n",
        "  geom_point() +\n",
        "  stat_smooth()"
      ],
      "metadata": {
        "id": "i3leyMgAtbnw"
      },
      "execution_count": null,
      "outputs": []
    },
    {
      "cell_type": "code",
      "execution_count": null,
      "metadata": {
        "tags": [
          "remove_input"
        ],
        "id": "07ba8268"
      },
      "outputs": [],
      "source": [
        "model_wi_T = lm(formula= cena ~  plocha_obytna , data=subset(sh_2bdr, sh_2bdr$krb==\"TRUE\"))\n",
        "summary(model_wi_T)"
      ]
    },
    {
      "cell_type": "code",
      "source": [
        "model_woi_T = lm(formula= cena ~ -1 + plocha_obytna , data=subset(sh_2bdr, sh_2bdr$krb==\"TRUE\"))\n",
        "summary(model_woi_T)"
      ],
      "metadata": {
        "id": "UFeNpr5o-SKK"
      },
      "execution_count": null,
      "outputs": []
    },
    {
      "cell_type": "code",
      "source": [
        "model_wi_F = lm(formula= cena ~  plocha_obytna , data=subset(sh_2bdr, sh_2bdr$krb==\"FALSE\"))\n",
        "summary(model_wi_F)"
      ],
      "metadata": {
        "id": "B3lQCRS5pRQR"
      },
      "execution_count": null,
      "outputs": []
    },
    {
      "cell_type": "code",
      "source": [
        "model_woi_F = lm(formula= cena ~ -1 + plocha_obytna , data=subset(sh_2bdr, sh_2bdr$krb==\"FALSE\"))\n",
        "summary(model_woi_F)"
      ],
      "metadata": {
        "id": "lA0pGnyU-l3h"
      },
      "execution_count": null,
      "outputs": []
    },
    {
      "cell_type": "code",
      "source": [
        "# plot of data set with regression line\n",
        "p1<-ggplot(subset(sh_2bdr, sh_2bdr$krb==\"TRUE\"), aes(x=plocha_obytna, y=cena)) + \n",
        "  geom_point(size=1, alpha=0.7) + \n",
        "  xlab(\"obytná plocha [m^2]\") + \n",
        "  ylab(\"cena [czk]\") + \n",
        "  ggtitle(\"Cena a obytná plocha: s krbom\")  +\n",
        "    geom_abline(aes(intercept = model_wi_T$coefficients[1], slope = model_wi_T$coefficients[2],color = \"with intercept\")) +\n",
        "    geom_abline(aes(intercept = 0, slope = model_woi_T$coefficients[1],color = \"without intercept\")) +\n",
        "    scale_color_manual(name = \"Linear model\", values = c(\"without intercept\"=\"blue\",\"with intercept\"=\"red\"))\n",
        "    # \n",
        "\n",
        "# plot of data set with regression line\n",
        "p2<-ggplot(subset(sh_2bdr, sh_2bdr$krb==\"FALSE\"), aes(x=plocha_obytna, y=cena)) + \n",
        "  geom_point(size=1, alpha=0.7) + \n",
        "  xlab(\"obytná plocha [m^2]\") + \n",
        "  ylab(\"cena [czk]\") + \n",
        "  ggtitle(\"Cena a obytná plocha: bez krbu\")  +\n",
        "    geom_abline(aes(intercept = model_wi_F$coefficients[1], slope = model_wi_F$coefficients[2],color = \"with intercept\")) +\n",
        "    geom_abline(aes(intercept = 0, slope = model_woi_F$coefficients[1],color = \"without intercept\")) +\n",
        "    scale_color_manual(name = \"Linear model\", values = c(\"without intercept\"=\"green\",\"with intercept\"=\"magenta\"))\n",
        "\n",
        "ggarrange(p1, p2, labels = c(\"T\", \"F\"), common.legend = FALSE, legend = \"bottom\")"
      ],
      "metadata": {
        "id": "T7WnABYgcIFP"
      },
      "execution_count": null,
      "outputs": []
    },
    {
      "cell_type": "code",
      "source": [
        "# plot of data set with regression line\n",
        "p_1<-ggplot(sh_2bdr, aes(x=plocha_obytna, y=cena)) + \n",
        "  geom_point(size=1, alpha=0.7) + \n",
        "  xlab(\"obytná plocha [m^2]\") + \n",
        "  ylab(\"cena [czk]\") + \n",
        "  ggtitle(\"S interceptom\")  +\n",
        "    geom_abline(aes(intercept = model_wi_T$coefficients[1], slope = model_wi_T$coefficients[2],color = \"s krbom\")) +\n",
        "    geom_abline(aes(intercept = model_wi_F$coefficients[1], slope = model_wi_F$coefficients[2],color = \"bez krbu\"))+\n",
        "    scale_color_manual(name = \"Linear model\", values = c(\"s krbom\"=\"blue\",\"bez krbu\"=\"red\"))\n",
        "    # \n",
        "\n",
        "# plot of data set with regression line\n",
        "p_2<-ggplot(sh_2bdr, aes(x=plocha_obytna, y=cena)) + \n",
        "  geom_point(size=1, alpha=0.7) + \n",
        "  xlab(\"obytná plocha [m^2]\") + \n",
        "  ylab(\"cena [czk]\") + \n",
        "  ggtitle(\"Bez interceptu\")  +\n",
        "      geom_abline(aes(intercept = 0, slope = model_woi_T$coefficients[1],color = \"s krbom\")) +\n",
        "    geom_abline(aes(intercept = 0, slope = model_woi_F$coefficients[1],color = \"bez krbu\")) +\n",
        "    scale_color_manual(name = \"Linear model\", values = c(\"s krbom\"=\"green\",\"bez krbu\"=\"magenta\"))\n",
        "\n",
        "ggarrange(p_1, p_2, labels = c(\"I\", \"noI\"), common.legend = FALSE, legend = \"bottom\")"
      ],
      "metadata": {
        "id": "EvqLv8L4yUL2"
      },
      "execution_count": null,
      "outputs": []
    },
    {
      "cell_type": "code",
      "source": [
        "CI_F<-confint(model_woi_F, level = 0.95)"
      ],
      "metadata": {
        "id": "f6GhgQsNvgaG"
      },
      "execution_count": null,
      "outputs": []
    },
    {
      "cell_type": "code",
      "source": [
        "CI_T<-confint(model_woi_T, level = 0.95)"
      ],
      "metadata": {
        "id": "8DtL0Apfvnzx"
      },
      "execution_count": null,
      "outputs": []
    },
    {
      "cell_type": "code",
      "source": [
        "df1<-sh_2bdr[,c( \"cena\", \"plocha_obytna\", \"krb\")]"
      ],
      "metadata": {
        "id": "aUh7hJKg36tQ"
      },
      "execution_count": null,
      "outputs": []
    },
    {
      "cell_type": "code",
      "source": [
        "df1$lowerci=CI_F[1]\n",
        "df1$lowerci[df1$krb==\"TRUE\"]=CI_T[1]\n",
        "df1$upperci=CI_F[2]\n",
        "df1$upperci[df1$krb==\"TRUE\"]=CI_T[2]"
      ],
      "metadata": {
        "id": "q23xWw165bUt"
      },
      "execution_count": null,
      "outputs": []
    },
    {
      "cell_type": "code",
      "source": [
        "ggplot(df1, aes(x = krb, y = cena, ymin = lowerci, ymax = upperci)) +\n",
        "  geom_pointrange()"
      ],
      "metadata": {
        "id": "WB5R4jJh2KWg"
      },
      "execution_count": null,
      "outputs": []
    },
    {
      "cell_type": "markdown",
      "metadata": {
        "lines_to_next_cell": 0,
        "id": "11ed78d7"
      },
      "source": [
        "## Otázka 9\n",
        "\n",
        "Vykreslete scatterplot obytné plochy a ceny nemovitostí. Do tohoto grafu vykreslete regresní přímky vybraných modelů pro nemovitosti s krbem a bez něho, jednoltivé body i regresní přímky označte barvou podle toho k jaké skupině přísluší.\n",
        "\n",
        "Sestrojte 90% konfidenční intervaly okolo očekávaných cen pro jednoltivé skupiny a na jejich základě rozhodněte, zdali a jak se očekávané ceny budou lišit pro nemovitosti s obytnou plochou menší než $120m^2$. Je to porovnávání správné? Zdůvoněte."
      ]
    },
    {
      "cell_type": "code",
      "execution_count": null,
      "metadata": {
        "lines_to_next_cell": 2,
        "tags": [
          "remove_input"
        ],
        "id": "9ae5864a"
      },
      "outputs": [],
      "source": []
    },
    {
      "cell_type": "markdown",
      "metadata": {
        "lines_to_next_cell": 0,
        "id": "bfeecac9"
      },
      "source": [
        "## Otázka 10\n",
        "\n",
        "Vykreslete histogramy pro rezidua modelů z předchozí otázky. Proložte je hustotou normálního rozdělení s nulovou střední hodnotou a rozptylem odpovídajícím $\\hat{\\sigma}^2$ z jednotlivých modelů.\n",
        "\n",
        "Co výsledný graf říka o n našich modelech a je toto ověření dostatečné pro validaci model?\n",
        "\n",
        "Navrněte další úpravy modelu za cílem co nejlépe predikvoat cenu nemovitosti."
      ]
    },
    {
      "cell_type": "code",
      "execution_count": null,
      "metadata": {
        "lines_to_next_cell": 0,
        "tags": [
          "remove_input"
        ],
        "id": "c91c49d3"
      },
      "outputs": [],
      "source": []
    },
    {
      "cell_type": "code",
      "source": [],
      "metadata": {
        "id": "ZqoYweDYlHTg"
      },
      "execution_count": null,
      "outputs": []
    }
  ]
}