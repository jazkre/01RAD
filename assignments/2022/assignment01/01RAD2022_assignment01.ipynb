{
  "nbformat": 4,
  "nbformat_minor": 0,
  "metadata": {
    "colab": {
      "private_outputs": true,
      "provenance": [],
      "collapsed_sections": [],
      "include_colab_link": true
    },
    "kernelspec": {
      "name": "ir",
      "display_name": "R"
    },
    "language_info": {
      "name": "R"
    }
  },
  "cells": [
    {
      "cell_type": "markdown",
      "metadata": {
        "id": "view-in-github",
        "colab_type": "text"
      },
      "source": [
        "<a href=\"https://colab.research.google.com/github/jazkre/01RAD/blob/main/assignments/2022/assignment01/01RAD2022_assignment01.ipynb\" target=\"_parent\"><img src=\"https://colab.research.google.com/assets/colab-badge.svg\" alt=\"Open In Colab\"/></a>"
      ]
    },
    {
      "cell_type": "markdown",
      "metadata": {
        "id": "1e437db5"
      },
      "source": [
        "#  1. zápočtová úloha z 01RAD 2022/23\n",
        "\n",
        "## Popis úlohy\n",
        "\n",
        "V tomto úkolu je cílem provést předzpracování datového souboru, jeho vizualizaci a jednoduchou lineární regresní úlohu, kde se budeme zajímat o ceny nemovitostí. Za tímto účelem využijeme datový set *saratosa_hoouses* z knihovny *moderndive* obsahující výběr 1057 domů.\n",
        "\n"
      ]
    },
    {
      "cell_type": "markdown",
      "metadata": {
        "id": "f65bd53f"
      },
      "source": [
        "## Podmínky a body\n",
        "\n",
        "Úkol i protokol vypracujte samostatně. Pokud na řešení nějaké úlohy budete přesto s někým spolupracovat, radit se, nezapomeňte to u odpovědi na danou otázku uvést. Tato zápočtová úloha obsahuje 10 otázek po 1 bodu. Celkem za 3 zápočtové úlohy bude možné získat 30 bodů, přičemž pro získání zápočtu je potřeba více jak 20 bodů. Další dodatečné body mohu případně individuálně udělit za řešení mini domácích úkolů z jednotlivých hodin.\n"
      ]
    },
    {
      "cell_type": "markdown",
      "source": [
        "\n",
        "## Odevzdání\n",
        "\n",
        "Protokol ve formátu Rmd+pdf, nebo jako Jupyter notebook (idealně odkaz na gitlab s možností spustit v Colabu) nejpozději do 1. 11. 2022.\n"
      ],
      "metadata": {
        "id": "2ej6l7-Z9MvJ"
      }
    },
    {
      "cell_type": "markdown",
      "source": [
        "\n",
        "### Předzpracování dat:\n",
        "\n",
        "\n"
      ],
      "metadata": {
        "id": "T9O0WiqW9H6_"
      }
    },
    {
      "cell_type": "code",
      "source": [
        "list_of_packages <- c(\"tidyverse\", \"MASS\",\"GGally\",\"moderndive\")\n",
        "missing_packages <- list_of_packages[!(list_of_packages %in% installed.packages()[,\"Package\"])]\n",
        "missing_packages\n",
        "if(length(missing_packages)) install.packages(missing_packages)\n",
        "lapply(list_of_packages, library, character.only = TRUE)"
      ],
      "metadata": {
        "id": "pF2Kv8_5iB-W"
      },
      "execution_count": null,
      "outputs": []
    },
    {
      "cell_type": "code",
      "source": [
        "? saratoga_houses"
      ],
      "metadata": {
        "id": "JHLFSvP39QgC"
      },
      "execution_count": null,
      "outputs": []
    },
    {
      "cell_type": "markdown",
      "source": [
        "**Data**"
      ],
      "metadata": {
        "id": "UgpskaXd9Q8m"
      }
    },
    {
      "cell_type": "code",
      "source": [
        "head(saratoga_houses)"
      ],
      "metadata": {
        "id": "k8XD6U_R9YUE"
      },
      "execution_count": null,
      "outputs": []
    },
    {
      "cell_type": "markdown",
      "source": [
        "## Otázka 01\n",
        "\n",
        "Zjistěte, zdali data neobsahují chybějící hodnoty *NA*. Pokud ano, tak rozhodněte zdali můžete příslušná pozorování z dat odstranit a proč. Které proměnné jsou kvantitativní a které kvalitativní? Jeli možno některé zařadit do obou skupin, pro kterou byste se rozhodli? Které proměnné je možné pužít jako faktorové ordinální a jaké jako faktorové nominální a proč? Spočtěte základní statistiky pro jednotlivé proměnné."
      ],
      "metadata": {
        "id": "W3OFt9Wq9BWo"
      }
    },
    {
      "cell_type": "markdown",
      "metadata": {
        "id": "b8e8f2b2"
      },
      "source": [
        "### Řešení 01:"
      ]
    },
    {
      "cell_type": "markdown",
      "source": [
        "Aby sme zistili či dáta obsahujú chýbajúce hodnoty, tj. *NA* využijeme funkciu ***summary***. \n",
        "Skontrolujeme charakteristiky pre každú premennú, či sa vo výpise nachádza kategória *NA's*. Vidíme, že premenná *lot_size* postráda 9 hodnôt, čo činí 0.85% dát. Keďže ide o malý počet hodnôt a navyše chýbajú v premennej *lot_size*, teda veľkosť pozemku, pričom v datasetu pozorujeme nekonzistentnosť medzi veľkosťou obytnej plochy a pozemkom (či inými parametrami) a faktom, že ďalej vyberáme podmnožinu na základe *lot_size*, rozhodli sme sa 9 z 1057 pozorovaní odstrániť."
      ],
      "metadata": {
        "id": "JbDgSsGcrYsH"
      }
    },
    {
      "cell_type": "markdown",
      "source": [
        "Za kvantitatívne premenné považujem : **price, living_area, bathrooms, bedrooms, fireplacesm lot_size, age** a za kvalitatívne **fireplace**, zároveň by sme ako kvalitatívne premenné mohli uvažovať aj **bedrooms, bathrooms** či **fireplaces** v ponímaní popisu domu podľa počtu izieb (3kk, 3+1...). Premenné by som ponechala ako kvantitatívne.\n",
        "\n",
        "Za faktorové premenné je možné vziať **bedrooms, bathrooms, fireplaces**, pričom ako ordinálnu by sa dalo uvažovať **bedrooms** a usporiadať od najmenšieho počtu spální po najvyšší."
      ],
      "metadata": {
        "id": "nzE9ymAJmMZS"
      }
    },
    {
      "cell_type": "code",
      "source": [
        "summary(saratoga_houses)"
      ],
      "metadata": {
        "id": "rfglU873Xr44"
      },
      "execution_count": null,
      "outputs": []
    },
    {
      "cell_type": "code",
      "source": [
        "pctmiss <- colSums(is.na(saratoga_houses))/nrow(saratoga_houses)\n",
        "round(pctmiss, 4)"
      ],
      "metadata": {
        "id": "jcfznTwYgjRd"
      },
      "execution_count": null,
      "outputs": []
    },
    {
      "cell_type": "code",
      "source": [
        "library(dplyr)\n",
        "\n",
        "saratoga_houses %>% \n",
        "  filter(if_any(everything(), is.na))"
      ],
      "metadata": {
        "id": "hhQsGwBMlJip"
      },
      "execution_count": null,
      "outputs": []
    },
    {
      "cell_type": "code",
      "source": [
        "sh <- na.omit(saratoga_houses)"
      ],
      "metadata": {
        "id": "3negXD13pamk"
      },
      "execution_count": null,
      "outputs": []
    },
    {
      "cell_type": "code",
      "source": [
        "summary(sh)"
      ],
      "metadata": {
        "id": "YIRP1hleXgQT"
      },
      "execution_count": null,
      "outputs": []
    },
    {
      "cell_type": "markdown",
      "source": [
        "Základné štatistiky vidíme v tabuľke summary, chýbajú nám rozptyly veličín(bez veličiny fireplace), ktoré uvedieme v nasledujúcej bunke:"
      ],
      "metadata": {
        "id": "kujFBP2rXVT_"
      }
    },
    {
      "cell_type": "code",
      "source": [
        "c(var(sh$price), var(sh$living_area),var(sh$bathrooms), var(sh$bedrooms),var(sh$fireplaces),var(sh$lot_size), var(sh$age))"
      ],
      "metadata": {
        "id": "xdQghEh3XUNI"
      },
      "execution_count": null,
      "outputs": []
    },
    {
      "cell_type": "markdown",
      "metadata": {
        "id": "07a085bd"
      },
      "source": [
        "## Otázka 02\n",
        "\n",
        "Chceme koupit nemovitost v zahraničí a průzkumem trhu jsme obdřeli předchozí data set *saratoga_houses*. Jelikož ale máme přesnější požadavky a nerozumíme imperiálním jednotkám, potřebujeme data upravit:\n",
        "\n",
        "* Převeďte cenu nemovitostí z dolarů na koruny v tisících a plochu pozemku a obytnou plochu z akrů a čtverečích stop na $m^2$. (chceck describtion by *? saratoga_houses*) \n",
        "* Vyberte jen nemovitosti starší 10 let a mladší 50 let, jejichž cena je menší než 7500000 Kč, a plocha pozemku je mezi 500 a 5000 $m^2$.\n",
        "* Počet koupelen a počet pokojů převeďte na faktorové proměnné o 3 úrovních."
      ]
    },
    {
      "cell_type": "markdown",
      "source": [
        "**Dále pracujte jen s takto omezeným datasetem a s proměnnýma *cena*, *plocha_obytna*, *plocha_pozemku* *pocet_pokoju*,*stari_domu*, *pocet_koupelen*, *krb*.**"
      ],
      "metadata": {
        "id": "T7p28uQXwxxR"
      }
    },
    {
      "cell_type": "markdown",
      "source": [
        "### Řešení 02:"
      ],
      "metadata": {
        "id": "WCtNNkZwXwu-"
      }
    },
    {
      "cell_type": "markdown",
      "source": [
        "Převeďte cenu nemovitostí z dolarů na koruny v tisících a plochu pozemku a obytnou plochu z akrů a čtverečích stop na $m^2$.\n",
        "\n",
        "-urobíme tak pomocou balíčkov *measurements* a *priceR*:"
      ],
      "metadata": {
        "id": "3x_1-6LwdPEz"
      }
    },
    {
      "cell_type": "code",
      "execution_count": null,
      "metadata": {
        "tags": [
          "remove_input"
        ],
        "id": "ff8d4e91"
      },
      "outputs": [],
      "source": [
        "install.packages(\"measurements\")\n",
        "library(measurements)\n",
        "#conv_unit(x, from, to)\n",
        "\n",
        "install.packages(\"priceR\")\n",
        "library(priceR)\n",
        "#convert_currencies(price_start,  from,  to,  date = lubridate::today(),  floor_unit = \"day\")"
      ]
    },
    {
      "cell_type": "code",
      "source": [
        "sh$living_area=conv_unit(sh$living_area, \"ft2\",\"m2\")\n",
        "sh$lot_size=conv_unit(sh$lot_size, \"acre\",\"m2\")"
      ],
      "metadata": {
        "id": "uZlt1vW8Epgf"
      },
      "execution_count": null,
      "outputs": []
    },
    {
      "cell_type": "code",
      "source": [
        "sh$price=convert_currencies(sh$price,\"USD\", \"CZK\", date = lubridate::today(),  floor_unit = \"day\")"
      ],
      "metadata": {
        "id": "GxMNPB2bMU_B"
      },
      "execution_count": null,
      "outputs": []
    },
    {
      "cell_type": "code",
      "source": [
        "sh$price=sh$price%>% round_up_to_nearest(1000)"
      ],
      "metadata": {
        "id": "9aBRz69vN3lX"
      },
      "execution_count": null,
      "outputs": []
    },
    {
      "cell_type": "code",
      "source": [
        "head(sh)"
      ],
      "metadata": {
        "id": "iKDhUCv6NnMT"
      },
      "execution_count": null,
      "outputs": []
    },
    {
      "cell_type": "markdown",
      "source": [
        "Vyberte jen nemovitosti starší 10 let a mladší 50 let, jejichž cena je menší než 7500000 Kč, a plocha pozemku je mezi 500 a 5000  m2:\n",
        "\n",
        "-učiníme tak pomocou funkcie *subset* a nerovnostných podmienok:"
      ],
      "metadata": {
        "id": "2ylk8h_Dcx2p"
      }
    },
    {
      "cell_type": "code",
      "source": [
        "sh_sel=subset(sh, sh$age>=10 & sh$age<=50 & sh$lot_size>=500 & sh$lot_size<=5000 & sh$price<7500000)"
      ],
      "metadata": {
        "id": "dGH0r1iFQT7F"
      },
      "execution_count": null,
      "outputs": []
    },
    {
      "cell_type": "markdown",
      "source": [
        "Počet koupelen a počet pokojů převeďte na faktorové proměnné o 3 úrovních:"
      ],
      "metadata": {
        "id": "YF3SoaljdD0e"
      }
    },
    {
      "cell_type": "code",
      "source": [
        "sh_sel$pocet_koupelen_f='2-2.5'\n",
        "sh_sel$pocet_koupelen_f[sh_sel$bathrooms<2]='1-1.5'\n",
        "sh_sel$pocet_koupelen_f[sh_sel$bathrooms>=3]='3-3.5'\n",
        "sh_sel$pocet_koupelen_f<-as.factor(sh_sel$pocet_koupelen_f)"
      ],
      "metadata": {
        "id": "tvQeQdUoDnPO"
      },
      "execution_count": null,
      "outputs": []
    },
    {
      "cell_type": "code",
      "source": [
        "sh_sel$pocet_pokoju_f='2-3_stredny'\n",
        "sh_sel$pocet_pokoju_f[sh_sel$bedrooms<2]='1_maly'\n",
        "sh_sel$pocet_pokoju_f[sh_sel$bedrooms>3]='4-5_velky'\n",
        "sh_sel$pocet_pokoju_f<-as.factor(sh_sel$pocet_pokoju_f)"
      ],
      "metadata": {
        "id": "-4Iuls1vEXPk"
      },
      "execution_count": null,
      "outputs": []
    },
    {
      "cell_type": "code",
      "source": [
        "head(sh_sel)"
      ],
      "metadata": {
        "id": "8qCu7VexDGvO"
      },
      "execution_count": null,
      "outputs": []
    },
    {
      "cell_type": "markdown",
      "source": [
        "Na záver 2.úlohy premenujeme premenné do češtiny, podľa zadania vrámci balíčka *dplyr*:"
      ],
      "metadata": {
        "id": "IU014DR7doWQ"
      }
    },
    {
      "cell_type": "code",
      "source": [
        "sh_sel<-sh_sel%>%\n",
        "  rename(cena=price,\n",
        "        plocha_obytna=living_area,\n",
        "        pocet_koupelen=bathrooms,\n",
        "        pocet_pokoju=bedrooms,\n",
        "        pocet_krbu=fireplaces,\n",
        "        plocha_pozemku=lot_size,\n",
        "        stari_domu=age,\n",
        "        krb=fireplace)"
      ],
      "metadata": {
        "id": "jAmQ0K1bGIs1"
      },
      "execution_count": null,
      "outputs": []
    },
    {
      "cell_type": "code",
      "source": [
        "head(sh_sel)"
      ],
      "metadata": {
        "id": "N6Nj7rRsSNGZ"
      },
      "execution_count": null,
      "outputs": []
    },
    {
      "cell_type": "markdown",
      "source": [
        "\n",
        "## Otázka 03 \n",
        "\n",
        "* Porovnejte průměry cen nemovitostí s krbem a bez krbu a otestujte, zdali na hladině významnosti $\\alpha = 0.01$ je průměrná cena nemovitostí s krbem větší než průměrná cena nemovitostí bez krbu."
      ],
      "metadata": {
        "id": "VbFGPpNDMqe_"
      }
    },
    {
      "cell_type": "markdown",
      "source": [
        "### Řešení 03:\n"
      ],
      "metadata": {
        "id": "9e0MooPUX0GJ"
      }
    },
    {
      "cell_type": "markdown",
      "source": [
        "Testujeme hypotézy:\n",
        "\n",
        "$H_0 : μ_{T}> \\mu_{F} $ vs. $H_1 : μ_{T} \t\\leq \\mu_{F} $ , na hladine významnosti $\\alpha = 0.01$\n",
        "\n",
        "*pri značení T - s krbom / F - bez krbu*"
      ],
      "metadata": {
        "id": "L1TO040j_uR0"
      }
    },
    {
      "cell_type": "code",
      "source": [
        "install.packages(\"ggpubr\")\n",
        "library(\"ggpubr\")"
      ],
      "metadata": {
        "id": "zzdJYFltJBpN"
      },
      "execution_count": null,
      "outputs": []
    },
    {
      "cell_type": "code",
      "source": [
        "\n",
        "ggboxplot(sh_sel, x = \"krb\", y = \"cena\", \n",
        "          color = \"krb\", palette = c(\"#00AFBB\", \"#E7B800\"),\n",
        "          ylab = \"cena\", xlab = \"Krb\")"
      ],
      "metadata": {
        "id": "pdDFLVvlIt9V"
      },
      "execution_count": null,
      "outputs": []
    },
    {
      "cell_type": "code",
      "source": [
        "ceny_s_krbom=subset(sh_sel$cena, sh_sel$krb==TRUE)\n",
        "ceny_bez_krbu=subset(sh_sel$cena, sh_sel$krb==FALSE)"
      ],
      "metadata": {
        "id": "wa11wNb6OoXI"
      },
      "execution_count": null,
      "outputs": []
    },
    {
      "cell_type": "code",
      "source": [
        "mean(ceny_s_krbom)\n",
        "mean(ceny_bez_krbu)"
      ],
      "metadata": {
        "id": "O3JXkMS1HP_R"
      },
      "execution_count": null,
      "outputs": []
    },
    {
      "cell_type": "code",
      "source": [
        "# Shapiro-Wilk normality test for Men's weights\n",
        "with(sh_sel, shapiro.test(cena[krb==FALSE]))# p =  0.0001061 < alpha\n",
        "# Shapiro-Wilk normality test for Women's weights\n",
        "with(sh_sel, shapiro.test(cena[krb==TRUE])) # p = 0.007471 < alpha"
      ],
      "metadata": {
        "id": "yJT0Rc3dPuUV"
      },
      "execution_count": null,
      "outputs": []
    },
    {
      "cell_type": "markdown",
      "source": [
        "p-hodnoty Shapiro-Wilkovho twstu vyšli značne menšie, než naša význačná hladina $α$, na základe čoho ďalej pokračujeme s Wilcoxonovým testom."
      ],
      "metadata": {
        "id": "4u9oDQjxQSwU"
      }
    },
    {
      "cell_type": "code",
      "source": [
        "res <- wilcox.test(cena ~ krb, data = sh_sel,\n",
        "                   exact = FALSE)\n",
        "res"
      ],
      "metadata": {
        "id": "wVnMt8fqQ5Vc"
      },
      "execution_count": null,
      "outputs": []
    },
    {
      "cell_type": "markdown",
      "source": [
        "Wilcoxon test aplikujeme podľa dokumentácie [Wilcox.test()](https://www.rdocumentation.org/packages/stats/versions/3.6.2/topics/wilcox.test), kde za alternatívnu hypotézu volíme *alternative = \"greater\"*, teda $H_1: μ_{F}>\\mu_{T}$."
      ],
      "metadata": {
        "id": "fAPbYiBoYSw6"
      }
    },
    {
      "cell_type": "code",
      "source": [
        "wilcox.test(cena ~ krb, data = sh_sel, \n",
        "        exact = FALSE, alternative = \"greater\")"
      ],
      "metadata": {
        "id": "FdQ8vYOw7MCf"
      },
      "execution_count": null,
      "outputs": []
    },
    {
      "cell_type": "markdown",
      "source": [
        "Na základe Wilcoxonovho testu, kde sme skúmali, $H_0$, či sú ceny nehnuteľností bez krbu v priemere nižšie než ceny nehnuteľností s krbom, sme obdržali **p-value=1** a na hladine významnosti **0.01** nemáme dosť dôkazov túto hypotézu zamietnuť."
      ],
      "metadata": {
        "id": "3gthqervSa2n"
      }
    },
    {
      "cell_type": "markdown",
      "metadata": {
        "id": "b1cdb7fa"
      },
      "source": [
        "# Vizualizace dat\n",
        "\n",
        "## Otázka 04 \n",
        "\n",
        "* Vykreslete scatterploty pro všechny numerické proměnné, kde bude barevně rozlišeno, zdali se jedná o nemovitost s krbem, nebo bez krbu.\n",
        "*  Pro proměnné *pocet_pokoju* a *pocet_pater* a *sklep* vykreslete krabicové diagramy (nebo violin ploty), kde odezvou bude *cena*.\n",
        "* Pro proměnnou *cena* vykreslete histogram spolu s jádrovým odhadem hustoty.\n"
      ]
    },
    {
      "cell_type": "code",
      "execution_count": null,
      "metadata": {
        "lines_to_next_cell": 2,
        "tags": [
          "remove_input"
        ],
        "id": "9c6a9986"
      },
      "outputs": [],
      "source": [
        "library(ggplot2)"
      ]
    },
    {
      "cell_type": "code",
      "source": [
        "Vykreslíme príslušné scatterploty"
      ],
      "metadata": {
        "id": "KO7rO775ZiPf"
      },
      "execution_count": null,
      "outputs": []
    },
    {
      "cell_type": "code",
      "source": [
        "ggplot(sh_sel, aes(x=plocha_obytna, y=cena,colour = krb))+\n",
        "  geom_point()+\n",
        "  geom_smooth(method = lm)\n",
        "\n",
        "ggplot(sh_sel, aes(x=plocha_pozemku, y=cena,colour = krb))+\n",
        "  geom_point()+\n",
        "  geom_smooth(method = lm)\n",
        "\n",
        "ggplot(sh_sel, aes(x=stari_domu, y=cena,colour = krb))+\n",
        "  geom_point()+\n",
        "  geom_smooth(method = lm)\n",
        "\n",
        "ggplot(sh_sel, aes(x=pocet_koupelen, y=cena,colour = krb))+\n",
        "  geom_point()+\n",
        "  geom_smooth(method = lm)\n",
        "\n",
        "ggplot(sh_sel, aes(x=pocet_pokoju, y=cena,colour = krb))+\n",
        "  geom_point()+\n",
        "  geom_smooth(method = lm)\n",
        "\n",
        "ggplot(sh_sel, aes(x=pocet_krbu, y=cena,colour = krb))+\n",
        "  geom_point()+\n",
        "  geom_smooth(method = lm)\n",
        "\n",
        "ggplot(sh_sel, aes(x=plocha_obytna, y=plocha_pozemku,colour = krb))+\n",
        "  geom_point()+\n",
        "  geom_smooth(method = lm)\n",
        "\n",
        "ggplot(sh_sel, aes(x=plocha_obytna, y=stari_domu,colour = krb))+\n",
        "  geom_point()+\n",
        "  geom_smooth(method = lm)\n",
        "\n",
        "ggplot(sh_sel, aes(x=plocha_obytna, y=pocet_pokoju,colour = krb))+\n",
        "  geom_point()+\n",
        "  geom_smooth(method = lm)\n",
        "\n",
        "  ggplot(sh_sel, aes(x=plocha_obytna, y=pocet_koupelen,colour = krb))+\n",
        "  geom_point()+\n",
        "  geom_smooth(method = lm)\n",
        "\n",
        "  ggplot(sh_sel, aes(x=plocha_obytna, y=pocet_krbu,colour = krb))+\n",
        "  geom_point()+\n",
        "  geom_smooth(method = lm)\n",
        "\n",
        "  ggplot(sh_sel, aes(x=stari_domu, y=plocha_pozemku,colour = krb))+\n",
        "  geom_point()+\n",
        "  geom_smooth(method = lm)"
      ],
      "metadata": {
        "id": "6tMVTt6vXPOR"
      },
      "execution_count": null,
      "outputs": []
    },
    {
      "cell_type": "markdown",
      "source": [
        "Vykreslíme boxploty pre premennú počet pokojú voči cene "
      ],
      "metadata": {
        "id": "MrqIDWNNcTts"
      }
    },
    {
      "cell_type": "code",
      "source": [
        "\n",
        "#wK<-ggboxplot(sh_sel, x = \"pocet_pokoju\", y = \"cena\", \n",
        " #         color = \"krb\", palette = c(\"#00AFBB\", \"#E7B800\"),\n",
        " #         ylab = \"cena\", xlab = \"Pokoje\")\n",
        "ggboxplot(sh_sel, x = \"pocet_pokoju\", y = \"cena\", \n",
        "          #color = \"krb\", palette = c(\"#00AFBB\", \"#E7B800\"),\n",
        "          ylab = \"cena\", xlab = \"Pokoje\")\n",
        "\n",
        "#ggarrange(wK, woK, labels = c(\"A\", \"B\"),\n",
        "#          common.legend = TRUE, legend = \"bottom\")\n",
        "\n",
        "#ggarrange(wK, woK, \n",
        "#          ncol = 2, nrow = 1,  align = \"hv\", \n",
        "#          widths = c(7, 7), heights = c(2, 2),\n",
        "#         common.legend = TRUE)"
      ],
      "metadata": {
        "id": "rgFk3ufPb8oM"
      },
      "execution_count": null,
      "outputs": []
    },
    {
      "cell_type": "markdown",
      "source": [
        "Premenné *pocet_pater* a *sklep* nemáme. Z dát a dokumentácie *?saratoga_houses* nie je jasné, či šíslo 2 označuje dve kúpeľne alebo kúpeľňu a 2 záchody, rovnako nemáme podklady stavebných inžinierov NYC, aby sme mohli odhadmnúť podobne ako na území SR, že na poschodie je potreba kúpeľňa, preto takýto predpoklad činiť nebudeme."
      ],
      "metadata": {
        "id": "ZZPG6923hLGv"
      }
    },
    {
      "cell_type": "markdown",
      "source": [
        "Posledným bodom teda zostáva vykresliť histogram a preložiť ho jadrovým odhadom:"
      ],
      "metadata": {
        "id": "86DYYtSWnXuY"
      }
    },
    {
      "cell_type": "code",
      "source": [
        "hist(sh_sel$cena, prob = TRUE)                             \n",
        "lines(density(sh_sel$cena, bw = \"sj\"), col = \"blue\")"
      ],
      "metadata": {
        "id": "6WarOPnJcRn0"
      },
      "execution_count": null,
      "outputs": []
    },
    {
      "cell_type": "markdown",
      "metadata": {
        "lines_to_next_cell": 0,
        "id": "cdbffc50"
      },
      "source": [
        "## Otázka 05\n",
        "\n",
        "Pro kombinace faktorizovaných proměnných *pocet_pokoju*, *pocet_koupelen*  vykreslete cenu nemovitosti, aby bylo na obrázku vidět, jestli se v průměru liší ceny nemovitostí majících více pokojů, nebo více koupelen a zdali jsou zastoupeny všechny kombiance všech úrovních pro dvě zmíněné faktorové proměnné."
      ]
    },
    {
      "cell_type": "code",
      "execution_count": null,
      "metadata": {
        "tags": [
          "remove_input"
        ],
        "id": "d5208964"
      },
      "outputs": [],
      "source": [
        "head(sh_sel)"
      ]
    },
    {
      "cell_type": "code",
      "source": [
        "sh_sel$koup_pokoj_f<-as.factor(interaction(sh_sel$pocet_koupelen_f, sh_sel$pocet_pokoju_f))"
      ],
      "metadata": {
        "id": "SxQXQuTB2Hec"
      },
      "execution_count": null,
      "outputs": []
    },
    {
      "cell_type": "code",
      "source": [
        "rozsirene_sh<-sh_sel\n",
        "levels(rozsirene_sh$koup_pokoj_f) <- c(levels(rozsirene_sh$koup_pokoj_f),\"2-2.5.1_maly\")\n",
        "levels(rozsirene_sh$koup_pokoj_f) <- c(levels(rozsirene_sh$koup_pokoj_f),\"3-3.5.1_maly\")\n",
        "\n",
        "rows <- nrow(rozsirene_sh)\n",
        " \n",
        "# inserting row at end\n",
        "rozsirene_sh[rows+1,] <- NA\n",
        "rozsirene_sh[rows+1,ncol(rozsirene_sh)]<-\"2-2.5.1_maly\"\n",
        "\n",
        "rows <- nrow(rozsirene_sh)\n",
        " \n",
        "# inserting row at end\n",
        "rozsirene_sh[rows+1,] <- NA\n",
        "rozsirene_sh[rows+1,ncol(rozsirene_sh)]<-\"3-3.5.1_maly\"\n",
        "\n",
        "\n"
      ],
      "metadata": {
        "id": "B5b6Z3gB4J-A"
      },
      "execution_count": null,
      "outputs": []
    },
    {
      "cell_type": "code",
      "source": [
        "ggboxplot( rozsirene_sh, x = \"koup_pokoj_f\", y = \"cena\", \n",
        "          #color = \"krb\", palette = c(\"#00AFBB\", \"#E7B800\"),\n",
        "          ylab = \"cena\", xlab = \"Pokoje a koupelny\") +stat_summary(fun.y=\"mean\", color=\"red\", shape=15) + coord_flip()\n",
        "\n",
        "\n"
      ],
      "metadata": {
        "id": "s32D0WwyEtjb"
      },
      "execution_count": null,
      "outputs": []
    },
    {
      "cell_type": "code",
      "source": [
        "interaction(sh_sel$pocet_koupelen_f, sh_sel$pocet_pokoju_f)"
      ],
      "metadata": {
        "id": "_NjW713u1bUw"
      },
      "execution_count": null,
      "outputs": []
    },
    {
      "cell_type": "markdown",
      "metadata": {
        "lines_to_next_cell": 0,
        "id": "37583820"
      },
      "source": [
        "## Otázka 06\n",
        "\n",
        "Pro nemovitosti s dvěma ložnicema vykreslete závislost ceny na obytné ploše nemovitosti, kde jednotlivé události označíte barvou podle toho zdali mají krb a velikost bodů v grafu bude odpovídat počtu koupelen (pro tuto úlohu je lepší vzít počet koupelen jako numerickou proměnnou)."
      ]
    },
    {
      "cell_type": "markdown",
      "source": [
        "**Dále pracujte jen s nemovitostmi se dvěma ložnicemi.**"
      ],
      "metadata": {
        "id": "ebaQtBBORiig"
      }
    },
    {
      "cell_type": "code",
      "execution_count": null,
      "metadata": {
        "tags": [
          "remove_input"
        ],
        "id": "c4ba5f59"
      },
      "outputs": [],
      "source": [
        "sh_2bdr=subset(sh_sel, sh_sel$pocet_pokoju==2)"
      ]
    },
    {
      "cell_type": "code",
      "source": [
        "ggplot(data = sh_2bdr, mapping = aes(x = plocha_obytna, y = cena, colour = krb, size = pocet_koupelen)) + \n",
        "    geom_point()\n",
        "\n"
      ],
      "metadata": {
        "id": "YfhHdlQQRerj"
      },
      "execution_count": null,
      "outputs": []
    },
    {
      "cell_type": "markdown",
      "metadata": {
        "id": "51fc7cc4"
      },
      "source": [
        "# Jednoduchý lineární model"
      ]
    },
    {
      "cell_type": "markdown",
      "metadata": {
        "lines_to_next_cell": 0,
        "id": "354a8344"
      },
      "source": [
        "## Otázka 07\n",
        "\n",
        "Sestavte jednoduchý regresní model (s i bez interceptu), kde vysvětlovaná proměnná\n",
        "bude cena nemovitosti a vysvětlující obytná plocha.   Spočtěte pro oba modely $R^2$ a $F$ statistiky, co nám o modelech říkají. Vyberte jeden z nich a zdůvodněte proč ho preferujete.\n",
        "\n",
        "Na základě zvoleného modelu odpovězte, zdali cena nemovitosti závisí na obytné ploše  a pokud ano, o kolik se změní očekávaná cena pro nemovitost s obytnou plochou zvětšenou o $20 m^2$? "
      ]
    },
    {
      "cell_type": "code",
      "source": [],
      "metadata": {
        "id": "vl0CuD4tDI8z"
      },
      "execution_count": null,
      "outputs": []
    },
    {
      "cell_type": "markdown",
      "metadata": {
        "id": "5ac2ca23"
      },
      "source": [
        "## Otázka 08\n",
        "Sestavte jednoduchý linární model jako v předchozí otázce pro nemovitosti s krbem a bez krbu. Jaký model vykazuje silnější linearní vztah mezi cenou a obytnou plochou? O kolik cena s rostoucí obytnou plochou pro nemovitosti s krbem roste rychleji než pro nemovitosti bez krbu?\n",
        "\n",
        "Spočtěte 95% konfidenční intervaly pro regresní koeficienty popisující sklon regresní přímky v obou modelech a zjistěte, zdali se protínají. Co z toho můžeme vyvozovat?\n",
        "\n",
        "Na základě těchto modelů zjistěte o kolik procent bude mít průměrná nemovitost s krbem a obytnou plochou $160m^2$ vyšší očekávanou cenu než průměrná nemovitost o stejné obytné ploše, ale bez krbu."
      ]
    },
    {
      "cell_type": "code",
      "execution_count": null,
      "metadata": {
        "tags": [
          "remove_input"
        ],
        "id": "07ba8268"
      },
      "outputs": [],
      "source": []
    },
    {
      "cell_type": "markdown",
      "metadata": {
        "lines_to_next_cell": 0,
        "id": "11ed78d7"
      },
      "source": [
        "## Otázka 9\n",
        "\n",
        "Vykreslete scatterplot obytné plochy a ceny nemovitostí. Do tohoto grafu vykreslete regresní přímky vybraných modelů pro nemovitosti s krbem a bez něho, jednoltivé body i regresní přímky označte barvou podle toho k jaké skupině přísluší.\n",
        "\n",
        "Sestrojte 90% konfidenční intervaly okolo očekávaných cen pro jednoltivé skupiny a na jejich základě rozhodněte, zdali a jak se očekávané ceny budou lišit pro nemovitosti s obytnou plochou menší než $120m^2$. Je to porovnávání správné? Zdůvoněte."
      ]
    },
    {
      "cell_type": "code",
      "execution_count": null,
      "metadata": {
        "lines_to_next_cell": 2,
        "tags": [
          "remove_input"
        ],
        "id": "9ae5864a"
      },
      "outputs": [],
      "source": []
    },
    {
      "cell_type": "markdown",
      "metadata": {
        "lines_to_next_cell": 0,
        "id": "bfeecac9"
      },
      "source": [
        "## Otázka 10\n",
        "\n",
        "Vykreslete histogramy pro rezidua modelů z předchozí otázky. Proložte je hustotou normálního rozdělení s nulovou střední hodnotou a rozptylem odpovídajícím $\\hat{\\sigma}^2$ z jednotlivých modelů.\n",
        "\n",
        "Co výsledný graf říka o n našich modelech a je toto ověření dostatečné pro validaci model?\n",
        "\n",
        "Navrněte další úpravy modelu za cílem co nejlépe predikvoat cenu nemovitosti."
      ]
    },
    {
      "cell_type": "code",
      "execution_count": null,
      "metadata": {
        "lines_to_next_cell": 0,
        "tags": [
          "remove_input"
        ],
        "id": "c91c49d3"
      },
      "outputs": [],
      "source": []
    },
    {
      "cell_type": "code",
      "source": [],
      "metadata": {
        "id": "ZqoYweDYlHTg"
      },
      "execution_count": null,
      "outputs": []
    }
  ]
}